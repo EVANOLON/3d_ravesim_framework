{
 "cells": [
  {
   "cell_type": "code",
   "execution_count": 1,
   "id": "10ef1c7d",
   "metadata": {},
   "outputs": [],
   "source": [
    "import sys\n",
    "from pathlib import Path\n",
    "import numpy as np\n",
    "import matplotlib.pyplot as plt\n",
    "import math\n",
    "from tqdm import tqdm\n",
    "import os"
   ]
  },
  {
   "cell_type": "code",
   "execution_count": 2,
   "id": "e95f89a6",
   "metadata": {},
   "outputs": [],
   "source": [
    "rave_sim_dir = Path('/mnt/d/rave-sim-main/rave-sim-main')\n",
    "simulations_dir = Path('/mnt/d/rave-sim-main/rave-sim-main/output')\n",
    "scratch_dir = simulations_dir"
   ]
  },
  {
   "cell_type": "code",
   "execution_count": 3,
   "id": "141a157e",
   "metadata": {
    "scrolled": true
   },
   "outputs": [],
   "source": [
    "sys.path.insert(0, str(rave_sim_dir / \"big-wave\"))\n",
    "#print(str(rave_sim_dir / \"big-wave\"))\n",
    "import multisim\n",
    "import config\n",
    "import util"
   ]
  },
  {
   "cell_type": "code",
   "execution_count": 4,
   "id": "d84023e0-ba4d-48da-a22d-b65c817e690a",
   "metadata": {},
   "outputs": [
    {
     "name": "stdout",
     "output_type": "stream",
     "text": [
      "N:  33554432\n"
     ]
    }
   ],
   "source": [
    "config_dict = {\n",
    "    \"sim_params\": {\n",
    "        \"N\": 2**25,\n",
    "        \"dx\": 3.1e-10,\n",
    "        \"z_detector\":4.8,\n",
    "        \"detector_size\": 3e-3,\n",
    "        \"detector_pixel_size_x\": 20e-6,\n",
    "        \"detector_pixel_size_y\": 1,\n",
    "        \"chunk_size\": 256 * 1024 * 1024 // 16,  # use 256MB chunks\n",
    "    },\n",
    "    \"use_disk_vector\": False,\n",
    "    \"save_final_u_vectors\": False,\n",
    "    \"dtype\": \"c8\",\n",
    "    \"multisource\": {\n",
    "        \"type\": \"points\",\n",
    "        \"energy_range\": [9900, 10100],\n",
    "        \"x_range\": [-3e-6, 3e-6],\n",
    "        \"z\": 0.0,\n",
    "        \"nr_source_points\": 20,\n",
    "        \"seed\": 1,\n",
    "        #\"spectrum\": \"/mnt/d/rave-sim-main/rave-sim-main/spectrum/spectrum_25keV.h5\",\n",
    "    },\n",
    "    \"elements\": [\n",
    "        {\n",
    "            \"type\": \"sample\",\n",
    "            \"z_start\": 0.8,\n",
    "            \"pixel_size_x\": 1 * 1e-6,\n",
    "            \"pixel_size_z\": 1 * 1e-6,\n",
    "            \"grid_path\":\"/mnt/d/rave-sim-main/rave-sim-main/grid/double_ring_150_100_35.npy\",\n",
    "            \"materials\": [[\"C\", 1.3],[\"T\", 0.25]],\n",
    "            \"x_positions\":[0],\n",
    "        },\n",
    "    ],\n",
    "}\n",
    "\n",
    "print(\"N: \", config_dict[\"sim_params\"][\"N\"])"
   ]
  },
  {
   "cell_type": "code",
   "execution_count": 5,
   "id": "01fb33c7-f97d-46dc-814e-dcbab8bd2084",
   "metadata": {
    "scrolled": true
   },
   "outputs": [
    {
     "name": "stderr",
     "output_type": "stream",
     "text": [
      "2025-08-16 00:39:17,089 INFO: Setting up simulation\n"
     ]
    },
    {
     "ename": "ValueError",
     "evalue": "'T' is not an element symbol:\nT\n^\n",
     "output_type": "error",
     "traceback": [
      "\u001b[31m---------------------------------------------------------------------------\u001b[39m",
      "\u001b[31mValueError\u001b[39m                                Traceback (most recent call last)",
      "\u001b[36mCell\u001b[39m\u001b[36m \u001b[39m\u001b[32mIn[5]\u001b[39m\u001b[32m, line 1\u001b[39m\n\u001b[32m----> \u001b[39m\u001b[32m1\u001b[39m sim_path = \u001b[43mmultisim\u001b[49m\u001b[43m.\u001b[49m\u001b[43msetup_simulation\u001b[49m\u001b[43m(\u001b[49m\u001b[43mconfig_dict\u001b[49m\u001b[43m,\u001b[49m\u001b[43m \u001b[49m\u001b[43mPath\u001b[49m\u001b[43m(\u001b[49m\u001b[33;43m\"\u001b[39;49m\u001b[33;43m.\u001b[39;49m\u001b[33;43m\"\u001b[39;49m\u001b[43m)\u001b[49m\u001b[43m,\u001b[49m\u001b[43m \u001b[49m\u001b[43msimulations_dir\u001b[49m\u001b[43m)\u001b[49m\n",
      "\u001b[36mFile \u001b[39m\u001b[32m/mnt/d/rave-sim-main/rave-sim-main/big-wave/multisim.py:382\u001b[39m, in \u001b[36msetup_simulation\u001b[39m\u001b[34m(dct, config_dir, save_dir)\u001b[39m\n\u001b[32m    377\u001b[39m sources = (\n\u001b[32m    378\u001b[39m     source_rs.normal(loc=x_range[\u001b[32m0\u001b[39m]/\u001b[32m2\u001b[39m+x_range[\u001b[32m1\u001b[39m]/\u001b[32m2\u001b[39m,scale=(x_range[\u001b[32m1\u001b[39m]-x_range[\u001b[32m0\u001b[39m])/\u001b[32m2\u001b[39m,size=nr_source_points)  \u001b[38;5;66;03m# type: ignore [attr-defined]\u001b[39;00m\n\u001b[32m    379\u001b[39m )\n\u001b[32m    380\u001b[39m \u001b[38;5;28;01mdel\u001b[39;00m rs\n\u001b[32m--> \u001b[39m\u001b[32m382\u001b[39m sub_dcts = \u001b[43m[\u001b[49m\n\u001b[32m    383\u001b[39m \u001b[43m    \u001b[49m\u001b[43m{\u001b[49m\n\u001b[32m    384\u001b[39m \u001b[43m        \u001b[49m\u001b[33;43m\"\u001b[39;49m\u001b[33;43msource\u001b[39;49m\u001b[33;43m\"\u001b[39;49m\u001b[43m:\u001b[49m\u001b[43m \u001b[49m\u001b[43m{\u001b[49m\u001b[33;43m\"\u001b[39;49m\u001b[33;43mtype\u001b[39;49m\u001b[33;43m\"\u001b[39;49m\u001b[43m:\u001b[49m\u001b[43m \u001b[49m\u001b[33;43m\"\u001b[39;49m\u001b[33;43mpoint\u001b[39;49m\u001b[33;43m\"\u001b[39;49m\u001b[43m,\u001b[49m\u001b[43m \u001b[49m\u001b[33;43m\"\u001b[39;49m\u001b[33;43mx\u001b[39;49m\u001b[33;43m\"\u001b[39;49m\u001b[43m:\u001b[49m\u001b[43m \u001b[49m\u001b[38;5;28;43mfloat\u001b[39;49m\u001b[43m(\u001b[49m\u001b[43msources\u001b[49m\u001b[43m[\u001b[49m\u001b[43mi\u001b[49m\u001b[43m]\u001b[49m\u001b[43m)\u001b[49m\u001b[43m,\u001b[49m\u001b[43m \u001b[49m\u001b[33;43m\"\u001b[39;49m\u001b[33;43mz\u001b[39;49m\u001b[33;43m\"\u001b[39;49m\u001b[43m:\u001b[49m\u001b[43m \u001b[49m\u001b[43mz_source\u001b[49m\u001b[43m}\u001b[49m\u001b[43m,\u001b[49m\n\u001b[32m    385\u001b[39m \u001b[43m        \u001b[49m\u001b[33;43m\"\u001b[39;49m\u001b[33;43menergy\u001b[39;49m\u001b[33;43m\"\u001b[39;49m\u001b[43m:\u001b[49m\u001b[43m \u001b[49m\u001b[38;5;28;43mfloat\u001b[39;49m\u001b[43m(\u001b[49m\u001b[43menergies\u001b[49m\u001b[43m[\u001b[49m\u001b[43mi\u001b[49m\u001b[43m]\u001b[49m\u001b[43m)\u001b[49m\u001b[43m,\u001b[49m\n\u001b[32m    386\u001b[39m \u001b[43m        \u001b[49m\u001b[33;43m\"\u001b[39;49m\u001b[33;43mdeltabeta_table\u001b[39;49m\u001b[33;43m\"\u001b[39;49m\u001b[43m:\u001b[49m\u001b[43m \u001b[49m\u001b[43mdeltabeta_table_to_tuples\u001b[49m\u001b[43m(\u001b[49m\n\u001b[32m    387\u001b[39m \u001b[43m            \u001b[49m\u001b[43mgenerate_deltabeta_table\u001b[49m\u001b[43m(\u001b[49m\u001b[43mmaterials\u001b[49m\u001b[43m,\u001b[49m\u001b[43m \u001b[49m\u001b[43menergies\u001b[49m\u001b[43m[\u001b[49m\u001b[43mi\u001b[49m\u001b[43m]\u001b[49m\u001b[43m)\u001b[49m\n\u001b[32m    388\u001b[39m \u001b[43m        \u001b[49m\u001b[43m)\u001b[49m\u001b[43m,\u001b[49m\n\u001b[32m    389\u001b[39m \u001b[43m    \u001b[49m\u001b[43m}\u001b[49m\n\u001b[32m    390\u001b[39m \u001b[43m    \u001b[49m\u001b[38;5;28;43;01mfor\u001b[39;49;00m\u001b[43m \u001b[49m\u001b[43mi\u001b[49m\u001b[43m \u001b[49m\u001b[38;5;129;43;01min\u001b[39;49;00m\u001b[43m \u001b[49m\u001b[38;5;28;43mrange\u001b[39;49m\u001b[43m(\u001b[49m\u001b[43mnr_source_points\u001b[49m\u001b[43m)\u001b[49m\n\u001b[32m    391\u001b[39m \u001b[43m\u001b[49m\u001b[43m]\u001b[49m\n\u001b[32m    393\u001b[39m source_points = [\n\u001b[32m    394\u001b[39m     {\n\u001b[32m    395\u001b[39m         \u001b[33m\"\u001b[39m\u001b[33mx\u001b[39m\u001b[33m\"\u001b[39m: \u001b[38;5;28mfloat\u001b[39m(sources[i]),\n\u001b[32m   (...)\u001b[39m\u001b[32m    399\u001b[39m     \u001b[38;5;28;01mfor\u001b[39;00m i \u001b[38;5;129;01min\u001b[39;00m \u001b[38;5;28mrange\u001b[39m(nr_source_points)\n\u001b[32m    400\u001b[39m ]\n\u001b[32m    402\u001b[39m max_x = \u001b[38;5;28mmax\u001b[39m(\u001b[38;5;28mabs\u001b[39m(x_range[\u001b[32m0\u001b[39m]), \u001b[38;5;28mabs\u001b[39m(x_range[\u001b[32m1\u001b[39m]))\n",
      "\u001b[36mFile \u001b[39m\u001b[32m/mnt/d/rave-sim-main/rave-sim-main/big-wave/multisim.py:387\u001b[39m, in \u001b[36m<listcomp>\u001b[39m\u001b[34m(.0)\u001b[39m\n\u001b[32m    377\u001b[39m sources = (\n\u001b[32m    378\u001b[39m     source_rs.normal(loc=x_range[\u001b[32m0\u001b[39m]/\u001b[32m2\u001b[39m+x_range[\u001b[32m1\u001b[39m]/\u001b[32m2\u001b[39m,scale=(x_range[\u001b[32m1\u001b[39m]-x_range[\u001b[32m0\u001b[39m])/\u001b[32m2\u001b[39m,size=nr_source_points)  \u001b[38;5;66;03m# type: ignore [attr-defined]\u001b[39;00m\n\u001b[32m    379\u001b[39m )\n\u001b[32m    380\u001b[39m \u001b[38;5;28;01mdel\u001b[39;00m rs\n\u001b[32m    382\u001b[39m sub_dcts = [\n\u001b[32m    383\u001b[39m     {\n\u001b[32m    384\u001b[39m         \u001b[33m\"\u001b[39m\u001b[33msource\u001b[39m\u001b[33m\"\u001b[39m: {\u001b[33m\"\u001b[39m\u001b[33mtype\u001b[39m\u001b[33m\"\u001b[39m: \u001b[33m\"\u001b[39m\u001b[33mpoint\u001b[39m\u001b[33m\"\u001b[39m, \u001b[33m\"\u001b[39m\u001b[33mx\u001b[39m\u001b[33m\"\u001b[39m: \u001b[38;5;28mfloat\u001b[39m(sources[i]), \u001b[33m\"\u001b[39m\u001b[33mz\u001b[39m\u001b[33m\"\u001b[39m: z_source},\n\u001b[32m    385\u001b[39m         \u001b[33m\"\u001b[39m\u001b[33menergy\u001b[39m\u001b[33m\"\u001b[39m: \u001b[38;5;28mfloat\u001b[39m(energies[i]),\n\u001b[32m    386\u001b[39m         \u001b[33m\"\u001b[39m\u001b[33mdeltabeta_table\u001b[39m\u001b[33m\"\u001b[39m: deltabeta_table_to_tuples(\n\u001b[32m--> \u001b[39m\u001b[32m387\u001b[39m             \u001b[43mgenerate_deltabeta_table\u001b[49m\u001b[43m(\u001b[49m\u001b[43mmaterials\u001b[49m\u001b[43m,\u001b[49m\u001b[43m \u001b[49m\u001b[43menergies\u001b[49m\u001b[43m[\u001b[49m\u001b[43mi\u001b[49m\u001b[43m]\u001b[49m\u001b[43m)\u001b[49m\n\u001b[32m    388\u001b[39m         ),\n\u001b[32m    389\u001b[39m     }\n\u001b[32m    390\u001b[39m     \u001b[38;5;28;01mfor\u001b[39;00m i \u001b[38;5;129;01min\u001b[39;00m \u001b[38;5;28mrange\u001b[39m(nr_source_points)\n\u001b[32m    391\u001b[39m ]\n\u001b[32m    393\u001b[39m source_points = [\n\u001b[32m    394\u001b[39m     {\n\u001b[32m    395\u001b[39m         \u001b[33m\"\u001b[39m\u001b[33mx\u001b[39m\u001b[33m\"\u001b[39m: \u001b[38;5;28mfloat\u001b[39m(sources[i]),\n\u001b[32m   (...)\u001b[39m\u001b[32m    399\u001b[39m     \u001b[38;5;28;01mfor\u001b[39;00m i \u001b[38;5;129;01min\u001b[39;00m \u001b[38;5;28mrange\u001b[39m(nr_source_points)\n\u001b[32m    400\u001b[39m ]\n\u001b[32m    402\u001b[39m max_x = \u001b[38;5;28mmax\u001b[39m(\u001b[38;5;28mabs\u001b[39m(x_range[\u001b[32m0\u001b[39m]), \u001b[38;5;28mabs\u001b[39m(x_range[\u001b[32m1\u001b[39m]))\n",
      "\u001b[36mFile \u001b[39m\u001b[32m/mnt/d/rave-sim-main/rave-sim-main/big-wave/optical_element.py:561\u001b[39m, in \u001b[36mgenerate_deltabeta_table\u001b[39m\u001b[34m(materials, energy)\u001b[39m\n\u001b[32m    558\u001b[39m table = []\n\u001b[32m    560\u001b[39m \u001b[38;5;28;01mfor\u001b[39;00m m \u001b[38;5;129;01min\u001b[39;00m materials:\n\u001b[32m--> \u001b[39m\u001b[32m561\u001b[39m     db = \u001b[43mxray_delta_beta\u001b[49m\u001b[43m(\u001b[49m\u001b[43mm\u001b[49m\u001b[43m.\u001b[49m\u001b[43mmat\u001b[49m\u001b[43m,\u001b[49m\u001b[43m \u001b[49m\u001b[43mm\u001b[49m\u001b[43m.\u001b[49m\u001b[43mdensity\u001b[49m\u001b[43m,\u001b[49m\u001b[43m \u001b[49m\u001b[43menergy\u001b[49m\u001b[43m)\u001b[49m\n\u001b[32m    562\u001b[39m     table.append((m, (db[\u001b[32m0\u001b[39m] + \u001b[32m1\u001b[39mj * db[\u001b[32m1\u001b[39m])))\n\u001b[32m    564\u001b[39m \u001b[38;5;28;01mreturn\u001b[39;00m table\n",
      "\u001b[36mFile \u001b[39m\u001b[32m~/anaconda3/envs/rave-sim/lib/python3.11/site-packages/nist_lookup/xraydb_plugin.py:164\u001b[39m, in \u001b[36mxray_delta_beta\u001b[39m\u001b[34m(material, density, energy, photo_only, xdb)\u001b[39m\n\u001b[32m    162\u001b[39m lamb_cm = \u001b[32m1.e-8\u001b[39m * PLANCK_HC / energy  \u001b[38;5;66;03m# lambda in cm\u001b[39;00m\n\u001b[32m    163\u001b[39m elements = []\n\u001b[32m--> \u001b[39m\u001b[32m164\u001b[39m \u001b[38;5;28;01mfor\u001b[39;00m symbol, number \u001b[38;5;129;01min\u001b[39;00m \u001b[43mchemparse\u001b[49m\u001b[43m(\u001b[49m\u001b[43mmaterial\u001b[49m\u001b[43m)\u001b[49m.items():\n\u001b[32m    165\u001b[39m     elements.append((number, Scatterer(symbol, energy, xdb)))\n\u001b[32m    167\u001b[39m total_mass, delta, beta_photo, beta_total = \u001b[32m0\u001b[39m, \u001b[32m0\u001b[39m, \u001b[32m0\u001b[39m, \u001b[32m0\u001b[39m\n",
      "\u001b[36mFile \u001b[39m\u001b[32m~/anaconda3/envs/rave-sim/lib/python3.11/site-packages/nist_lookup/chemparser.py:170\u001b[39m, in \u001b[36mchemparse\u001b[39m\u001b[34m(formula)\u001b[39m\n\u001b[32m    149\u001b[39m \u001b[38;5;250m\u001b[39m\u001b[33;03m'''parse a chemical formula to a dictionary of elemental abundances\u001b[39;00m\n\u001b[32m    150\u001b[39m \n\u001b[32m    151\u001b[39m \u001b[33;03m>>> chemparse('Mn(SO4)2(H2O)7)')\u001b[39;00m\n\u001b[32m   (...)\u001b[39m\u001b[32m    167\u001b[39m \u001b[33;03m^\u001b[39;00m\n\u001b[32m    168\u001b[39m \u001b[33;03m'''\u001b[39;00m\n\u001b[32m    169\u001b[39m p = ChemFormulaParser()\n\u001b[32m--> \u001b[39m\u001b[32m170\u001b[39m \u001b[38;5;28;01mreturn\u001b[39;00m \u001b[43mp\u001b[49m\u001b[43m.\u001b[49m\u001b[43mparse\u001b[49m\u001b[43m(\u001b[49m\u001b[43mformula\u001b[49m\u001b[43m)\u001b[49m\n",
      "\u001b[36mFile \u001b[39m\u001b[32m~/anaconda3/envs/rave-sim/lib/python3.11/site-packages/nist_lookup/chemparser.py:112\u001b[39m, in \u001b[36mChemFormulaParser.parse\u001b[39m\u001b[34m(self, formula)\u001b[39m\n\u001b[32m    110\u001b[39m \u001b[38;5;28mself\u001b[39m.tok = Tokenizer(formula)\n\u001b[32m    111\u001b[39m \u001b[38;5;28mself\u001b[39m.tok.gettoken()\n\u001b[32m--> \u001b[39m\u001b[32m112\u001b[39m seq = \u001b[38;5;28;43mself\u001b[39;49m\u001b[43m.\u001b[49m\u001b[43mparse_sequence\u001b[49m\u001b[43m(\u001b[49m\u001b[43m)\u001b[49m\n\u001b[32m    113\u001b[39m \u001b[38;5;28;01mif\u001b[39;00m \u001b[38;5;28mself\u001b[39m.tok.ttype != EOS:\n\u001b[32m    114\u001b[39m     \u001b[38;5;28mself\u001b[39m.tok.error(\u001b[33m\"\u001b[39m\u001b[33mexpected end of input\u001b[39m\u001b[33m\"\u001b[39m)\n",
      "\u001b[36mFile \u001b[39m\u001b[32m~/anaconda3/envs/rave-sim/lib/python3.11/site-packages/nist_lookup/chemparser.py:135\u001b[39m, in \u001b[36mChemFormulaParser.parse_sequence\u001b[39m\u001b[34m(self)\u001b[39m\n\u001b[32m    133\u001b[39m         thisseq = ElementSequence(ELEMENTS[\u001b[38;5;28mself\u001b[39m.tok.tvalue])\n\u001b[32m    134\u001b[39m     \u001b[38;5;28;01melse\u001b[39;00m:\n\u001b[32m--> \u001b[39m\u001b[32m135\u001b[39m         \u001b[38;5;28;43mself\u001b[39;49m\u001b[43m.\u001b[49m\u001b[43mtok\u001b[49m\u001b[43m.\u001b[49m\u001b[43merror\u001b[49m\u001b[43m(\u001b[49m\n\u001b[32m    136\u001b[39m \u001b[43m            \u001b[49m\u001b[33;43m\"\u001b[39;49m\u001b[33;43m'\u001b[39;49m\u001b[33;43m\"\u001b[39;49m\u001b[43m \u001b[49m\u001b[43m+\u001b[49m\u001b[43m \u001b[49m\u001b[38;5;28;43mself\u001b[39;49m\u001b[43m.\u001b[49m\u001b[43mtok\u001b[49m\u001b[43m.\u001b[49m\u001b[43mtvalue\u001b[49m\u001b[43m \u001b[49m\u001b[43m+\u001b[49m\u001b[43m \u001b[49m\u001b[33;43m\"\u001b[39;49m\u001b[33;43m'\u001b[39;49m\u001b[33;43m is not an element symbol\u001b[39;49m\u001b[33;43m\"\u001b[39;49m\u001b[43m)\u001b[49m\n\u001b[32m    137\u001b[39m     \u001b[38;5;28mself\u001b[39m.tok.gettoken()\n\u001b[32m    138\u001b[39m \u001b[38;5;66;03m# followed by optional count\u001b[39;00m\n",
      "\u001b[36mFile \u001b[39m\u001b[32m~/anaconda3/envs/rave-sim/lib/python3.11/site-packages/nist_lookup/chemparser.py:100\u001b[39m, in \u001b[36mTokenizer.error\u001b[39m\u001b[34m(self, msg)\u001b[39m\n\u001b[32m     98\u001b[39m emsg = emsg + \u001b[38;5;28mself\u001b[39m.input[:-\u001b[32m5\u001b[39m] + \u001b[33m\"\u001b[39m\u001b[38;5;130;01m\\n\u001b[39;00m\u001b[33m\"\u001b[39m  \u001b[38;5;66;03m# strip <EOS>\u001b[39;00m\n\u001b[32m     99\u001b[39m emsg = emsg + \u001b[33m\"\u001b[39m\u001b[33m \u001b[39m\u001b[33m\"\u001b[39m * \u001b[38;5;28mself\u001b[39m.lasti + \u001b[33m\"\u001b[39m\u001b[33m^\u001b[39m\u001b[38;5;130;01m\\n\u001b[39;00m\u001b[33m\"\u001b[39m\n\u001b[32m--> \u001b[39m\u001b[32m100\u001b[39m \u001b[38;5;28;01mraise\u001b[39;00m \u001b[38;5;167;01mValueError\u001b[39;00m(emsg)\n",
      "\u001b[31mValueError\u001b[39m: 'T' is not an element symbol:\nT\n^\n"
     ]
    }
   ],
   "source": [
    "sim_path = multisim.setup_simulation(config_dict, Path(\".\"), simulations_dir)"
   ]
  },
  {
   "cell_type": "code",
   "execution_count": 6,
   "id": "4a301c8a-82c2-4fd0-9b46-8eccaab3fbdf",
   "metadata": {},
   "outputs": [],
   "source": [
    "computed = config.load(Path(sim_path / 'computed.yaml'))\n",
    "\n",
    "#print(\"cutoff angles:\", computed['cutoff_angles'])\n",
    "#print(\"source points:\", computed['source_points'])"
   ]
  },
  {
   "cell_type": "code",
   "execution_count": 7,
   "id": "8aa7312e",
   "metadata": {},
   "outputs": [
    {
     "name": "stderr",
     "output_type": "stream",
     "text": [
      "  0%|                                                                                            | 0/20 [00:00<?, ?it/s]"
     ]
    },
    {
     "name": "stdout",
     "output_type": "stream",
     "text": [
      "[2025-08-16 00:14:33.771] [info] Running simulation /mnt/d/rave-sim-main/rave-sim-main/output/2025/08/20250816_001433463794/00000000\n",
      "[2025-08-16 00:14:34.423] [info] Simulating optical element 1/1\n"
     ]
    },
    {
     "name": "stderr",
     "output_type": "stream",
     "text": [
      "  5%|████▏                                                                               | 1/20 [00:04<01:25,  4.52s/it]"
     ]
    },
    {
     "name": "stdout",
     "output_type": "stream",
     "text": [
      "[2025-08-16 00:14:38.144] [info] Elapsed time for optical element: 3434.0198 ms\n",
      "[2025-08-16 00:14:38.166] [info] Simulation finished in 4.395044297 seconds\n",
      "[2025-08-16 00:14:38.270] [info] Running simulation /mnt/d/rave-sim-main/rave-sim-main/output/2025/08/20250816_001433463794/00000001\n",
      "[2025-08-16 00:14:38.579] [info] Simulating optical element 1/1\n"
     ]
    },
    {
     "name": "stderr",
     "output_type": "stream",
     "text": [
      " 10%|████████▍                                                                           | 2/20 [00:08<01:17,  4.31s/it]"
     ]
    },
    {
     "name": "stdout",
     "output_type": "stream",
     "text": [
      "[2025-08-16 00:14:42.299] [info] Elapsed time for optical element: 3434.041 ms\n",
      "[2025-08-16 00:14:42.322] [info] Simulation finished in 4.051951547 seconds\n",
      "[2025-08-16 00:14:42.420] [info] Running simulation /mnt/d/rave-sim-main/rave-sim-main/output/2025/08/20250816_001433463794/00000002\n",
      "[2025-08-16 00:14:42.717] [info] Simulating optical element 1/1\n"
     ]
    },
    {
     "name": "stderr",
     "output_type": "stream",
     "text": [
      " 15%|████████████▌                                                                       | 3/20 [00:12<01:11,  4.23s/it]"
     ]
    },
    {
     "name": "stdout",
     "output_type": "stream",
     "text": [
      "[2025-08-16 00:14:46.437] [info] Elapsed time for optical element: 3433.5972 ms\n",
      "[2025-08-16 00:14:46.460] [info] Simulation finished in 4.039805427 seconds\n",
      "[2025-08-16 00:14:46.561] [info] Running simulation /mnt/d/rave-sim-main/rave-sim-main/output/2025/08/20250816_001433463794/00000003\n",
      "[2025-08-16 00:14:46.865] [info] Simulating optical element 1/1\n"
     ]
    },
    {
     "name": "stderr",
     "output_type": "stream",
     "text": [
      " 20%|████████████████▊                                                                   | 4/20 [00:16<01:07,  4.20s/it]"
     ]
    },
    {
     "name": "stdout",
     "output_type": "stream",
     "text": [
      "[2025-08-16 00:14:50.598] [info] Elapsed time for optical element: 3445.938 ms\n",
      "[2025-08-16 00:14:50.623] [info] Simulation finished in 4.061753912 seconds\n",
      "[2025-08-16 00:14:50.722] [info] Running simulation /mnt/d/rave-sim-main/rave-sim-main/output/2025/08/20250816_001433463794/00000004\n",
      "[2025-08-16 00:14:51.020] [info] Simulating optical element 1/1\n"
     ]
    },
    {
     "name": "stderr",
     "output_type": "stream",
     "text": [
      " 25%|█████████████████████                                                               | 5/20 [00:21<01:02,  4.18s/it]"
     ]
    },
    {
     "name": "stdout",
     "output_type": "stream",
     "text": [
      "[2025-08-16 00:14:54.750] [info] Elapsed time for optical element: 3441.964 ms\n",
      "[2025-08-16 00:14:54.773] [info] Simulation finished in 4.050487198 seconds\n",
      "[2025-08-16 00:14:54.874] [info] Running simulation /mnt/d/rave-sim-main/rave-sim-main/output/2025/08/20250816_001433463794/00000005\n",
      "[2025-08-16 00:14:55.185] [info] Simulating optical element 1/1\n"
     ]
    },
    {
     "name": "stderr",
     "output_type": "stream",
     "text": [
      " 30%|█████████████████████████▏                                                          | 6/20 [00:25<00:58,  4.18s/it]"
     ]
    },
    {
     "name": "stdout",
     "output_type": "stream",
     "text": [
      "[2025-08-16 00:14:58.913] [info] Elapsed time for optical element: 3440.581 ms\n",
      "[2025-08-16 00:14:58.935] [info] Simulation finished in 4.061539167 seconds\n",
      "[2025-08-16 00:14:59.037] [info] Running simulation /mnt/d/rave-sim-main/rave-sim-main/output/2025/08/20250816_001433463794/00000006\n",
      "[2025-08-16 00:14:59.345] [info] Simulating optical element 1/1\n"
     ]
    },
    {
     "name": "stderr",
     "output_type": "stream",
     "text": [
      " 35%|█████████████████████████████▍                                                      | 7/20 [00:29<00:54,  4.17s/it]"
     ]
    },
    {
     "name": "stdout",
     "output_type": "stream",
     "text": [
      "[2025-08-16 00:15:03.075] [info] Elapsed time for optical element: 3442.839 ms\n",
      "[2025-08-16 00:15:03.097] [info] Simulation finished in 4.06017886 seconds\n",
      "[2025-08-16 00:15:03.192] [info] Running simulation /mnt/d/rave-sim-main/rave-sim-main/output/2025/08/20250816_001433463794/00000007\n",
      "[2025-08-16 00:15:03.500] [info] Simulating optical element 1/1\n"
     ]
    },
    {
     "name": "stderr",
     "output_type": "stream",
     "text": [
      " 40%|█████████████████████████████████▌                                                  | 8/20 [00:31<00:40,  3.38s/it]"
     ]
    },
    {
     "name": "stdout",
     "output_type": "stream",
     "text": [
      "[2025-08-16 00:15:04.743] [info] Elapsed time for optical element: 3438.336 ms\n",
      "[2025-08-16 00:15:04.765] [info] Simulation finished in 4.055472513 seconds\n",
      "[2025-08-16 00:15:04.868] [info] Running simulation /mnt/d/rave-sim-main/rave-sim-main/output/2025/08/20250816_001433463794/00000008\n",
      "[2025-08-16 00:15:05.171] [info] Simulating optical element 1/1\n"
     ]
    },
    {
     "name": "stderr",
     "output_type": "stream",
     "text": [
      " 45%|█████████████████████████████████████▊                                              | 9/20 [00:35<00:39,  3.62s/it]"
     ]
    },
    {
     "name": "stdout",
     "output_type": "stream",
     "text": [
      "[2025-08-16 00:15:08.894] [info] Elapsed time for optical element: 3436.493 ms\n",
      "[2025-08-16 00:15:08.916] [info] Simulation finished in 4.048731048 seconds\n",
      "[2025-08-16 00:15:09.015] [info] Running simulation /mnt/d/rave-sim-main/rave-sim-main/output/2025/08/20250816_001433463794/00000009\n",
      "[2025-08-16 00:15:09.325] [info] Simulating optical element 1/1\n"
     ]
    },
    {
     "name": "stderr",
     "output_type": "stream",
     "text": [
      " 50%|█████████████████████████████████████████▌                                         | 10/20 [00:39<00:37,  3.78s/it]"
     ]
    },
    {
     "name": "stdout",
     "output_type": "stream",
     "text": [
      "[2025-08-16 00:15:13.047] [info] Elapsed time for optical element: 3435.498 ms\n",
      "[2025-08-16 00:15:13.070] [info] Simulation finished in 4.055782847 seconds\n",
      "[2025-08-16 00:15:13.174] [info] Running simulation /mnt/d/rave-sim-main/rave-sim-main/output/2025/08/20250816_001433463794/00000010\n",
      "[2025-08-16 00:15:13.484] [info] Simulating optical element 1/1\n"
     ]
    },
    {
     "name": "stderr",
     "output_type": "stream",
     "text": [
      " 55%|█████████████████████████████████████████████▋                                     | 11/20 [00:43<00:35,  3.90s/it]"
     ]
    },
    {
     "name": "stdout",
     "output_type": "stream",
     "text": [
      "[2025-08-16 00:15:17.211] [info] Elapsed time for optical element: 3440.2805 ms\n",
      "[2025-08-16 00:15:17.233] [info] Simulation finished in 4.059369956 seconds\n",
      "[2025-08-16 00:15:17.332] [info] Running simulation /mnt/d/rave-sim-main/rave-sim-main/output/2025/08/20250816_001433463794/00000011\n",
      "[2025-08-16 00:15:17.639] [info] Simulating optical element 1/1\n"
     ]
    },
    {
     "name": "stderr",
     "output_type": "stream",
     "text": [
      " 60%|█████████████████████████████████████████████████▊                                 | 12/20 [00:47<00:31,  3.98s/it]"
     ]
    },
    {
     "name": "stdout",
     "output_type": "stream",
     "text": [
      "[2025-08-16 00:15:21.363] [info] Elapsed time for optical element: 3437.2717 ms\n",
      "[2025-08-16 00:15:21.386] [info] Simulation finished in 4.053404986 seconds\n",
      "[2025-08-16 00:15:21.481] [info] Running simulation /mnt/d/rave-sim-main/rave-sim-main/output/2025/08/20250816_001433463794/00000012\n",
      "[2025-08-16 00:15:21.778] [info] Simulating optical element 1/1\n"
     ]
    },
    {
     "name": "stderr",
     "output_type": "stream",
     "text": [
      " 65%|█████████████████████████████████████████████████████▉                             | 13/20 [00:51<00:28,  4.03s/it]"
     ]
    },
    {
     "name": "stdout",
     "output_type": "stream",
     "text": [
      "[2025-08-16 00:15:25.504] [info] Elapsed time for optical element: 3439.2654 ms\n",
      "[2025-08-16 00:15:25.526] [info] Simulation finished in 4.045755163 seconds\n",
      "[2025-08-16 00:15:25.626] [info] Running simulation /mnt/d/rave-sim-main/rave-sim-main/output/2025/08/20250816_001433463794/00000013\n",
      "[2025-08-16 00:15:25.943] [info] Simulating optical element 1/1\n"
     ]
    },
    {
     "name": "stderr",
     "output_type": "stream",
     "text": [
      " 70%|██████████████████████████████████████████████████████████                         | 14/20 [00:56<00:24,  4.07s/it]"
     ]
    },
    {
     "name": "stdout",
     "output_type": "stream",
     "text": [
      "[2025-08-16 00:15:29.670] [info] Elapsed time for optical element: 3439.5933 ms\n",
      "[2025-08-16 00:15:29.692] [info] Simulation finished in 4.065736531 seconds\n",
      "[2025-08-16 00:15:29.792] [info] Running simulation /mnt/d/rave-sim-main/rave-sim-main/output/2025/08/20250816_001433463794/00000014\n",
      "[2025-08-16 00:15:30.090] [info] Simulating optical element 1/1\n"
     ]
    },
    {
     "name": "stderr",
     "output_type": "stream",
     "text": [
      " 75%|██████████████████████████████████████████████████████████████▎                    | 15/20 [01:00<00:20,  4.09s/it]"
     ]
    },
    {
     "name": "stdout",
     "output_type": "stream",
     "text": [
      "[2025-08-16 00:15:33.818] [info] Elapsed time for optical element: 3440.8848 ms\n",
      "[2025-08-16 00:15:33.840] [info] Simulation finished in 4.048317048 seconds\n",
      "[2025-08-16 00:15:33.935] [info] Running simulation /mnt/d/rave-sim-main/rave-sim-main/output/2025/08/20250816_001433463794/00000015\n",
      "[2025-08-16 00:15:34.241] [info] Simulating optical element 1/1\n"
     ]
    },
    {
     "name": "stderr",
     "output_type": "stream",
     "text": [
      " 80%|██████████████████████████████████████████████████████████████████▍                | 16/20 [01:01<00:13,  3.36s/it]"
     ]
    },
    {
     "name": "stdout",
     "output_type": "stream",
     "text": [
      "[2025-08-16 00:15:35.468] [info] Elapsed time for optical element: 3441.4072 ms\n",
      "[2025-08-16 00:15:35.491] [info] Simulation finished in 4.057849693 seconds\n",
      "[2025-08-16 00:15:35.590] [info] Running simulation /mnt/d/rave-sim-main/rave-sim-main/output/2025/08/20250816_001433463794/00000016\n",
      "[2025-08-16 00:15:35.893] [info] Simulating optical element 1/1\n"
     ]
    },
    {
     "name": "stderr",
     "output_type": "stream",
     "text": [
      " 85%|██████████████████████████████████████████████████████████████████████▌            | 17/20 [01:06<00:10,  3.60s/it]"
     ]
    },
    {
     "name": "stdout",
     "output_type": "stream",
     "text": [
      "[2025-08-16 00:15:39.632] [info] Elapsed time for optical element: 3450.8225 ms\n",
      "[2025-08-16 00:15:39.656] [info] Simulation finished in 4.065659391 seconds\n",
      "[2025-08-16 00:15:39.752] [info] Running simulation /mnt/d/rave-sim-main/rave-sim-main/output/2025/08/20250816_001433463794/00000017\n",
      "[2025-08-16 00:15:40.058] [info] Simulating optical element 1/1\n"
     ]
    },
    {
     "name": "stderr",
     "output_type": "stream",
     "text": [
      " 90%|██████████████████████████████████████████████████████████████████████████▋        | 18/20 [01:10<00:07,  3.77s/it]"
     ]
    },
    {
     "name": "stdout",
     "output_type": "stream",
     "text": [
      "[2025-08-16 00:15:43.785] [info] Elapsed time for optical element: 3439.415 ms\n",
      "[2025-08-16 00:15:43.806] [info] Simulation finished in 4.053493223 seconds\n",
      "[2025-08-16 00:15:43.904] [info] Running simulation /mnt/d/rave-sim-main/rave-sim-main/output/2025/08/20250816_001433463794/00000018\n",
      "[2025-08-16 00:15:44.208] [info] Simulating optical element 1/1\n"
     ]
    },
    {
     "name": "stderr",
     "output_type": "stream",
     "text": [
      " 95%|██████████████████████████████████████████████████████████████████████████████▊    | 19/20 [01:14<00:03,  3.88s/it]"
     ]
    },
    {
     "name": "stdout",
     "output_type": "stream",
     "text": [
      "[2025-08-16 00:15:47.936] [info] Elapsed time for optical element: 3441.3762 ms\n",
      "[2025-08-16 00:15:47.958] [info] Simulation finished in 4.053974414 seconds\n",
      "[2025-08-16 00:15:48.054] [info] Running simulation /mnt/d/rave-sim-main/rave-sim-main/output/2025/08/20250816_001433463794/00000019\n",
      "[2025-08-16 00:15:48.364] [info] Simulating optical element 1/1\n"
     ]
    },
    {
     "name": "stderr",
     "output_type": "stream",
     "text": [
      "100%|███████████████████████████████████████████████████████████████████████████████████| 20/20 [01:18<00:00,  3.92s/it]"
     ]
    },
    {
     "name": "stdout",
     "output_type": "stream",
     "text": [
      "[2025-08-16 00:15:52.093] [info] Elapsed time for optical element: 3441.7407 ms\n",
      "[2025-08-16 00:15:52.115] [info] Simulation finished in 4.060472023 seconds\n"
     ]
    },
    {
     "name": "stderr",
     "output_type": "stream",
     "text": [
      "\n"
     ]
    }
   ],
   "source": [
    "# Run this in a for loop to simulate all source points or\n",
    "# alternatively run the source points as individual euler\n",
    "# jobs\n",
    "#for i in range(20):\n",
    "#    multisim.run_single_simulation(sim_path, i, scratch_dir, save_keypoints_path=scratch_dir)\n",
    "for i in tqdm(range(config_dict[\"multisource\"][\"nr_source_points\"])):\n",
    "    os.system(f\"CUDA_VISIBLE_DEVICES=0 /mnt/d/rave-sim-main/rave-sim-main/fast-wave/build-Release/fastwave -s {i} {sim_path}\")"
   ]
  },
  {
   "cell_type": "code",
   "execution_count": 8,
   "id": "9363befa",
   "metadata": {},
   "outputs": [
    {
     "name": "stdout",
     "output_type": "stream",
     "text": [
      "nr sources loaded: 12\n",
      "nr phase steps: 1\n",
      "nr detector pixels: 150\n"
     ]
    }
   ],
   "source": [
    "wavefronts = util.load_wavefronts_filtered(sim_path, x_range=(-3e-6, 3e-6))\n",
    "print(\"nr sources loaded:\", len(wavefronts))\n",
    "wavef= [result[0] for result in wavefronts]\n",
    "wf = np.sum(wavef, axis=0)\n",
    "print(\"nr phase steps:\", wf.shape[0])\n",
    "print(\"nr detector pixels:\", wf.shape[1])"
   ]
  },
  {
   "cell_type": "code",
   "execution_count": 9,
   "id": "173a4986",
   "metadata": {},
   "outputs": [
    {
     "name": "stdout",
     "output_type": "stream",
     "text": [
      "[9.99586246e-06 1.06563930e-05 1.03761158e-05 1.04716300e-05\n",
      " 1.04723586e-05 1.04501059e-05 1.04800911e-05 1.04858900e-05\n",
      " 1.04939872e-05 1.05118861e-05 1.05700947e-05 1.04984611e-05\n",
      " 1.06754414e-05 1.05703857e-05 1.06152738e-05 1.07074193e-05\n",
      " 1.07837650e-05 1.08164841e-05 1.08031863e-05 1.10453302e-05\n",
      " 1.10623459e-05 1.12397347e-05 1.15126395e-05 1.17123536e-05\n",
      " 1.20943650e-05 1.28609736e-05 1.25619990e-05 1.27937301e-05\n",
      " 2.28420995e-05 8.32784735e-06 9.73897204e-06 7.64010474e-06\n",
      " 8.14870418e-06 7.46205933e-06 8.59354077e-06 9.05946945e-06\n",
      " 9.11802454e-06 8.63606510e-06 8.42547342e-06 9.65829622e-06\n",
      " 9.51185393e-06 1.00658444e-05 8.75906426e-06 4.36913888e-06\n",
      " 1.97153895e-06 8.34156538e-07 2.16550461e-06 1.03456168e-05\n",
      " 1.96365836e-05 1.35972296e-05 1.15918338e-05 1.08428976e-05\n",
      " 1.02793883e-05 1.06649113e-05 1.07698679e-05 9.97139614e-06\n",
      " 1.00349025e-05 1.01108553e-05 1.07263049e-05 1.01915157e-05\n",
      " 9.75194598e-06 1.03468274e-05 1.11200634e-05 7.26562212e-06\n",
      " 4.55965392e-06 6.17540763e-06 1.20950763e-05 1.48390800e-05\n",
      " 1.11597856e-05 1.09643324e-05 1.01711667e-05 1.06191319e-05\n",
      " 1.08200320e-05 1.10661431e-05 1.01896931e-05 1.03983348e-05\n",
      " 1.06334483e-05 1.12678172e-05 1.04679057e-05 1.02645445e-05\n",
      " 1.09048260e-05 1.06322477e-05 1.40981028e-05 1.36543240e-05\n",
      " 7.37970140e-06 4.63938795e-06 6.10315783e-06 1.04790843e-05\n",
      " 1.07535370e-05 9.67559026e-06 1.01807700e-05 1.05581985e-05\n",
      " 1.04170804e-05 9.92392688e-06 1.00500029e-05 1.04294759e-05\n",
      " 1.08231216e-05 1.02921049e-05 1.07043979e-05 1.18673333e-05\n",
      " 1.16353194e-05 1.91891922e-05 1.38598280e-05 3.52560414e-06\n",
      " 7.25128530e-07 1.55778105e-06 3.62381934e-06 7.48663388e-06\n",
      " 1.02864269e-05 9.39555957e-06 9.99690747e-06 8.44413262e-06\n",
      " 8.46961666e-06 9.30021270e-06 8.85524514e-06 8.96991878e-06\n",
      " 7.79981383e-06 8.46016701e-06 7.13150075e-06 1.17441587e-05\n",
      " 7.51893594e-06 2.18116984e-05 1.76112371e-05 1.29984210e-05\n",
      " 1.14660443e-05 1.17592745e-05 1.10303772e-05 1.06859170e-05\n",
      " 1.06602374e-05 1.07002861e-05 1.05176914e-05 1.05324634e-05\n",
      " 1.04696510e-05 1.04649471e-05 1.04766996e-05 1.04770133e-05\n",
      " 1.04980936e-05 1.04257206e-05 1.04781320e-05 1.04325836e-05\n",
      " 1.04698656e-05 1.04538676e-05 1.04385572e-05 1.04396804e-05\n",
      " 1.04427927e-05 1.04230612e-05 1.05663121e-05 1.03501152e-05\n",
      " 1.07674496e-05 9.46573618e-06]\n",
      "[-1.48e-03 -1.46e-03 -1.44e-03 -1.42e-03 -1.40e-03 -1.38e-03 -1.36e-03\n",
      " -1.34e-03 -1.32e-03 -1.30e-03 -1.28e-03 -1.26e-03 -1.24e-03 -1.22e-03\n",
      " -1.20e-03 -1.18e-03 -1.16e-03 -1.14e-03 -1.12e-03 -1.10e-03 -1.08e-03\n",
      " -1.06e-03 -1.04e-03 -1.02e-03 -1.00e-03 -9.80e-04 -9.60e-04 -9.40e-04\n",
      " -9.20e-04 -9.00e-04 -8.80e-04 -8.60e-04 -8.40e-04 -8.20e-04 -8.00e-04\n",
      " -7.80e-04 -7.60e-04 -7.40e-04 -7.20e-04 -7.00e-04 -6.80e-04 -6.60e-04\n",
      " -6.40e-04 -6.20e-04 -6.00e-04 -5.80e-04 -5.60e-04 -5.40e-04 -5.20e-04\n",
      " -5.00e-04 -4.80e-04 -4.60e-04 -4.40e-04 -4.20e-04 -4.00e-04 -3.80e-04\n",
      " -3.60e-04 -3.40e-04 -3.20e-04 -3.00e-04 -2.80e-04 -2.60e-04 -2.40e-04\n",
      " -2.20e-04 -2.00e-04 -1.80e-04 -1.60e-04 -1.40e-04 -1.20e-04 -1.00e-04\n",
      " -8.00e-05 -6.00e-05 -4.00e-05 -2.00e-05  0.00e+00  2.00e-05  4.00e-05\n",
      "  6.00e-05  8.00e-05  1.00e-04  1.20e-04  1.40e-04  1.60e-04  1.80e-04\n",
      "  2.00e-04  2.20e-04  2.40e-04  2.60e-04  2.80e-04  3.00e-04  3.20e-04\n",
      "  3.40e-04  3.60e-04  3.80e-04  4.00e-04  4.20e-04  4.40e-04  4.60e-04\n",
      "  4.80e-04  5.00e-04  5.20e-04  5.40e-04  5.60e-04  5.80e-04  6.00e-04\n",
      "  6.20e-04  6.40e-04  6.60e-04  6.80e-04  7.00e-04  7.20e-04  7.40e-04\n",
      "  7.60e-04  7.80e-04  8.00e-04  8.20e-04  8.40e-04  8.60e-04  8.80e-04\n",
      "  9.00e-04  9.20e-04  9.40e-04  9.60e-04  9.80e-04  1.00e-03  1.02e-03\n",
      "  1.04e-03  1.06e-03  1.08e-03  1.10e-03  1.12e-03  1.14e-03  1.16e-03\n",
      "  1.18e-03  1.20e-03  1.22e-03  1.24e-03  1.26e-03  1.28e-03  1.30e-03\n",
      "  1.32e-03  1.34e-03  1.36e-03  1.38e-03  1.40e-03  1.42e-03  1.44e-03\n",
      "  1.46e-03  1.48e-03]\n"
     ]
    },
    {
     "data": {
      "image/png": "[encoded data removed]",
      "text/plain": [
       "<Figure size 640x480 with 1 Axes>"
      ]
     },
     "metadata": {},
     "output_type": "display_data"
    }
   ],
   "source": [
    "sp = config_dict[\"sim_params\"]\n",
    "detector_x = util.detector_x_vector(sp[\"detector_size\"], sp[\"detector_pixel_size_x\"])\n",
    "plt.plot(wf[0])\n",
    "print(wf[0])\n",
    "print(detector_x)"
   ]
  },
  {
   "cell_type": "markdown",
   "id": "fbe420b4",
   "metadata": {},
   "source": [
    "## History\n",
    "\n",
    "To see the interference pattern in empty space, we can record slices throughout the simulation and then plot them. `run_single_simulation` takes an optional argument `history_dz` defining the resolution with which we record the history.\n",
    "\n",
    "Note that the history is not necessarily recorded with a constant z-spacing. Inside gratings and samples, one slice is recorded for every step. The history also records a list of z-coordinates at which the slices were recorded, which we can use for plotting."
   ]
  },
  {
   "cell_type": "code",
   "execution_count": null,
   "id": "93e5ce0a",
   "metadata": {},
   "outputs": [],
   "source": [
    "multisim.run_single_simulation(sim_path, 1, scratch_dir, save_keypoints_path=None, history_dz=0.02)"
   ]
  },
  {
   "cell_type": "code",
   "execution_count": null,
   "id": "26a67a4e",
   "metadata": {},
   "outputs": [],
   "source": [
    "# Path to the directory for the source with index 1\n",
    "source_dir = multisim.get_sub_dir(sim_path, 1)\n",
    "\n",
    "hist_x = np.load(source_dir / \"history_x.npy\")\n",
    "hist_z = np.load(source_dir / \"history_z.npy\")\n",
    "hist = np.load(source_dir / \"history.npy\")\n",
    "plt.pcolormesh(\n",
    "    hist_z,\n",
    "    hist_x,\n",
    "    hist,\n",
    "    cmap=\"Greys_r\",\n",
    "    vmin=0,\n",
    "    vmax=1e-6,\n",
    "    shading=\"nearest\",\n",
    ")\n",
    "plt.xlabel(\"z (m)\")\n",
    "plt.ylabel(\"x (m)\")"
   ]
  },
  {
   "cell_type": "code",
   "execution_count": null,
   "id": "1933f7ee-a108-4f53-b532-0040f4abcc7f",
   "metadata": {},
   "outputs": [],
   "source": []
  },
  {
   "cell_type": "code",
   "execution_count": null,
   "id": "911872bd-d9c4-4c14-802c-d09c858243c9",
   "metadata": {},
   "outputs": [],
   "source": []
  }
 ],
 "metadata": {
  "kernelspec": {
   "display_name": "Python 3 (ipykernel)",
   "language": "python",
   "name": "python3"
  },
  "language_info": {
   "codemirror_mode": {
    "name": "ipython",
    "version": 3
   },
   "file_extension": ".py",
   "mimetype": "text/x-python",
   "name": "python",
   "nbconvert_exporter": "python",
   "pygments_lexer": "ipython3",
   "version": "3.11.9"
  }
 },
 "nbformat": 4,
 "nbformat_minor": 5
}
