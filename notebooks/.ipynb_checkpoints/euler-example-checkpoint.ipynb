{
 "cells": [
  {
   "cell_type": "markdown",
   "id": "5fa39506",
   "metadata": {},
   "source": [
    "# Running on Euler Example\n",
    "\n",
    "First set up the environment as described in `big-wave/Readme.md`, and then remember to update the path to the `rave-sim` directory and the desired simulation output directory below.\n",
    "\n",
    "The `$SCRATCH` variable available on Euler is [intended for such data](https://scicomp.ethz.ch/wiki/Storage_systems#Personal_storage_.28everyone.29), ideally a subdirectory of `$SCRATCH` is used.\n",
    "\n",
    "During an out-of-core simulation we read and write to the same files many times, so ideally we want to select a directory that is on the same node as where we run the code. For this purpose, SLURM provides the [local scratch directory](https://scicomp.ethz.ch/wiki/Using_local_scratch). We configure the required space via `--tmp={required_scratch_megs}` and then get the path through `$TMPDIR`.\n",
    "\n",
    "We generate a `slurm-job.sh` script which can be launched with `sbatch`. The job uses a [job array](https://scicomp.ethz.ch/wiki/Job_arrays) with one task per source point."
   ]
  },
  {
   "cell_type": "code",
   "execution_count": 1,
   "id": "3380fd9f-fe1a-441b-a94c-57defa74e218",
   "metadata": {},
   "outputs": [],
   "source": [
    "import os\n",
    "import sys\n",
    "from pathlib import Path\n",
    "import numpy as np\n",
    "import matplotlib.pyplot as plt"
   ]
  },
  {
   "cell_type": "code",
   "execution_count": 2,
   "id": "e95f89a6",
   "metadata": {},
   "outputs": [],
   "source": [
    "rave_sim_dir = \"/mnt/e/rave-sim-main/rave-sim-main\"\n",
    "simulations_dir = Path(os.environ.get(\"SCRATCH\") or \"/tmp\") / \"simulations\"\n",
    "simulations_dir.mkdir(exist_ok=True)"
   ]
  },
  {
   "cell_type": "code",
   "execution_count": 3,
   "id": "141a157e",
   "metadata": {},
   "outputs": [
    {
     "ename": "ModuleNotFoundError",
     "evalue": "No module named 'util'",
     "output_type": "error",
     "traceback": [
      "\u001b[31m---------------------------------------------------------------------------\u001b[39m",
      "\u001b[31mModuleNotFoundError\u001b[39m                       Traceback (most recent call last)",
      "\u001b[36mCell\u001b[39m\u001b[36m \u001b[39m\u001b[32mIn[3]\u001b[39m\u001b[32m, line 3\u001b[39m\n\u001b[32m      1\u001b[39m sys.path.insert(\u001b[32m0\u001b[39m, \u001b[33m\"\u001b[39m\u001b[33mE:/rave-sim-main/rave-sim-main/big-wave\u001b[39m\u001b[33m\"\u001b[39m)\n\u001b[32m      2\u001b[39m \u001b[38;5;28;01mimport\u001b[39;00m\u001b[38;5;250m \u001b[39m\u001b[34;01mmultisim\u001b[39;00m\n\u001b[32m----> \u001b[39m\u001b[32m3\u001b[39m \u001b[38;5;28;01mimport\u001b[39;00m\u001b[38;5;250m \u001b[39m\u001b[34;01mutil\u001b[39;00m\n",
      "\u001b[31mModuleNotFoundError\u001b[39m: No module named 'util'"
     ]
    }
   ],
   "source": [
    "sys.path.insert(0, \"/mnt/e/rave-sim-main/rave-sim-main/big-wave\")\n",
    "print(sys.path)\n",
    "import multisim\n",
    "import util"
   ]
  },
  {
   "cell_type": "code",
   "execution_count": 4,
   "id": "d84023e0-ba4d-48da-a22d-b65c817e690a",
   "metadata": {},
   "outputs": [
    {
     "name": "stdout",
     "output_type": "stream",
     "text": [
      "N:  16777216\n"
     ]
    }
   ],
   "source": [
    "config_dict = {\n",
    "    \"sim_params\": {\n",
    "        \"N\": 2**24,\n",
    "        \"dx\": 3.1e-10,\n",
    "        \"z_detector\": 1.77,\n",
    "        \"detector_size\": 1e-3,\n",
    "        \"detector_pixel_size\": 75e-6,\n",
    "        \"chunk_size\": 256 * 1024 * 1024 // 16,  # use 256MB chunks\n",
    "    },\n",
    "    \"use_disk_vector\": True,\n",
    "    \"save_final_u_vectors\": False,\n",
    "    \"multisource\": {\n",
    "        \"type\": \"points\",\n",
    "        \"energy_range\": [46000.0, 47000.0],\n",
    "        \"x_range\": [-1e-6, 1e-6],\n",
    "        \"z\": 0.0,\n",
    "        \"nr_source_points\": 12,\n",
    "        \"seed\": 1,\n",
    "    },\n",
    "    \"elements\": [\n",
    "        {\n",
    "            \"type\": \"grating\",\n",
    "            \"pitch\": 4.2e-6,\n",
    "            \"dc\": [0.5, 0.5],\n",
    "            \"z_start\": 0.1,\n",
    "            \"thickness\": 140e-6,\n",
    "            \"nr_steps\": 10,\n",
    "            \"x_positions\": [0.0],\n",
    "            \"substrate_thickness\": (370 - 140) * 1e-6,\n",
    "            \"mat_a\": [\"Si\", 2.34],\n",
    "            \"mat_b\": [\"Au\", 19.32],\n",
    "            \"mat_substrate\": [\"Si\", 2.34],\n",
    "        },\n",
    "        {\n",
    "            \"type\": \"grating\",\n",
    "            \"pitch\": 4.2e-6,\n",
    "            \"dc\": [0.5, 0.5],\n",
    "            \"z_start\": 0.918,\n",
    "            \"thickness\": 59e-6,\n",
    "            \"nr_steps\": 10,\n",
    "            \"x_positions\": [0.0],\n",
    "            \"substrate_thickness\": (200 - 59) * 1e-6,\n",
    "            \"mat_a\": [\"Si\", 2.34],\n",
    "            \"mat_b\": None,\n",
    "            \"mat_substrate\": [\"Si\", 2.34],\n",
    "        },\n",
    "        {\n",
    "            \"type\": \"grating\",\n",
    "            \"pitch\": 4.2e-6,\n",
    "            \"dc\": [0.5, 0.5],\n",
    "            \"z_start\": 1.736,\n",
    "            \"thickness\": 154e-6,\n",
    "            \"nr_steps\": 10,\n",
    "            \"x_positions\": (np.arange(5) * 4.2e-6).tolist(),\n",
    "            \"substrate_thickness\": (370 - 154) * 1e-6,\n",
    "            \"mat_a\": [\"Si\", 2.34],\n",
    "            \"mat_b\": [\"Au\", 19.32],\n",
    "            \"mat_substrate\": [\"Si\", 2.34],\n",
    "        },\n",
    "    ],\n",
    "}\n",
    "\n",
    "print(\"N: \", config_dict[\"sim_params\"][\"N\"])"
   ]
  },
  {
   "cell_type": "code",
   "execution_count": 5,
   "id": "0e6440ec",
   "metadata": {},
   "outputs": [
    {
     "name": "stderr",
     "output_type": "stream",
     "text": [
      "2025-05-26 16:19:17,119 INFO: Setting up simulation\n"
     ]
    },
    {
     "ename": "KeyError",
     "evalue": "\"path 'detector_pixel_size_x' does not exist\"",
     "output_type": "error",
     "traceback": [
      "\u001b[31m---------------------------------------------------------------------------\u001b[39m",
      "\u001b[31mKeyError\u001b[39m                                  Traceback (most recent call last)",
      "\u001b[36mFile \u001b[39m\u001b[32m/mnt/e/rave-sim-main/rave-sim-main/notebooks/config.py:26\u001b[39m, in \u001b[36mget_float\u001b[39m\u001b[34m(dct, path)\u001b[39m\n\u001b[32m     25\u001b[39m \u001b[38;5;28;01mtry\u001b[39;00m:\n\u001b[32m---> \u001b[39m\u001b[32m26\u001b[39m     val = \u001b[43mfunctools\u001b[49m\u001b[43m.\u001b[49m\u001b[43mreduce\u001b[49m\u001b[43m(\u001b[49m\u001b[38;5;28;43;01mlambda\u001b[39;49;00m\u001b[43m \u001b[49m\u001b[43md\u001b[49m\u001b[43m,\u001b[49m\u001b[43m \u001b[49m\u001b[43mk\u001b[49m\u001b[43m:\u001b[49m\u001b[43m \u001b[49m\u001b[43md\u001b[49m\u001b[43m[\u001b[49m\u001b[43mk\u001b[49m\u001b[43m]\u001b[49m\u001b[43m,\u001b[49m\u001b[43m \u001b[49m\u001b[43mpath\u001b[49m\u001b[43m,\u001b[49m\u001b[43m \u001b[49m\u001b[43mdct\u001b[49m\u001b[43m)\u001b[49m\n\u001b[32m     27\u001b[39m \u001b[38;5;28;01mexcept\u001b[39;00m \u001b[38;5;167;01mKeyError\u001b[39;00m:\n",
      "\u001b[36mFile \u001b[39m\u001b[32m/mnt/e/rave-sim-main/rave-sim-main/notebooks/config.py:26\u001b[39m, in \u001b[36mget_float.<locals>.<lambda>\u001b[39m\u001b[34m(d, k)\u001b[39m\n\u001b[32m     25\u001b[39m \u001b[38;5;28;01mtry\u001b[39;00m:\n\u001b[32m---> \u001b[39m\u001b[32m26\u001b[39m     val = functools.reduce(\u001b[38;5;28;01mlambda\u001b[39;00m d, k: \u001b[43md\u001b[49m\u001b[43m[\u001b[49m\u001b[43mk\u001b[49m\u001b[43m]\u001b[49m, path, dct)\n\u001b[32m     27\u001b[39m \u001b[38;5;28;01mexcept\u001b[39;00m \u001b[38;5;167;01mKeyError\u001b[39;00m:\n",
      "\u001b[31mKeyError\u001b[39m: 'detector_pixel_size_x'",
      "\nDuring handling of the above exception, another exception occurred:\n",
      "\u001b[31mKeyError\u001b[39m                                  Traceback (most recent call last)",
      "\u001b[36mCell\u001b[39m\u001b[36m \u001b[39m\u001b[32mIn[5]\u001b[39m\u001b[32m, line 1\u001b[39m\n\u001b[32m----> \u001b[39m\u001b[32m1\u001b[39m sim_path = \u001b[43mmultisim\u001b[49m\u001b[43m.\u001b[49m\u001b[43msetup_simulation\u001b[49m\u001b[43m(\u001b[49m\u001b[43mconfig_dict\u001b[49m\u001b[43m,\u001b[49m\u001b[43m \u001b[49m\u001b[43mPath\u001b[49m\u001b[43m(\u001b[49m\u001b[33;43m\"\u001b[39;49m\u001b[33;43m.\u001b[39;49m\u001b[33;43m\"\u001b[39;49m\u001b[43m)\u001b[49m\u001b[43m,\u001b[49m\u001b[43m \u001b[49m\u001b[43msimulations_dir\u001b[49m\u001b[43m)\u001b[49m\n",
      "\u001b[36mFile \u001b[39m\u001b[32m/mnt/e/rave-sim-main/rave-sim-main/notebooks/multisim.py:312\u001b[39m, in \u001b[36msetup_simulation\u001b[39m\u001b[34m(dct, config_dir, save_dir)\u001b[39m\n\u001b[32m    309\u001b[39m \u001b[38;5;28;01mif\u001b[39;00m \u001b[38;5;129;01mnot\u001b[39;00m \u001b[38;5;28misinstance\u001b[39m(save_dir, Path):\n\u001b[32m    310\u001b[39m     save_dir = Path(save_dir)\n\u001b[32m--> \u001b[39m\u001b[32m312\u001b[39m sim_params = \u001b[43mconfig\u001b[49m\u001b[43m.\u001b[49m\u001b[43mparse_sim_params\u001b[49m\u001b[43m(\u001b[49m\u001b[43mdct\u001b[49m\u001b[43m[\u001b[49m\u001b[33;43m\"\u001b[39;49m\u001b[33;43msim_params\u001b[39;49m\u001b[33;43m\"\u001b[39;49m\u001b[43m]\u001b[49m\u001b[43m)\u001b[49m\n\u001b[32m    313\u001b[39m elements = [config.parse_optical_element(el, config_dir) \u001b[38;5;28;01mfor\u001b[39;00m el \u001b[38;5;129;01min\u001b[39;00m dct[\u001b[33m\"\u001b[39m\u001b[33melements\u001b[39m\u001b[33m\"\u001b[39m]]\n\u001b[32m    315\u001b[39m source_points: \u001b[38;5;28mlist\u001b[39m[config.DictType]\n",
      "\u001b[36mFile \u001b[39m\u001b[32m/mnt/e/rave-sim-main/rave-sim-main/notebooks/config.py:51\u001b[39m, in \u001b[36mparse_sim_params\u001b[39m\u001b[34m(dct)\u001b[39m\n\u001b[32m     45\u001b[39m \u001b[38;5;28;01mdef\u001b[39;00m\u001b[38;5;250m \u001b[39m\u001b[34mparse_sim_params\u001b[39m(dct: DictType) -> propagation.SimParams:\n\u001b[32m     46\u001b[39m     \u001b[38;5;28;01mreturn\u001b[39;00m propagation.SimParams(\n\u001b[32m     47\u001b[39m         N=get_int(dct, [\u001b[33m\"\u001b[39m\u001b[33mN\u001b[39m\u001b[33m\"\u001b[39m]),\n\u001b[32m     48\u001b[39m         dx=get_float(dct, [\u001b[33m\"\u001b[39m\u001b[33mdx\u001b[39m\u001b[33m\"\u001b[39m]),\n\u001b[32m     49\u001b[39m         z_detector=get_float(dct, [\u001b[33m\"\u001b[39m\u001b[33mz_detector\u001b[39m\u001b[33m\"\u001b[39m]),\n\u001b[32m     50\u001b[39m         detector_size=get_float(dct, [\u001b[33m\"\u001b[39m\u001b[33mdetector_size\u001b[39m\u001b[33m\"\u001b[39m]),\n\u001b[32m---> \u001b[39m\u001b[32m51\u001b[39m         detector_pixel_size_x=\u001b[43mget_float\u001b[49m\u001b[43m(\u001b[49m\u001b[43mdct\u001b[49m\u001b[43m,\u001b[49m\u001b[43m \u001b[49m\u001b[43m[\u001b[49m\u001b[33;43m\"\u001b[39;49m\u001b[33;43mdetector_pixel_size_x\u001b[39;49m\u001b[33;43m\"\u001b[39;49m\u001b[43m]\u001b[49m\u001b[43m)\u001b[49m,\n\u001b[32m     52\u001b[39m         detector_pixel_size_y=get_float(dct, [\u001b[33m\"\u001b[39m\u001b[33mdetector_pixel_size_y\u001b[39m\u001b[33m\"\u001b[39m]),\n\u001b[32m     53\u001b[39m         wl=\u001b[32m0.0\u001b[39m,  \u001b[38;5;66;03m# the wavelength might differ for individual sources so we don't parse that here yet\u001b[39;00m\n\u001b[32m     54\u001b[39m         chunk_size=get_int(dct, [\u001b[33m\"\u001b[39m\u001b[33mchunk_size\u001b[39m\u001b[33m\"\u001b[39m]),\n\u001b[32m     55\u001b[39m     )\n",
      "\u001b[36mFile \u001b[39m\u001b[32m/mnt/e/rave-sim-main/rave-sim-main/notebooks/config.py:28\u001b[39m, in \u001b[36mget_float\u001b[39m\u001b[34m(dct, path)\u001b[39m\n\u001b[32m     26\u001b[39m     val = functools.reduce(\u001b[38;5;28;01mlambda\u001b[39;00m d, k: d[k], path, dct)\n\u001b[32m     27\u001b[39m \u001b[38;5;28;01mexcept\u001b[39;00m \u001b[38;5;167;01mKeyError\u001b[39;00m:\n\u001b[32m---> \u001b[39m\u001b[32m28\u001b[39m     \u001b[38;5;28;01mraise\u001b[39;00m \u001b[38;5;167;01mKeyError\u001b[39;00m(\u001b[33mf\u001b[39m\u001b[33m\"\u001b[39m\u001b[33mpath \u001b[39m\u001b[33m'\u001b[39m\u001b[38;5;132;01m{\u001b[39;00mpathname\u001b[38;5;132;01m}\u001b[39;00m\u001b[33m'\u001b[39m\u001b[33m does not exist\u001b[39m\u001b[33m\"\u001b[39m)\n\u001b[32m     30\u001b[39m \u001b[38;5;28;01massert\u001b[39;00m \u001b[38;5;28misinstance\u001b[39m(val, (\u001b[38;5;28mfloat\u001b[39m, \u001b[38;5;28mint\u001b[39m)), \u001b[33mf\u001b[39m\u001b[33m\"\u001b[39m\u001b[33mentry \u001b[39m\u001b[33m'\u001b[39m\u001b[38;5;132;01m{\u001b[39;00mpathname\u001b[38;5;132;01m}\u001b[39;00m\u001b[33m'\u001b[39m\u001b[33m must be a float\u001b[39m\u001b[33m\"\u001b[39m\n\u001b[32m     31\u001b[39m \u001b[38;5;28;01mreturn\u001b[39;00m \u001b[38;5;28mfloat\u001b[39m(val)\n",
      "\u001b[31mKeyError\u001b[39m: \"path 'detector_pixel_size_x' does not exist\""
     ]
    }
   ],
   "source": [
    "sim_path = multisim.setup_simulation(config_dict, Path(\".\"), simulations_dir)"
   ]
  },
  {
   "cell_type": "code",
   "execution_count": 6,
   "id": "01fb33c7-f97d-46dc-814e-dcbab8bd2084",
   "metadata": {},
   "outputs": [
    {
     "name": "stdout",
     "output_type": "stream",
     "text": [
      "Run the following command in a shell from the big-wave directory.\n",
      "Make sure that an apropriate python environment activated.\n",
      "\n"
     ]
    },
    {
     "ename": "NameError",
     "evalue": "name 'sim_path' is not defined",
     "output_type": "error",
     "traceback": [
      "\u001b[31m---------------------------------------------------------------------------\u001b[39m",
      "\u001b[31mNameError\u001b[39m                                 Traceback (most recent call last)",
      "\u001b[36mCell\u001b[39m\u001b[36m \u001b[39m\u001b[32mIn[6]\u001b[39m\u001b[32m, line 37\u001b[39m\n\u001b[32m     35\u001b[39m \u001b[38;5;28mprint\u001b[39m(\u001b[33m\"\u001b[39m\u001b[33mMake sure that an apropriate python environment activated.\u001b[39m\u001b[33m\"\u001b[39m)\n\u001b[32m     36\u001b[39m \u001b[38;5;28mprint\u001b[39m()\n\u001b[32m---> \u001b[39m\u001b[32m37\u001b[39m p = \u001b[43msim_path\u001b[49m / \u001b[33m\"\u001b[39m\u001b[33mslurm-job.sh\u001b[39m\u001b[33m\"\u001b[39m\n\u001b[32m     38\u001b[39m \u001b[38;5;28;01mwith\u001b[39;00m \u001b[38;5;28mopen\u001b[39m(p, \u001b[33m\"\u001b[39m\u001b[33mw\u001b[39m\u001b[33m\"\u001b[39m) \u001b[38;5;28;01mas\u001b[39;00m f:\n\u001b[32m     39\u001b[39m     f.write(job(sim_path, config_dict[\u001b[33m\"\u001b[39m\u001b[33mmultisource\u001b[39m\u001b[33m\"\u001b[39m][\u001b[33m\"\u001b[39m\u001b[33mnr_source_points\u001b[39m\u001b[33m\"\u001b[39m]))\n",
      "\u001b[31mNameError\u001b[39m: name 'sim_path' is not defined"
     ]
    }
   ],
   "source": [
    "required_scratch_megs = int(config_dict[\"sim_params\"][\"N\"] * 3 * 16 / 1024 / 1024) + 10\n",
    "\n",
    "\n",
    "def job(sim_path: Path, nr_source_points: int) -> str:\n",
    "    return f\"\"\"#!/usr/bin/env bash\n",
    "\n",
    "#SBATCH --array=0-{nr_source_points - 1}\n",
    "#SBATCH --ntasks=1\n",
    "#SBATCH --time=3:55:00\n",
    "#SBATCH --tmp={required_scratch_megs}\n",
    "#SBATCH --mem-per-cpu=2G\n",
    "#SBATCH --output=\"{str(sim_path / \"slurm-out-%a.txt\")}\"\n",
    "#SBATCH --error=\"{str(sim_path / \"slurm-err-%a.txt\")}\"\n",
    "\n",
    "if [ ! -f multisim.py ]; then\n",
    "    echo \"This script should be run in the big-wave directory\"\n",
    "    exit 1\n",
    "fi\n",
    "\n",
    "hostname\n",
    "echo \"jobid = $SLURM_JOB_ID\"\n",
    "echo \"taskid = $SLURM_ARRAY_TASK_ID\"\n",
    "echo \"tmpdir = $TMPDIR\"\n",
    "\n",
    "python3 <<EOF\n",
    "from pathlib import Path\n",
    "import os\n",
    "import multisim\n",
    "multisim.run_single_simulation(Path(\"{str(sim_path)}\"), $SLURM_ARRAY_TASK_ID, Path(os.environ[\"TMPDIR\"]))\n",
    "EOF\n",
    "\"\"\"\n",
    "\n",
    "\n",
    "print(\"Run the following command in a shell from the big-wave directory.\")\n",
    "print(\"Make sure that an apropriate python environment activated.\")\n",
    "print()\n",
    "p = str(sim_path +\"/slurm-job.sh\")\n",
    "with open(p, \"w\") as f:\n",
    "    f.write(job(sim_path, config_dict[\"multisource\"][\"nr_source_points\"]))\n",
    "\n",
    "    print(f\"sbatch {str(p)}\")"
   ]
  },
  {
   "cell_type": "markdown",
   "id": "73d6b0f8",
   "metadata": {},
   "source": [
    "## Analysis\n",
    "\n",
    "Once the job array is finished, the outputs can be loaded using the `util.load_wavefronts_filtered` function."
   ]
  },
  {
   "cell_type": "code",
   "execution_count": null,
   "id": "9363befa",
   "metadata": {},
   "outputs": [],
   "source": [
    "wavefronts = util.load_wavefronts_filtered(sim_path, x_range=None, energy_range=None)\n",
    "wf = wavefronts[0][0]"
   ]
  },
  {
   "cell_type": "code",
   "execution_count": null,
   "id": "173a4986",
   "metadata": {},
   "outputs": [],
   "source": [
    "sp = config_dict[\"sim_params\"]\n",
    "detector_x = util.detector_x_vector(sp[\"detector_size\"], sp[\"detector_pixel_size\"])\n",
    "plt.plot(detector_x, wf[0])"
   ]
  },
  {
   "cell_type": "code",
   "execution_count": null,
   "id": "d9020a1c-731c-4b91-9735-0080f8a95a28",
   "metadata": {},
   "outputs": [],
   "source": []
  },
  {
   "cell_type": "code",
   "execution_count": null,
   "id": "b3515b7f-0c25-4cd6-aa23-70139ce1102f",
   "metadata": {},
   "outputs": [],
   "source": []
  }
 ],
 "metadata": {
  "kernelspec": {
   "display_name": "Python 3 (ipykernel)",
   "language": "python",
   "name": "python3"
  },
  "language_info": {
   "codemirror_mode": {
    "name": "ipython",
    "version": 3
   },
   "file_extension": ".py",
   "mimetype": "text/x-python",
   "name": "python",
   "nbconvert_exporter": "python",
   "pygments_lexer": "ipython3",
   "version": "3.11.9"
  }
 },
 "nbformat": 4,
 "nbformat_minor": 5
}
