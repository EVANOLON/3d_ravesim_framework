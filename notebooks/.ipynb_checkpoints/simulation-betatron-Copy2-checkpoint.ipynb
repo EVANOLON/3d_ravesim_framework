{
 "cells": [
  {
   "cell_type": "code",
   "execution_count": 1,
   "id": "10ef1c7d",
   "metadata": {},
   "outputs": [],
   "source": [
    "import sys\n",
    "from pathlib import Path\n",
    "import numpy as np\n",
    "import matplotlib.pyplot as plt\n",
    "import math\n",
    "from tqdm import tqdm\n",
    "import os"
   ]
  },
  {
   "cell_type": "code",
   "execution_count": 2,
   "id": "e95f89a6",
   "metadata": {},
   "outputs": [],
   "source": [
    "rave_sim_dir = Path('/mnt/d/rave-sim-main/rave-sim-main')\n",
    "simulations_dir = Path('/mnt/d/rave-sim-main/rave-sim-main/output')\n",
    "scratch_dir = simulations_dir"
   ]
  },
  {
   "cell_type": "code",
   "execution_count": 3,
   "id": "141a157e",
   "metadata": {
    "scrolled": true
   },
   "outputs": [],
   "source": [
    "sys.path.insert(0, str(rave_sim_dir / \"big-wave\"))\n",
    "#print(str(rave_sim_dir / \"big-wave\"))\n",
    "import multisim\n",
    "import config\n",
    "import util"
   ]
  },
  {
   "cell_type": "code",
   "execution_count": 4,
   "id": "d84023e0-ba4d-48da-a22d-b65c817e690a",
   "metadata": {},
   "outputs": [
    {
     "name": "stdout",
     "output_type": "stream",
     "text": [
      "N:  16777216\n"
     ]
    }
   ],
   "source": [
    "config_dict = {\n",
    "    \"sim_params\": {\n",
    "        \"N\": 2**24,\n",
    "        \"dx\": 3.1e-10,\n",
    "        \"z_detector\": 4.6,\n",
    "        \"detector_size\": 3e-3,\n",
    "        \"detector_pixel_size_x\": 20e-6,\n",
    "        \"detector_pixel_size_y\": 1,\n",
    "        \"chunk_size\": 256 * 1024 * 1024 // 16,  # use 256MB chunks\n",
    "    },\n",
    "    \"use_disk_vector\": False,\n",
    "    \"save_final_u_vectors\": False,\n",
    "    \"dtype\": \"c8\",\n",
    "    \"multisource\": {\n",
    "        \"type\": \"points\",\n",
    "        \"energy_range\": [10000, 50000],\n",
    "        \"x_range\": [-3e-6, 3e-6],\n",
    "        \"z\": 0.0,\n",
    "        \"nr_source_points\": 100,\n",
    "        \"seed\": 1,\n",
    "        \"spectrum\": \"/mnt/d/rave-sim-main/rave-sim-main/spectrum/spectrum_25keV.h5\",\n",
    "    },\n",
    "    \"elements\": [\n",
    "        {\n",
    "            \"type\": \"sample\",\n",
    "            \"z_start\": 0.8,\n",
    "            \"pixel_size_x\": 5 * 1e-6,\n",
    "            \"pixel_size_z\": 5 * 1e-6,\n",
    "            \"grid_path\":\"/mnt/d/rave-sim-main/rave-sim-main/grid/square_grid_020_1_5_5.npy\",\n",
    "            \"materials\": [[\"C\", 1.3]],\n",
    "            \"x_positions\":[1.46e-4],\n",
    "        },\n",
    "        {\n",
    "            \"type\": \"sample\",\n",
    "            \"z_start\": 0.81,\n",
    "            \"pixel_size_x\": 5 * 1e-6,\n",
    "            \"pixel_size_z\": 5 * 1e-6,\n",
    "            \"grid_path\":\"/mnt/d/rave-sim-main/rave-sim-main/grid/square_grid_020_1_5_5.npy\",\n",
    "            \"materials\": [[\"C\", 1.3]],\n",
    "            \"x_positions\":[1.5e-4],\n",
    "        },\n",
    "    ],\n",
    "}\n",
    "\n",
    "print(\"N: \", config_dict[\"sim_params\"][\"N\"])"
   ]
  },
  {
   "cell_type": "code",
   "execution_count": 5,
   "id": "01fb33c7-f97d-46dc-814e-dcbab8bd2084",
   "metadata": {
    "scrolled": true
   },
   "outputs": [
    {
     "name": "stderr",
     "output_type": "stream",
     "text": [
      "2025-07-26 21:34:27,772 INFO: Setting up simulation\n",
      "2025-07-26 21:34:28,777 INFO: Finished setting up simulation in /mnt/d/rave-sim-main/rave-sim-main/output/2025/07/20250726_213427935159\n"
     ]
    }
   ],
   "source": [
    "sim_path = multisim.setup_simulation(config_dict, Path(\".\"), simulations_dir)"
   ]
  },
  {
   "cell_type": "code",
   "execution_count": 6,
   "id": "4a301c8a-82c2-4fd0-9b46-8eccaab3fbdf",
   "metadata": {},
   "outputs": [],
   "source": [
    "computed = config.load(Path(sim_path / 'computed.yaml'))\n",
    "\n",
    "#print(\"cutoff angles:\", computed['cutoff_angles'])\n",
    "#print(\"source points:\", computed['source_points'])"
   ]
  },
  {
   "cell_type": "code",
   "execution_count": 7,
   "id": "8aa7312e",
   "metadata": {},
   "outputs": [
    {
     "name": "stderr",
     "output_type": "stream",
     "text": [
      "  0%|                                                                                           | 0/100 [00:00<?, ?it/s]"
     ]
    },
    {
     "name": "stdout",
     "output_type": "stream",
     "text": [
      "[2025-07-26 21:34:28.889] [info] Running simulation /mnt/d/rave-sim-main/rave-sim-main/output/2025/07/20250726_213427935159/00000000\n",
      "[2025-07-26 21:34:29.418] [info] Simulating optical element 1/2\n",
      "[2025-07-26 21:34:31.785] [info] Elapsed time for optical element: 2367.1326 ms\n",
      "[2025-07-26 21:34:31.790] [info] Simulating optical element 2/2\n"
     ]
    },
    {
     "name": "stderr",
     "output_type": "stream",
     "text": [
      "  1%|▊                                                                                  | 1/100 [00:05<08:49,  5.34s/it]"
     ]
    },
    {
     "name": "stdout",
     "output_type": "stream",
     "text": [
      "[2025-07-26 21:34:34.091] [info] Elapsed time for optical element: 2300.941 ms\n",
      "[2025-07-26 21:34:34.106] [info] Simulation finished in 5.216570958 seconds\n",
      "[2025-07-26 21:34:34.204] [info] Running simulation /mnt/d/rave-sim-main/rave-sim-main/output/2025/07/20250726_213427935159/00000001\n",
      "[2025-07-26 21:34:34.466] [info] Simulating optical element 1/2\n",
      "[2025-07-26 21:34:36.765] [info] Elapsed time for optical element: 2299.7698 ms\n",
      "[2025-07-26 21:34:36.770] [info] Simulating optical element 2/2\n"
     ]
    },
    {
     "name": "stderr",
     "output_type": "stream",
     "text": [
      "  2%|█▋                                                                                 | 2/100 [00:10<08:22,  5.13s/it]"
     ]
    },
    {
     "name": "stdout",
     "output_type": "stream",
     "text": [
      "[2025-07-26 21:34:39.072] [info] Elapsed time for optical element: 2301.4836 ms\n",
      "[2025-07-26 21:34:39.087] [info] Simulation finished in 4.883309887 seconds\n",
      "[2025-07-26 21:34:39.185] [info] Running simulation /mnt/d/rave-sim-main/rave-sim-main/output/2025/07/20250726_213427935159/00000002\n",
      "[2025-07-26 21:34:39.468] [info] Simulating optical element 1/2\n",
      "[2025-07-26 21:34:41.762] [info] Elapsed time for optical element: 2293.9146 ms\n",
      "[2025-07-26 21:34:41.767] [info] Simulating optical element 2/2\n"
     ]
    },
    {
     "name": "stderr",
     "output_type": "stream",
     "text": [
      "  3%|██▍                                                                                | 3/100 [00:15<08:11,  5.07s/it]"
     ]
    },
    {
     "name": "stdout",
     "output_type": "stream",
     "text": [
      "[2025-07-26 21:34:44.064] [info] Elapsed time for optical element: 2297.2852 ms\n",
      "[2025-07-26 21:34:44.080] [info] Simulation finished in 4.894140773 seconds\n",
      "[2025-07-26 21:34:44.170] [info] Running simulation /mnt/d/rave-sim-main/rave-sim-main/output/2025/07/20250726_213427935159/00000003\n",
      "[2025-07-26 21:34:44.441] [info] Simulating optical element 1/2\n",
      "[2025-07-26 21:34:46.741] [info] Elapsed time for optical element: 2299.2903 ms\n",
      "[2025-07-26 21:34:46.745] [info] Simulating optical element 2/2\n"
     ]
    },
    {
     "name": "stderr",
     "output_type": "stream",
     "text": [
      "  4%|███▎                                                                               | 4/100 [00:20<08:03,  5.04s/it]"
     ]
    },
    {
     "name": "stdout",
     "output_type": "stream",
     "text": [
      "[2025-07-26 21:34:49.045] [info] Elapsed time for optical element: 2298.8203 ms\n",
      "[2025-07-26 21:34:49.061] [info] Simulation finished in 4.890333271 seconds\n",
      "[2025-07-26 21:34:49.164] [info] Running simulation /mnt/d/rave-sim-main/rave-sim-main/output/2025/07/20250726_213427935159/00000004\n",
      "[2025-07-26 21:34:49.407] [info] Simulating optical element 1/2\n",
      "[2025-07-26 21:34:51.705] [info] Elapsed time for optical element: 2298.027 ms\n",
      "[2025-07-26 21:34:51.710] [info] Simulating optical element 2/2\n"
     ]
    },
    {
     "name": "stderr",
     "output_type": "stream",
     "text": [
      "  5%|████▏                                                                              | 5/100 [00:25<07:55,  5.01s/it]"
     ]
    },
    {
     "name": "stdout",
     "output_type": "stream",
     "text": [
      "[2025-07-26 21:34:54.008] [info] Elapsed time for optical element: 2298.3257 ms\n",
      "[2025-07-26 21:34:54.024] [info] Simulation finished in 4.860051442 seconds\n",
      "[2025-07-26 21:34:54.119] [info] Running simulation /mnt/d/rave-sim-main/rave-sim-main/output/2025/07/20250726_213427935159/00000005\n",
      "[2025-07-26 21:34:54.388] [info] Simulating optical element 1/2\n",
      "[2025-07-26 21:34:56.745] [info] Elapsed time for optical element: 2356.7834 ms\n",
      "[2025-07-26 21:34:56.750] [info] Simulating optical element 2/2\n"
     ]
    },
    {
     "name": "stderr",
     "output_type": "stream",
     "text": [
      "  6%|████▉                                                                              | 6/100 [00:30<07:52,  5.03s/it]"
     ]
    },
    {
     "name": "stdout",
     "output_type": "stream",
     "text": [
      "[2025-07-26 21:34:59.087] [info] Elapsed time for optical element: 2337.0693 ms\n",
      "[2025-07-26 21:34:59.103] [info] Simulation finished in 4.983026674 seconds\n",
      "[2025-07-26 21:34:59.195] [info] Running simulation /mnt/d/rave-sim-main/rave-sim-main/output/2025/07/20250726_213427935159/00000006\n",
      "[2025-07-26 21:34:59.455] [info] Simulating optical element 1/2\n",
      "[2025-07-26 21:35:01.755] [info] Elapsed time for optical element: 2299.8818 ms\n",
      "[2025-07-26 21:35:01.760] [info] Simulating optical element 2/2\n"
     ]
    },
    {
     "name": "stderr",
     "output_type": "stream",
     "text": [
      "  7%|█████▊                                                                             | 7/100 [00:35<07:46,  5.01s/it]"
     ]
    },
    {
     "name": "stdout",
     "output_type": "stream",
     "text": [
      "[2025-07-26 21:35:04.059] [info] Elapsed time for optical element: 2298.8513 ms\n",
      "[2025-07-26 21:35:04.075] [info] Simulation finished in 4.880409178 seconds\n",
      "[2025-07-26 21:35:04.170] [info] Running simulation /mnt/d/rave-sim-main/rave-sim-main/output/2025/07/20250726_213427935159/00000007\n",
      "[2025-07-26 21:35:04.461] [info] Simulating optical element 1/2\n",
      "[2025-07-26 21:35:06.763] [info] Elapsed time for optical element: 2302.7078 ms\n",
      "[2025-07-26 21:35:06.768] [info] Simulating optical element 2/2\n"
     ]
    },
    {
     "name": "stderr",
     "output_type": "stream",
     "text": [
      "  8%|██████▋                                                                            | 8/100 [00:40<07:41,  5.01s/it]"
     ]
    },
    {
     "name": "stdout",
     "output_type": "stream",
     "text": [
      "[2025-07-26 21:35:09.070] [info] Elapsed time for optical element: 2301.66 ms\n",
      "[2025-07-26 21:35:09.086] [info] Simulation finished in 4.915869639 seconds\n",
      "[2025-07-26 21:35:09.178] [info] Running simulation /mnt/d/rave-sim-main/rave-sim-main/output/2025/07/20250726_213427935159/00000008\n",
      "[2025-07-26 21:35:09.458] [info] Simulating optical element 1/2\n",
      "[2025-07-26 21:35:11.759] [info] Elapsed time for optical element: 2301.0947 ms\n",
      "[2025-07-26 21:35:11.764] [info] Simulating optical element 2/2\n"
     ]
    },
    {
     "name": "stderr",
     "output_type": "stream",
     "text": [
      "  9%|███████▍                                                                           | 9/100 [00:45<07:36,  5.01s/it]"
     ]
    },
    {
     "name": "stdout",
     "output_type": "stream",
     "text": [
      "[2025-07-26 21:35:14.066] [info] Elapsed time for optical element: 2301.2505 ms\n",
      "[2025-07-26 21:35:14.082] [info] Simulation finished in 4.90405301 seconds\n",
      "[2025-07-26 21:35:14.195] [info] Running simulation /mnt/d/rave-sim-main/rave-sim-main/output/2025/07/20250726_213427935159/00000009\n",
      "[2025-07-26 21:35:14.454] [info] Simulating optical element 1/2\n",
      "[2025-07-26 21:35:16.761] [info] Elapsed time for optical element: 2307.165 ms\n",
      "[2025-07-26 21:35:16.766] [info] Simulating optical element 2/2\n"
     ]
    },
    {
     "name": "stderr",
     "output_type": "stream",
     "text": [
      " 10%|████████▏                                                                         | 10/100 [00:50<07:30,  5.01s/it]"
     ]
    },
    {
     "name": "stdout",
     "output_type": "stream",
     "text": [
      "[2025-07-26 21:35:19.072] [info] Elapsed time for optical element: 2306.1868 ms\n",
      "[2025-07-26 21:35:19.088] [info] Simulation finished in 4.892956378 seconds\n",
      "[2025-07-26 21:35:19.193] [info] Running simulation /mnt/d/rave-sim-main/rave-sim-main/output/2025/07/20250726_213427935159/00000010\n",
      "[2025-07-26 21:35:19.460] [info] Simulating optical element 1/2\n",
      "[2025-07-26 21:35:21.766] [info] Elapsed time for optical element: 2305.228 ms\n",
      "[2025-07-26 21:35:21.771] [info] Simulating optical element 2/2\n"
     ]
    },
    {
     "name": "stderr",
     "output_type": "stream",
     "text": [
      " 11%|█████████                                                                         | 11/100 [00:55<07:25,  5.01s/it]"
     ]
    },
    {
     "name": "stdout",
     "output_type": "stream",
     "text": [
      "[2025-07-26 21:35:24.075] [info] Elapsed time for optical element: 2304.641 ms\n",
      "[2025-07-26 21:35:24.092] [info] Simulation finished in 4.898273712 seconds\n",
      "[2025-07-26 21:35:24.196] [info] Running simulation /mnt/d/rave-sim-main/rave-sim-main/output/2025/07/20250726_213427935159/00000011\n",
      "[2025-07-26 21:35:24.454] [info] Simulating optical element 1/2\n",
      "[2025-07-26 21:35:26.764] [info] Elapsed time for optical element: 2308.9543 ms\n",
      "[2025-07-26 21:35:26.768] [info] Simulating optical element 2/2\n"
     ]
    },
    {
     "name": "stderr",
     "output_type": "stream",
     "text": [
      " 12%|█████████▊                                                                        | 12/100 [01:00<07:20,  5.00s/it]"
     ]
    },
    {
     "name": "stdout",
     "output_type": "stream",
     "text": [
      "[2025-07-26 21:35:29.077] [info] Elapsed time for optical element: 2308.8948 ms\n",
      "[2025-07-26 21:35:29.093] [info] Simulation finished in 4.897634309 seconds\n",
      "[2025-07-26 21:35:29.193] [info] Running simulation /mnt/d/rave-sim-main/rave-sim-main/output/2025/07/20250726_213427935159/00000012\n",
      "[2025-07-26 21:35:29.478] [info] Simulating optical element 1/2\n",
      "[2025-07-26 21:35:31.781] [info] Elapsed time for optical element: 2303.0854 ms\n",
      "[2025-07-26 21:35:31.786] [info] Simulating optical element 2/2\n"
     ]
    },
    {
     "name": "stderr",
     "output_type": "stream",
     "text": [
      " 13%|██████████▋                                                                       | 13/100 [01:05<07:15,  5.00s/it]"
     ]
    },
    {
     "name": "stdout",
     "output_type": "stream",
     "text": [
      "[2025-07-26 21:35:34.089] [info] Elapsed time for optical element: 2303.2947 ms\n",
      "[2025-07-26 21:35:34.105] [info] Simulation finished in 4.912127608 seconds\n",
      "[2025-07-26 21:35:34.197] [info] Running simulation /mnt/d/rave-sim-main/rave-sim-main/output/2025/07/20250726_213427935159/00000013\n",
      "[2025-07-26 21:35:34.440] [info] Simulating optical element 1/2\n",
      "[2025-07-26 21:35:36.752] [info] Elapsed time for optical element: 2311.0745 ms\n",
      "[2025-07-26 21:35:36.757] [info] Simulating optical element 2/2\n"
     ]
    },
    {
     "name": "stderr",
     "output_type": "stream",
     "text": [
      " 14%|███████████▍                                                                      | 14/100 [01:10<07:10,  5.00s/it]"
     ]
    },
    {
     "name": "stdout",
     "output_type": "stream",
     "text": [
      "[2025-07-26 21:35:39.068] [info] Elapsed time for optical element: 2311.0095 ms\n",
      "[2025-07-26 21:35:39.084] [info] Simulation finished in 4.887348532 seconds\n",
      "[2025-07-26 21:35:39.194] [info] Running simulation /mnt/d/rave-sim-main/rave-sim-main/output/2025/07/20250726_213427935159/00000014\n",
      "[2025-07-26 21:35:39.462] [info] Simulating optical element 1/2\n",
      "[2025-07-26 21:35:41.763] [info] Elapsed time for optical element: 2301.6013 ms\n",
      "[2025-07-26 21:35:41.768] [info] Simulating optical element 2/2\n"
     ]
    },
    {
     "name": "stderr",
     "output_type": "stream",
     "text": [
      " 15%|████████████▎                                                                     | 15/100 [01:15<07:05,  5.00s/it]"
     ]
    },
    {
     "name": "stdout",
     "output_type": "stream",
     "text": [
      "[2025-07-26 21:35:44.069] [info] Elapsed time for optical element: 2300.7795 ms\n",
      "[2025-07-26 21:35:44.085] [info] Simulation finished in 4.890008094 seconds\n",
      "[2025-07-26 21:35:44.194] [info] Running simulation /mnt/d/rave-sim-main/rave-sim-main/output/2025/07/20250726_213427935159/00000015\n",
      "[2025-07-26 21:35:44.461] [info] Simulating optical element 1/2\n",
      "[2025-07-26 21:35:46.767] [info] Elapsed time for optical element: 2305.9685 ms\n",
      "[2025-07-26 21:35:46.772] [info] Simulating optical element 2/2\n"
     ]
    },
    {
     "name": "stderr",
     "output_type": "stream",
     "text": [
      " 16%|█████████████                                                                     | 16/100 [01:20<07:00,  5.00s/it]"
     ]
    },
    {
     "name": "stdout",
     "output_type": "stream",
     "text": [
      "[2025-07-26 21:35:49.078] [info] Elapsed time for optical element: 2305.513 ms\n",
      "[2025-07-26 21:35:49.093] [info] Simulation finished in 4.899356817 seconds\n",
      "[2025-07-26 21:35:49.194] [info] Running simulation /mnt/d/rave-sim-main/rave-sim-main/output/2025/07/20250726_213427935159/00000016\n",
      "[2025-07-26 21:35:49.462] [info] Simulating optical element 1/2\n",
      "[2025-07-26 21:35:51.765] [info] Elapsed time for optical element: 2302.5342 ms\n",
      "[2025-07-26 21:35:51.769] [info] Simulating optical element 2/2\n"
     ]
    },
    {
     "name": "stderr",
     "output_type": "stream",
     "text": [
      " 17%|█████████████▉                                                                    | 17/100 [01:25<06:54,  5.00s/it]"
     ]
    },
    {
     "name": "stdout",
     "output_type": "stream",
     "text": [
      "[2025-07-26 21:35:54.071] [info] Elapsed time for optical element: 2301.7583 ms\n",
      "[2025-07-26 21:35:54.088] [info] Simulation finished in 4.893847615 seconds\n",
      "[2025-07-26 21:35:54.190] [info] Running simulation /mnt/d/rave-sim-main/rave-sim-main/output/2025/07/20250726_213427935159/00000017\n",
      "[2025-07-26 21:35:54.464] [info] Simulating optical element 1/2\n",
      "[2025-07-26 21:35:56.768] [info] Elapsed time for optical element: 2303.9644 ms\n",
      "[2025-07-26 21:35:56.773] [info] Simulating optical element 2/2\n"
     ]
    },
    {
     "name": "stderr",
     "output_type": "stream",
     "text": [
      " 18%|██████████████▊                                                                   | 18/100 [01:30<06:50,  5.00s/it]"
     ]
    },
    {
     "name": "stdout",
     "output_type": "stream",
     "text": [
      "[2025-07-26 21:35:59.077] [info] Elapsed time for optical element: 2303.6953 ms\n",
      "[2025-07-26 21:35:59.093] [info] Simulation finished in 4.902304 seconds\n",
      "[2025-07-26 21:35:59.199] [info] Running simulation /mnt/d/rave-sim-main/rave-sim-main/output/2025/07/20250726_213427935159/00000018\n",
      "[2025-07-26 21:35:59.471] [info] Simulating optical element 1/2\n",
      "[2025-07-26 21:36:01.774] [info] Elapsed time for optical element: 2303.123 ms\n",
      "[2025-07-26 21:36:01.779] [info] Simulating optical element 2/2\n"
     ]
    },
    {
     "name": "stderr",
     "output_type": "stream",
     "text": [
      " 19%|███████████████▌                                                                  | 19/100 [01:35<06:45,  5.00s/it]"
     ]
    },
    {
     "name": "stdout",
     "output_type": "stream",
     "text": [
      "[2025-07-26 21:36:04.081] [info] Elapsed time for optical element: 2301.6616 ms\n",
      "[2025-07-26 21:36:04.097] [info] Simulation finished in 4.898281509 seconds\n",
      "[2025-07-26 21:36:04.207] [info] Running simulation /mnt/d/rave-sim-main/rave-sim-main/output/2025/07/20250726_213427935159/00000019\n",
      "[2025-07-26 21:36:04.462] [info] Simulating optical element 1/2\n",
      "[2025-07-26 21:36:06.764] [info] Elapsed time for optical element: 2301.7764 ms\n",
      "[2025-07-26 21:36:06.769] [info] Simulating optical element 2/2\n"
     ]
    },
    {
     "name": "stderr",
     "output_type": "stream",
     "text": [
      " 20%|████████████████▍                                                                 | 20/100 [01:40<06:39,  5.00s/it]"
     ]
    },
    {
     "name": "stdout",
     "output_type": "stream",
     "text": [
      "[2025-07-26 21:36:09.071] [info] Elapsed time for optical element: 2301.368 ms\n",
      "[2025-07-26 21:36:09.087] [info] Simulation finished in 4.880557269 seconds\n",
      "[2025-07-26 21:36:09.180] [info] Running simulation /mnt/d/rave-sim-main/rave-sim-main/output/2025/07/20250726_213427935159/00000020\n",
      "[2025-07-26 21:36:09.456] [info] Simulating optical element 1/2\n",
      "[2025-07-26 21:36:11.765] [info] Elapsed time for optical element: 2309.3477 ms\n",
      "[2025-07-26 21:36:11.770] [info] Simulating optical element 2/2\n"
     ]
    },
    {
     "name": "stderr",
     "output_type": "stream",
     "text": [
      " 21%|█████████████████▏                                                                | 21/100 [01:45<06:34,  5.00s/it]"
     ]
    },
    {
     "name": "stdout",
     "output_type": "stream",
     "text": [
      "[2025-07-26 21:36:14.079] [info] Elapsed time for optical element: 2308.8367 ms\n",
      "[2025-07-26 21:36:14.095] [info] Simulation finished in 4.914998947 seconds\n",
      "[2025-07-26 21:36:14.185] [info] Running simulation /mnt/d/rave-sim-main/rave-sim-main/output/2025/07/20250726_213427935159/00000021\n",
      "[2025-07-26 21:36:14.440] [info] Simulating optical element 1/2\n",
      "[2025-07-26 21:36:16.752] [info] Elapsed time for optical element: 2311.8718 ms\n",
      "[2025-07-26 21:36:16.757] [info] Simulating optical element 2/2\n"
     ]
    },
    {
     "name": "stderr",
     "output_type": "stream",
     "text": [
      " 22%|██████████████████                                                                | 22/100 [01:50<06:29,  5.00s/it]"
     ]
    },
    {
     "name": "stdout",
     "output_type": "stream",
     "text": [
      "[2025-07-26 21:36:19.069] [info] Elapsed time for optical element: 2312.2686 ms\n",
      "[2025-07-26 21:36:19.088] [info] Simulation finished in 4.902482076 seconds\n",
      "[2025-07-26 21:36:19.182] [info] Running simulation /mnt/d/rave-sim-main/rave-sim-main/output/2025/07/20250726_213427935159/00000022\n",
      "[2025-07-26 21:36:19.428] [info] Simulating optical element 1/2\n",
      "[2025-07-26 21:36:21.728] [info] Elapsed time for optical element: 2300.0251 ms\n",
      "[2025-07-26 21:36:21.733] [info] Simulating optical element 2/2\n"
     ]
    },
    {
     "name": "stderr",
     "output_type": "stream",
     "text": [
      " 23%|██████████████████▊                                                               | 23/100 [01:55<06:23,  4.99s/it]"
     ]
    },
    {
     "name": "stdout",
     "output_type": "stream",
     "text": [
      "[2025-07-26 21:36:24.033] [info] Elapsed time for optical element: 2299.271 ms\n",
      "[2025-07-26 21:36:24.048] [info] Simulation finished in 4.866278012 seconds\n",
      "[2025-07-26 21:36:24.139] [info] Running simulation /mnt/d/rave-sim-main/rave-sim-main/output/2025/07/20250726_213427935159/00000023\n",
      "[2025-07-26 21:36:24.414] [info] Simulating optical element 1/2\n",
      "[2025-07-26 21:36:26.720] [info] Elapsed time for optical element: 2305.5073 ms\n",
      "[2025-07-26 21:36:26.725] [info] Simulating optical element 2/2\n"
     ]
    },
    {
     "name": "stderr",
     "output_type": "stream",
     "text": [
      " 24%|███████████████████▋                                                              | 24/100 [02:00<06:19,  4.99s/it]"
     ]
    },
    {
     "name": "stdout",
     "output_type": "stream",
     "text": [
      "[2025-07-26 21:36:29.029] [info] Elapsed time for optical element: 2304.2852 ms\n",
      "[2025-07-26 21:36:29.045] [info] Simulation finished in 4.905629596 seconds\n",
      "[2025-07-26 21:36:29.134] [info] Running simulation /mnt/d/rave-sim-main/rave-sim-main/output/2025/07/20250726_213427935159/00000024\n",
      "[2025-07-26 21:36:29.393] [info] Simulating optical element 1/2\n",
      "[2025-07-26 21:36:31.701] [info] Elapsed time for optical element: 2307.6611 ms\n",
      "[2025-07-26 21:36:31.706] [info] Simulating optical element 2/2\n"
     ]
    },
    {
     "name": "stderr",
     "output_type": "stream",
     "text": [
      " 25%|████████████████████▌                                                             | 25/100 [02:05<06:14,  4.99s/it]"
     ]
    },
    {
     "name": "stdout",
     "output_type": "stream",
     "text": [
      "[2025-07-26 21:36:34.015] [info] Elapsed time for optical element: 2308.6418 ms\n",
      "[2025-07-26 21:36:34.032] [info] Simulation finished in 4.89768039 seconds\n",
      "[2025-07-26 21:36:34.128] [info] Running simulation /mnt/d/rave-sim-main/rave-sim-main/output/2025/07/20250726_213427935159/00000025\n",
      "[2025-07-26 21:36:34.436] [info] Simulating optical element 1/2\n",
      "[2025-07-26 21:36:36.745] [info] Elapsed time for optical element: 2308.5737 ms\n",
      "[2025-07-26 21:36:36.750] [info] Simulating optical element 2/2\n"
     ]
    },
    {
     "name": "stderr",
     "output_type": "stream",
     "text": [
      " 26%|█████████████████████▎                                                            | 26/100 [02:10<06:10,  5.00s/it]"
     ]
    },
    {
     "name": "stdout",
     "output_type": "stream",
     "text": [
      "[2025-07-26 21:36:39.057] [info] Elapsed time for optical element: 2307.4285 ms\n",
      "[2025-07-26 21:36:39.076] [info] Simulation finished in 4.947982041 seconds\n",
      "[2025-07-26 21:36:39.165] [info] Running simulation /mnt/d/rave-sim-main/rave-sim-main/output/2025/07/20250726_213427935159/00000026\n",
      "[2025-07-26 21:36:39.408] [info] Simulating optical element 1/2\n",
      "[2025-07-26 21:36:41.706] [info] Elapsed time for optical element: 2298.4426 ms\n",
      "[2025-07-26 21:36:41.711] [info] Simulating optical element 2/2\n"
     ]
    },
    {
     "name": "stderr",
     "output_type": "stream",
     "text": [
      " 27%|██████████████████████▏                                                           | 27/100 [02:15<06:04,  4.99s/it]"
     ]
    },
    {
     "name": "stdout",
     "output_type": "stream",
     "text": [
      "[2025-07-26 21:36:44.011] [info] Elapsed time for optical element: 2299.5723 ms\n",
      "[2025-07-26 21:36:44.027] [info] Simulation finished in 4.861270112 seconds\n",
      "[2025-07-26 21:36:44.118] [info] Running simulation /mnt/d/rave-sim-main/rave-sim-main/output/2025/07/20250726_213427935159/00000027\n",
      "[2025-07-26 21:36:44.429] [info] Simulating optical element 1/2\n",
      "[2025-07-26 21:36:46.728] [info] Elapsed time for optical element: 2298.9932 ms\n",
      "[2025-07-26 21:36:46.733] [info] Simulating optical element 2/2\n"
     ]
    },
    {
     "name": "stderr",
     "output_type": "stream",
     "text": [
      " 28%|██████████████████████▉                                                           | 28/100 [02:20<05:59,  5.00s/it]"
     ]
    },
    {
     "name": "stdout",
     "output_type": "stream",
     "text": [
      "[2025-07-26 21:36:49.033] [info] Elapsed time for optical element: 2299.6526 ms\n",
      "[2025-07-26 21:36:49.048] [info] Simulation finished in 4.930170458 seconds\n",
      "[2025-07-26 21:36:49.139] [info] Running simulation /mnt/d/rave-sim-main/rave-sim-main/output/2025/07/20250726_213427935159/00000028\n",
      "[2025-07-26 21:36:49.405] [info] Simulating optical element 1/2\n",
      "[2025-07-26 21:36:51.705] [info] Elapsed time for optical element: 2299.7698 ms\n",
      "[2025-07-26 21:36:51.710] [info] Simulating optical element 2/2\n"
     ]
    },
    {
     "name": "stderr",
     "output_type": "stream",
     "text": [
      " 29%|███████████████████████▊                                                          | 29/100 [02:25<05:54,  4.99s/it]"
     ]
    },
    {
     "name": "stdout",
     "output_type": "stream",
     "text": [
      "[2025-07-26 21:36:54.009] [info] Elapsed time for optical element: 2298.4426 ms\n",
      "[2025-07-26 21:36:54.025] [info] Simulation finished in 4.885096714 seconds\n",
      "[2025-07-26 21:36:54.119] [info] Running simulation /mnt/d/rave-sim-main/rave-sim-main/output/2025/07/20250726_213427935159/00000029\n",
      "[2025-07-26 21:36:54.418] [info] Simulating optical element 1/2\n",
      "[2025-07-26 21:36:56.726] [info] Elapsed time for optical element: 2307.732 ms\n",
      "[2025-07-26 21:36:56.731] [info] Simulating optical element 2/2\n"
     ]
    },
    {
     "name": "stderr",
     "output_type": "stream",
     "text": [
      " 30%|████████████████████████▌                                                         | 30/100 [02:30<05:50,  5.00s/it]"
     ]
    },
    {
     "name": "stdout",
     "output_type": "stream",
     "text": [
      "[2025-07-26 21:36:59.038] [info] Elapsed time for optical element: 2306.8555 ms\n",
      "[2025-07-26 21:36:59.054] [info] Simulation finished in 4.934970475 seconds\n",
      "[2025-07-26 21:36:59.150] [info] Running simulation /mnt/d/rave-sim-main/rave-sim-main/output/2025/07/20250726_213427935159/00000030\n",
      "[2025-07-26 21:36:59.448] [info] Simulating optical element 1/2\n",
      "[2025-07-26 21:37:01.749] [info] Elapsed time for optical element: 2300.482 ms\n",
      "[2025-07-26 21:37:01.754] [info] Simulating optical element 2/2\n"
     ]
    },
    {
     "name": "stderr",
     "output_type": "stream",
     "text": [
      " 31%|█████████████████████████▍                                                        | 31/100 [02:35<05:45,  5.01s/it]"
     ]
    },
    {
     "name": "stdout",
     "output_type": "stream",
     "text": [
      "[2025-07-26 21:37:04.054] [info] Elapsed time for optical element: 2300.0938 ms\n",
      "[2025-07-26 21:37:04.070] [info] Simulation finished in 4.919430026 seconds\n",
      "[2025-07-26 21:37:04.164] [info] Running simulation /mnt/d/rave-sim-main/rave-sim-main/output/2025/07/20250726_213427935159/00000031\n",
      "[2025-07-26 21:37:04.413] [info] Simulating optical element 1/2\n",
      "[2025-07-26 21:37:06.716] [info] Elapsed time for optical element: 2303.0786 ms\n",
      "[2025-07-26 21:37:06.721] [info] Simulating optical element 2/2\n"
     ]
    },
    {
     "name": "stderr",
     "output_type": "stream",
     "text": [
      " 32%|██████████████████████████▏                                                       | 32/100 [02:40<05:39,  5.00s/it]"
     ]
    },
    {
     "name": "stdout",
     "output_type": "stream",
     "text": [
      "[2025-07-26 21:37:09.025] [info] Elapsed time for optical element: 2303.7415 ms\n",
      "[2025-07-26 21:37:09.041] [info] Simulation finished in 4.877253074 seconds\n",
      "[2025-07-26 21:37:09.131] [info] Running simulation /mnt/d/rave-sim-main/rave-sim-main/output/2025/07/20250726_213427935159/00000032\n",
      "[2025-07-26 21:37:09.398] [info] Simulating optical element 1/2\n",
      "[2025-07-26 21:37:11.709] [info] Elapsed time for optical element: 2311.3782 ms\n",
      "[2025-07-26 21:37:11.714] [info] Simulating optical element 2/2\n"
     ]
    },
    {
     "name": "stderr",
     "output_type": "stream",
     "text": [
      " 33%|███████████████████████████                                                       | 33/100 [02:45<05:34,  5.00s/it]"
     ]
    },
    {
     "name": "stdout",
     "output_type": "stream",
     "text": [
      "[2025-07-26 21:37:14.025] [info] Elapsed time for optical element: 2311.035 ms\n",
      "[2025-07-26 21:37:14.041] [info] Simulation finished in 4.910171881 seconds\n",
      "[2025-07-26 21:37:14.134] [info] Running simulation /mnt/d/rave-sim-main/rave-sim-main/output/2025/07/20250726_213427935159/00000033\n",
      "[2025-07-26 21:37:14.410] [info] Simulating optical element 1/2\n",
      "[2025-07-26 21:37:16.714] [info] Elapsed time for optical element: 2303.6091 ms\n",
      "[2025-07-26 21:37:16.718] [info] Simulating optical element 2/2\n"
     ]
    },
    {
     "name": "stderr",
     "output_type": "stream",
     "text": [
      " 34%|███████████████████████████▉                                                      | 34/100 [02:50<05:29,  5.00s/it]"
     ]
    },
    {
     "name": "stdout",
     "output_type": "stream",
     "text": [
      "[2025-07-26 21:37:19.024] [info] Elapsed time for optical element: 2304.945 ms\n",
      "[2025-07-26 21:37:19.042] [info] Simulation finished in 4.907597627 seconds\n",
      "[2025-07-26 21:37:19.137] [info] Running simulation /mnt/d/rave-sim-main/rave-sim-main/output/2025/07/20250726_213427935159/00000034\n",
      "[2025-07-26 21:37:19.389] [info] Simulating optical element 1/2\n",
      "[2025-07-26 21:37:21.697] [info] Elapsed time for optical element: 2307.4075 ms\n",
      "[2025-07-26 21:37:21.701] [info] Simulating optical element 2/2\n"
     ]
    },
    {
     "name": "stderr",
     "output_type": "stream",
     "text": [
      " 35%|████████████████████████████▋                                                     | 35/100 [02:55<05:24,  4.99s/it]"
     ]
    },
    {
     "name": "stdout",
     "output_type": "stream",
     "text": [
      "[2025-07-26 21:37:24.009] [info] Elapsed time for optical element: 2307.1875 ms\n",
      "[2025-07-26 21:37:24.024] [info] Simulation finished in 4.88661394 seconds\n",
      "[2025-07-26 21:37:24.118] [info] Running simulation /mnt/d/rave-sim-main/rave-sim-main/output/2025/07/20250726_213427935159/00000035\n",
      "[2025-07-26 21:37:24.383] [info] Simulating optical element 1/2\n",
      "[2025-07-26 21:37:26.683] [info] Elapsed time for optical element: 2300.2705 ms\n",
      "[2025-07-26 21:37:26.689] [info] Simulating optical element 2/2\n"
     ]
    },
    {
     "name": "stderr",
     "output_type": "stream",
     "text": [
      " 36%|█████████████████████████████▌                                                    | 36/100 [03:00<05:19,  4.99s/it]"
     ]
    },
    {
     "name": "stdout",
     "output_type": "stream",
     "text": [
      "[2025-07-26 21:37:28.990] [info] Elapsed time for optical element: 2301.2966 ms\n",
      "[2025-07-26 21:37:29.006] [info] Simulation finished in 4.888068761 seconds\n",
      "[2025-07-26 21:37:29.100] [info] Running simulation /mnt/d/rave-sim-main/rave-sim-main/output/2025/07/20250726_213427935159/00000036\n",
      "[2025-07-26 21:37:29.360] [info] Simulating optical element 1/2\n",
      "[2025-07-26 21:37:31.667] [info] Elapsed time for optical element: 2306.9106 ms\n",
      "[2025-07-26 21:37:31.672] [info] Simulating optical element 2/2\n"
     ]
    },
    {
     "name": "stderr",
     "output_type": "stream",
     "text": [
      " 37%|██████████████████████████████▎                                                   | 37/100 [03:05<05:14,  4.99s/it]"
     ]
    },
    {
     "name": "stdout",
     "output_type": "stream",
     "text": [
      "[2025-07-26 21:37:33.982] [info] Elapsed time for optical element: 2309.5195 ms\n",
      "[2025-07-26 21:37:33.997] [info] Simulation finished in 4.897074493 seconds\n",
      "[2025-07-26 21:37:34.092] [info] Running simulation /mnt/d/rave-sim-main/rave-sim-main/output/2025/07/20250726_213427935159/00000037\n",
      "[2025-07-26 21:37:34.365] [info] Simulating optical element 1/2\n",
      "[2025-07-26 21:37:36.675] [info] Elapsed time for optical element: 2309.0815 ms\n",
      "[2025-07-26 21:37:36.680] [info] Simulating optical element 2/2\n"
     ]
    },
    {
     "name": "stderr",
     "output_type": "stream",
     "text": [
      " 38%|███████████████████████████████▏                                                  | 38/100 [03:10<05:10,  5.01s/it]"
     ]
    },
    {
     "name": "stdout",
     "output_type": "stream",
     "text": [
      "[2025-07-26 21:37:38.989] [info] Elapsed time for optical element: 2308.9622 ms\n",
      "[2025-07-26 21:37:39.044] [info] Simulation finished in 4.952254545 seconds\n",
      "[2025-07-26 21:37:39.141] [info] Running simulation /mnt/d/rave-sim-main/rave-sim-main/output/2025/07/20250726_213427935159/00000038\n",
      "[2025-07-26 21:37:39.414] [info] Simulating optical element 1/2\n",
      "[2025-07-26 21:37:41.712] [info] Elapsed time for optical element: 2298.2947 ms\n",
      "[2025-07-26 21:37:41.717] [info] Simulating optical element 2/2\n"
     ]
    },
    {
     "name": "stderr",
     "output_type": "stream",
     "text": [
      " 39%|███████████████████████████████▉                                                  | 39/100 [03:15<05:05,  5.00s/it]"
     ]
    },
    {
     "name": "stdout",
     "output_type": "stream",
     "text": [
      "[2025-07-26 21:37:44.015] [info] Elapsed time for optical element: 2297.5217 ms\n",
      "[2025-07-26 21:37:44.031] [info] Simulation finished in 4.88988447 seconds\n",
      "[2025-07-26 21:37:44.127] [info] Running simulation /mnt/d/rave-sim-main/rave-sim-main/output/2025/07/20250726_213427935159/00000039\n",
      "[2025-07-26 21:37:44.379] [info] Simulating optical element 1/2\n",
      "[2025-07-26 21:37:46.686] [info] Elapsed time for optical element: 2307.4893 ms\n",
      "[2025-07-26 21:37:46.691] [info] Simulating optical element 2/2\n"
     ]
    },
    {
     "name": "stderr",
     "output_type": "stream",
     "text": [
      " 40%|████████████████████████████████▊                                                 | 40/100 [03:20<04:59,  5.00s/it]"
     ]
    },
    {
     "name": "stdout",
     "output_type": "stream",
     "text": [
      "[2025-07-26 21:37:48.999] [info] Elapsed time for optical element: 2308.0344 ms\n",
      "[2025-07-26 21:37:49.015] [info] Simulation finished in 4.888584528 seconds\n",
      "[2025-07-26 21:37:49.111] [info] Running simulation /mnt/d/rave-sim-main/rave-sim-main/output/2025/07/20250726_213427935159/00000040\n",
      "[2025-07-26 21:37:49.396] [info] Simulating optical element 1/2\n",
      "[2025-07-26 21:37:51.706] [info] Elapsed time for optical element: 2310.5437 ms\n",
      "[2025-07-26 21:37:51.711] [info] Simulating optical element 2/2\n"
     ]
    },
    {
     "name": "stderr",
     "output_type": "stream",
     "text": [
      " 41%|█████████████████████████████████▌                                                | 41/100 [03:25<04:55,  5.00s/it]"
     ]
    },
    {
     "name": "stdout",
     "output_type": "stream",
     "text": [
      "[2025-07-26 21:37:54.024] [info] Elapsed time for optical element: 2312.5154 ms\n",
      "[2025-07-26 21:37:54.040] [info] Simulation finished in 4.928511145 seconds\n",
      "[2025-07-26 21:37:54.131] [info] Running simulation /mnt/d/rave-sim-main/rave-sim-main/output/2025/07/20250726_213427935159/00000041\n",
      "[2025-07-26 21:37:54.382] [info] Simulating optical element 1/2\n",
      "[2025-07-26 21:37:56.690] [info] Elapsed time for optical element: 2307.6401 ms\n",
      "[2025-07-26 21:37:56.695] [info] Simulating optical element 2/2\n"
     ]
    },
    {
     "name": "stderr",
     "output_type": "stream",
     "text": [
      " 42%|██████████████████████████████████▍                                               | 42/100 [03:30<04:49,  5.00s/it]"
     ]
    },
    {
     "name": "stdout",
     "output_type": "stream",
     "text": [
      "[2025-07-26 21:37:59.002] [info] Elapsed time for optical element: 2307.7334 ms\n",
      "[2025-07-26 21:37:59.018] [info] Simulation finished in 4.887400603 seconds\n",
      "[2025-07-26 21:37:59.120] [info] Running simulation /mnt/d/rave-sim-main/rave-sim-main/output/2025/07/20250726_213427935159/00000042\n",
      "[2025-07-26 21:37:59.370] [info] Simulating optical element 1/2\n",
      "[2025-07-26 21:38:01.672] [info] Elapsed time for optical element: 2302.3909 ms\n",
      "[2025-07-26 21:38:01.677] [info] Simulating optical element 2/2\n"
     ]
    },
    {
     "name": "stderr",
     "output_type": "stream",
     "text": [
      " 43%|███████████████████████████████████▎                                              | 43/100 [03:35<04:44,  4.99s/it]"
     ]
    },
    {
     "name": "stdout",
     "output_type": "stream",
     "text": [
      "[2025-07-26 21:38:03.979] [info] Elapsed time for optical element: 2301.9233 ms\n",
      "[2025-07-26 21:38:03.995] [info] Simulation finished in 4.875009104 seconds\n",
      "[2025-07-26 21:38:04.093] [info] Running simulation /mnt/d/rave-sim-main/rave-sim-main/output/2025/07/20250726_213427935159/00000043\n",
      "[2025-07-26 21:38:04.372] [info] Simulating optical element 1/2\n",
      "[2025-07-26 21:38:06.679] [info] Elapsed time for optical element: 2306.7134 ms\n",
      "[2025-07-26 21:38:06.684] [info] Simulating optical element 2/2\n"
     ]
    },
    {
     "name": "stderr",
     "output_type": "stream",
     "text": [
      " 44%|████████████████████████████████████                                              | 44/100 [03:40<04:39,  5.00s/it]"
     ]
    },
    {
     "name": "stdout",
     "output_type": "stream",
     "text": [
      "[2025-07-26 21:38:08.992] [info] Elapsed time for optical element: 2308.4478 ms\n",
      "[2025-07-26 21:38:09.008] [info] Simulation finished in 4.915245512 seconds\n",
      "[2025-07-26 21:38:09.103] [info] Running simulation /mnt/d/rave-sim-main/rave-sim-main/output/2025/07/20250726_213427935159/00000044\n",
      "[2025-07-26 21:38:09.409] [info] Simulating optical element 1/2\n",
      "[2025-07-26 21:38:11.709] [info] Elapsed time for optical element: 2300.1887 ms\n",
      "[2025-07-26 21:38:11.714] [info] Simulating optical element 2/2\n"
     ]
    },
    {
     "name": "stderr",
     "output_type": "stream",
     "text": [
      " 45%|████████████████████████████████████▉                                             | 45/100 [03:45<04:35,  5.00s/it]"
     ]
    },
    {
     "name": "stdout",
     "output_type": "stream",
     "text": [
      "[2025-07-26 21:38:14.014] [info] Elapsed time for optical element: 2300.2422 ms\n",
      "[2025-07-26 21:38:14.030] [info] Simulation finished in 4.927237554 seconds\n",
      "[2025-07-26 21:38:14.125] [info] Running simulation /mnt/d/rave-sim-main/rave-sim-main/output/2025/07/20250726_213427935159/00000045\n",
      "[2025-07-26 21:38:14.409] [info] Simulating optical element 1/2\n",
      "[2025-07-26 21:38:16.713] [info] Elapsed time for optical element: 2304.1194 ms\n",
      "[2025-07-26 21:38:16.718] [info] Simulating optical element 2/2\n"
     ]
    },
    {
     "name": "stderr",
     "output_type": "stream",
     "text": [
      " 46%|█████████████████████████████████████▋                                            | 46/100 [03:50<04:30,  5.00s/it]"
     ]
    },
    {
     "name": "stdout",
     "output_type": "stream",
     "text": [
      "[2025-07-26 21:38:19.023] [info] Elapsed time for optical element: 2305.1514 ms\n",
      "[2025-07-26 21:38:19.039] [info] Simulation finished in 4.914398362 seconds\n",
      "[2025-07-26 21:38:19.129] [info] Running simulation /mnt/d/rave-sim-main/rave-sim-main/output/2025/07/20250726_213427935159/00000046\n",
      "[2025-07-26 21:38:19.408] [info] Simulating optical element 1/2\n",
      "[2025-07-26 21:38:21.719] [info] Elapsed time for optical element: 2310.2996 ms\n",
      "[2025-07-26 21:38:21.724] [info] Simulating optical element 2/2\n"
     ]
    },
    {
     "name": "stderr",
     "output_type": "stream",
     "text": [
      " 47%|██████████████████████████████████████▌                                           | 47/100 [03:55<04:25,  5.01s/it]"
     ]
    },
    {
     "name": "stdout",
     "output_type": "stream",
     "text": [
      "[2025-07-26 21:38:24.034] [info] Elapsed time for optical element: 2310.4746 ms\n",
      "[2025-07-26 21:38:24.050] [info] Simulation finished in 4.920829545 seconds\n",
      "[2025-07-26 21:38:24.146] [info] Running simulation /mnt/d/rave-sim-main/rave-sim-main/output/2025/07/20250726_213427935159/00000047\n",
      "[2025-07-26 21:38:24.410] [info] Simulating optical element 1/2\n",
      "[2025-07-26 21:38:26.712] [info] Elapsed time for optical element: 2301.6587 ms\n",
      "[2025-07-26 21:38:26.717] [info] Simulating optical element 2/2\n"
     ]
    },
    {
     "name": "stderr",
     "output_type": "stream",
     "text": [
      " 48%|███████████████████████████████████████▎                                          | 48/100 [04:00<04:20,  5.00s/it]"
     ]
    },
    {
     "name": "stdout",
     "output_type": "stream",
     "text": [
      "[2025-07-26 21:38:29.019] [info] Elapsed time for optical element: 2302.0054 ms\n",
      "[2025-07-26 21:38:29.035] [info] Simulation finished in 4.888807478 seconds\n",
      "[2025-07-26 21:38:29.131] [info] Running simulation /mnt/d/rave-sim-main/rave-sim-main/output/2025/07/20250726_213427935159/00000048\n",
      "[2025-07-26 21:38:29.425] [info] Simulating optical element 1/2\n",
      "[2025-07-26 21:38:31.727] [info] Elapsed time for optical element: 2301.6064 ms\n",
      "[2025-07-26 21:38:31.732] [info] Simulating optical element 2/2\n"
     ]
    },
    {
     "name": "stderr",
     "output_type": "stream",
     "text": [
      " 49%|████████████████████████████████████████▏                                         | 49/100 [04:05<04:15,  5.00s/it]"
     ]
    },
    {
     "name": "stdout",
     "output_type": "stream",
     "text": [
      "[2025-07-26 21:38:34.034] [info] Elapsed time for optical element: 2301.5354 ms\n",
      "[2025-07-26 21:38:34.050] [info] Simulation finished in 4.919435896 seconds\n",
      "[2025-07-26 21:38:34.141] [info] Running simulation /mnt/d/rave-sim-main/rave-sim-main/output/2025/07/20250726_213427935159/00000049\n",
      "[2025-07-26 21:38:34.389] [info] Simulating optical element 1/2\n",
      "[2025-07-26 21:38:36.690] [info] Elapsed time for optical element: 2300.7048 ms\n",
      "[2025-07-26 21:38:36.695] [info] Simulating optical element 2/2\n"
     ]
    },
    {
     "name": "stderr",
     "output_type": "stream",
     "text": [
      " 50%|█████████████████████████████████████████                                         | 50/100 [04:10<04:09,  4.99s/it]"
     ]
    },
    {
     "name": "stdout",
     "output_type": "stream",
     "text": [
      "[2025-07-26 21:38:38.996] [info] Elapsed time for optical element: 2300.4558 ms\n",
      "[2025-07-26 21:38:39.014] [info] Simulation finished in 4.872140416 seconds\n",
      "[2025-07-26 21:38:39.109] [info] Running simulation /mnt/d/rave-sim-main/rave-sim-main/output/2025/07/20250726_213427935159/00000050\n",
      "[2025-07-26 21:38:39.368] [info] Simulating optical element 1/2\n",
      "[2025-07-26 21:38:41.668] [info] Elapsed time for optical element: 2299.473 ms\n",
      "[2025-07-26 21:38:41.673] [info] Simulating optical element 2/2\n"
     ]
    },
    {
     "name": "stderr",
     "output_type": "stream",
     "text": [
      " 51%|█████████████████████████████████████████▊                                        | 51/100 [04:15<04:04,  4.99s/it]"
     ]
    },
    {
     "name": "stdout",
     "output_type": "stream",
     "text": [
      "[2025-07-26 21:38:43.973] [info] Elapsed time for optical element: 2299.9023 ms\n",
      "[2025-07-26 21:38:43.989] [info] Simulation finished in 4.879563857 seconds\n",
      "[2025-07-26 21:38:44.081] [info] Running simulation /mnt/d/rave-sim-main/rave-sim-main/output/2025/07/20250726_213427935159/00000051\n",
      "[2025-07-26 21:38:44.343] [info] Simulating optical element 1/2\n",
      "[2025-07-26 21:38:46.651] [info] Elapsed time for optical element: 2307.145 ms\n",
      "[2025-07-26 21:38:46.656] [info] Simulating optical element 2/2\n"
     ]
    },
    {
     "name": "stderr",
     "output_type": "stream",
     "text": [
      " 52%|██████████████████████████████████████████▋                                       | 52/100 [04:20<03:59,  4.99s/it]"
     ]
    },
    {
     "name": "stdout",
     "output_type": "stream",
     "text": [
      "[2025-07-26 21:38:48.963] [info] Elapsed time for optical element: 2306.946 ms\n",
      "[2025-07-26 21:38:48.978] [info] Simulation finished in 4.89730627 seconds\n",
      "[2025-07-26 21:38:49.070] [info] Running simulation /mnt/d/rave-sim-main/rave-sim-main/output/2025/07/20250726_213427935159/00000052\n",
      "[2025-07-26 21:38:49.323] [info] Simulating optical element 1/2\n",
      "[2025-07-26 21:38:51.624] [info] Elapsed time for optical element: 2301.0107 ms\n",
      "[2025-07-26 21:38:51.629] [info] Simulating optical element 2/2\n"
     ]
    },
    {
     "name": "stderr",
     "output_type": "stream",
     "text": [
      " 53%|███████████████████████████████████████████▍                                      | 53/100 [04:25<03:54,  4.98s/it]"
     ]
    },
    {
     "name": "stdout",
     "output_type": "stream",
     "text": [
      "[2025-07-26 21:38:53.930] [info] Elapsed time for optical element: 2301.1895 ms\n",
      "[2025-07-26 21:38:53.945] [info] Simulation finished in 4.875318427 seconds\n",
      "[2025-07-26 21:38:54.042] [info] Running simulation /mnt/d/rave-sim-main/rave-sim-main/output/2025/07/20250726_213427935159/00000053\n",
      "[2025-07-26 21:38:54.336] [info] Simulating optical element 1/2\n",
      "[2025-07-26 21:38:56.639] [info] Elapsed time for optical element: 2302.8694 ms\n",
      "[2025-07-26 21:38:56.644] [info] Simulating optical element 2/2\n"
     ]
    },
    {
     "name": "stderr",
     "output_type": "stream",
     "text": [
      " 54%|████████████████████████████████████████████▎                                     | 54/100 [04:30<03:49,  4.99s/it]"
     ]
    },
    {
     "name": "stdout",
     "output_type": "stream",
     "text": [
      "[2025-07-26 21:38:58.946] [info] Elapsed time for optical element: 2302.32 ms\n",
      "[2025-07-26 21:38:58.963] [info] Simulation finished in 4.921154729 seconds\n",
      "[2025-07-26 21:38:59.061] [info] Running simulation /mnt/d/rave-sim-main/rave-sim-main/output/2025/07/20250726_213427935159/00000054\n",
      "[2025-07-26 21:38:59.343] [info] Simulating optical element 1/2\n",
      "[2025-07-26 21:39:01.648] [info] Elapsed time for optical element: 2304.2478 ms\n",
      "[2025-07-26 21:39:01.653] [info] Simulating optical element 2/2\n"
     ]
    },
    {
     "name": "stderr",
     "output_type": "stream",
     "text": [
      " 55%|█████████████████████████████████████████████                                     | 55/100 [04:35<03:44,  5.00s/it]"
     ]
    },
    {
     "name": "stdout",
     "output_type": "stream",
     "text": [
      "[2025-07-26 21:39:03.957] [info] Elapsed time for optical element: 2303.7874 ms\n",
      "[2025-07-26 21:39:03.972] [info] Simulation finished in 4.911297318 seconds\n",
      "[2025-07-26 21:39:04.066] [info] Running simulation /mnt/d/rave-sim-main/rave-sim-main/output/2025/07/20250726_213427935159/00000055\n",
      "[2025-07-26 21:39:04.350] [info] Simulating optical element 1/2\n",
      "[2025-07-26 21:39:06.650] [info] Elapsed time for optical element: 2300.3809 ms\n",
      "[2025-07-26 21:39:06.655] [info] Simulating optical element 2/2\n"
     ]
    },
    {
     "name": "stderr",
     "output_type": "stream",
     "text": [
      " 56%|█████████████████████████████████████████████▉                                    | 56/100 [04:40<03:39,  5.00s/it]"
     ]
    },
    {
     "name": "stdout",
     "output_type": "stream",
     "text": [
      "[2025-07-26 21:39:08.956] [info] Elapsed time for optical element: 2300.0486 ms\n",
      "[2025-07-26 21:39:08.972] [info] Simulation finished in 4.905389396 seconds\n",
      "[2025-07-26 21:39:09.065] [info] Running simulation /mnt/d/rave-sim-main/rave-sim-main/output/2025/07/20250726_213427935159/00000056\n",
      "[2025-07-26 21:39:09.324] [info] Simulating optical element 1/2\n",
      "[2025-07-26 21:39:11.629] [info] Elapsed time for optical element: 2305.0625 ms\n",
      "[2025-07-26 21:39:11.634] [info] Simulating optical element 2/2\n"
     ]
    },
    {
     "name": "stderr",
     "output_type": "stream",
     "text": [
      " 57%|██████████████████████████████████████████████▋                                   | 57/100 [04:45<03:34,  4.99s/it]"
     ]
    },
    {
     "name": "stdout",
     "output_type": "stream",
     "text": [
      "[2025-07-26 21:39:13.939] [info] Elapsed time for optical element: 2305.1733 ms\n",
      "[2025-07-26 21:39:13.955] [info] Simulation finished in 4.889510693 seconds\n",
      "[2025-07-26 21:39:14.050] [info] Running simulation /mnt/d/rave-sim-main/rave-sim-main/output/2025/07/20250726_213427935159/00000057\n",
      "[2025-07-26 21:39:14.304] [info] Simulating optical element 1/2\n",
      "[2025-07-26 21:39:16.605] [info] Elapsed time for optical element: 2301.0847 ms\n",
      "[2025-07-26 21:39:16.610] [info] Simulating optical element 2/2\n"
     ]
    },
    {
     "name": "stderr",
     "output_type": "stream",
     "text": [
      " 58%|███████████████████████████████████████████████▌                                  | 58/100 [04:50<03:29,  4.99s/it]"
     ]
    },
    {
     "name": "stdout",
     "output_type": "stream",
     "text": [
      "[2025-07-26 21:39:18.911] [info] Elapsed time for optical element: 2301.73 ms\n",
      "[2025-07-26 21:39:18.929] [info] Simulation finished in 4.879674747 seconds\n",
      "[2025-07-26 21:39:19.022] [info] Running simulation /mnt/d/rave-sim-main/rave-sim-main/output/2025/07/20250726_213427935159/00000058\n",
      "[2025-07-26 21:39:19.286] [info] Simulating optical element 1/2\n",
      "[2025-07-26 21:39:21.592] [info] Elapsed time for optical element: 2305.62 ms\n",
      "[2025-07-26 21:39:21.597] [info] Simulating optical element 2/2\n"
     ]
    },
    {
     "name": "stderr",
     "output_type": "stream",
     "text": [
      " 59%|████████████████████████████████████████████████▍                                 | 59/100 [04:55<03:24,  4.99s/it]"
     ]
    },
    {
     "name": "stdout",
     "output_type": "stream",
     "text": [
      "[2025-07-26 21:39:23.903] [info] Elapsed time for optical element: 2306.008 ms\n",
      "[2025-07-26 21:39:23.919] [info] Simulation finished in 4.897020306 seconds\n",
      "[2025-07-26 21:39:24.015] [info] Running simulation /mnt/d/rave-sim-main/rave-sim-main/output/2025/07/20250726_213427935159/00000059\n",
      "[2025-07-26 21:39:24.309] [info] Simulating optical element 1/2\n",
      "[2025-07-26 21:39:26.616] [info] Elapsed time for optical element: 2306.9482 ms\n",
      "[2025-07-26 21:39:26.621] [info] Simulating optical element 2/2\n"
     ]
    },
    {
     "name": "stderr",
     "output_type": "stream",
     "text": [
      " 60%|█████████████████████████████████████████████████▏                                | 60/100 [05:00<03:19,  5.00s/it]"
     ]
    },
    {
     "name": "stdout",
     "output_type": "stream",
     "text": [
      "[2025-07-26 21:39:28.928] [info] Elapsed time for optical element: 2307.297 ms\n",
      "[2025-07-26 21:39:28.944] [info] Simulation finished in 4.928931342 seconds\n",
      "[2025-07-26 21:39:29.035] [info] Running simulation /mnt/d/rave-sim-main/rave-sim-main/output/2025/07/20250726_213427935159/00000060\n",
      "[2025-07-26 21:39:29.330] [info] Simulating optical element 1/2\n",
      "[2025-07-26 21:39:31.630] [info] Elapsed time for optical element: 2300.3071 ms\n",
      "[2025-07-26 21:39:31.635] [info] Simulating optical element 2/2\n"
     ]
    },
    {
     "name": "stderr",
     "output_type": "stream",
     "text": [
      " 61%|██████████████████████████████████████████████████                                | 61/100 [05:05<03:15,  5.00s/it]"
     ]
    },
    {
     "name": "stdout",
     "output_type": "stream",
     "text": [
      "[2025-07-26 21:39:33.936] [info] Elapsed time for optical element: 2300.186 ms\n",
      "[2025-07-26 21:39:33.951] [info] Simulation finished in 4.915615595 seconds\n",
      "[2025-07-26 21:39:34.044] [info] Running simulation /mnt/d/rave-sim-main/rave-sim-main/output/2025/07/20250726_213427935159/00000061\n",
      "[2025-07-26 21:39:34.294] [info] Simulating optical element 1/2\n",
      "[2025-07-26 21:39:36.598] [info] Elapsed time for optical element: 2303.4622 ms\n",
      "[2025-07-26 21:39:36.603] [info] Simulating optical element 2/2\n"
     ]
    },
    {
     "name": "stderr",
     "output_type": "stream",
     "text": [
      " 62%|██████████████████████████████████████████████████▊                               | 62/100 [05:10<03:09,  4.99s/it]"
     ]
    },
    {
     "name": "stdout",
     "output_type": "stream",
     "text": [
      "[2025-07-26 21:39:38.907] [info] Elapsed time for optical element: 2303.6409 ms\n",
      "[2025-07-26 21:39:38.923] [info] Simulation finished in 4.878812759 seconds\n",
      "[2025-07-26 21:39:39.016] [info] Running simulation /mnt/d/rave-sim-main/rave-sim-main/output/2025/07/20250726_213427935159/00000062\n",
      "[2025-07-26 21:39:39.274] [info] Simulating optical element 1/2\n",
      "[2025-07-26 21:39:41.581] [info] Elapsed time for optical element: 2307.4875 ms\n",
      "[2025-07-26 21:39:41.586] [info] Simulating optical element 2/2\n"
     ]
    },
    {
     "name": "stderr",
     "output_type": "stream",
     "text": [
      " 63%|███████████████████████████████████████████████████▋                              | 63/100 [05:15<03:04,  4.99s/it]"
     ]
    },
    {
     "name": "stdout",
     "output_type": "stream",
     "text": [
      "[2025-07-26 21:39:43.893] [info] Elapsed time for optical element: 2307 ms\n",
      "[2025-07-26 21:39:43.909] [info] Simulation finished in 4.893221601 seconds\n",
      "[2025-07-26 21:39:44.003] [info] Running simulation /mnt/d/rave-sim-main/rave-sim-main/output/2025/07/20250726_213427935159/00000063\n",
      "[2025-07-26 21:39:44.252] [info] Simulating optical element 1/2\n",
      "[2025-07-26 21:39:46.555] [info] Elapsed time for optical element: 2303.468 ms\n",
      "[2025-07-26 21:39:46.560] [info] Simulating optical element 2/2\n"
     ]
    },
    {
     "name": "stderr",
     "output_type": "stream",
     "text": [
      " 64%|████████████████████████████████████████████████████▍                             | 64/100 [05:20<02:59,  4.99s/it]"
     ]
    },
    {
     "name": "stdout",
     "output_type": "stream",
     "text": [
      "[2025-07-26 21:39:48.864] [info] Elapsed time for optical element: 2303.2786 ms\n",
      "[2025-07-26 21:39:48.880] [info] Simulation finished in 4.876731252 seconds\n",
      "[2025-07-26 21:39:48.999] [info] Running simulation /mnt/d/rave-sim-main/rave-sim-main/output/2025/07/20250726_213427935159/00000064\n",
      "[2025-07-26 21:39:49.298] [info] Simulating optical element 1/2\n",
      "[2025-07-26 21:39:51.599] [info] Elapsed time for optical element: 2300.3945 ms\n",
      "[2025-07-26 21:39:51.604] [info] Simulating optical element 2/2\n"
     ]
    },
    {
     "name": "stderr",
     "output_type": "stream",
     "text": [
      " 65%|█████████████████████████████████████████████████████▎                            | 65/100 [05:25<02:55,  5.02s/it]"
     ]
    },
    {
     "name": "stdout",
     "output_type": "stream",
     "text": [
      "[2025-07-26 21:39:53.956] [info] Elapsed time for optical element: 2351.999 ms\n",
      "[2025-07-26 21:39:53.973] [info] Simulation finished in 4.973024886 seconds\n",
      "[2025-07-26 21:39:54.072] [info] Running simulation /mnt/d/rave-sim-main/rave-sim-main/output/2025/07/20250726_213427935159/00000065\n",
      "[2025-07-26 21:39:54.334] [info] Simulating optical element 1/2\n",
      "[2025-07-26 21:39:56.623] [info] Elapsed time for optical element: 2288.7258 ms\n",
      "[2025-07-26 21:39:56.628] [info] Simulating optical element 2/2\n"
     ]
    },
    {
     "name": "stderr",
     "output_type": "stream",
     "text": [
      " 66%|██████████████████████████████████████████████████████                            | 66/100 [05:30<02:50,  5.00s/it]"
     ]
    },
    {
     "name": "stdout",
     "output_type": "stream",
     "text": [
      "[2025-07-26 21:39:58.931] [info] Elapsed time for optical element: 2303.1704 ms\n",
      "[2025-07-26 21:39:58.949] [info] Simulation finished in 4.877154105 seconds\n",
      "[2025-07-26 21:39:59.045] [info] Running simulation /mnt/d/rave-sim-main/rave-sim-main/output/2025/07/20250726_213427935159/00000066\n",
      "[2025-07-26 21:39:59.295] [info] Simulating optical element 1/2\n",
      "[2025-07-26 21:40:01.586] [info] Elapsed time for optical element: 2290.8271 ms\n",
      "[2025-07-26 21:40:01.591] [info] Simulating optical element 2/2\n"
     ]
    },
    {
     "name": "stderr",
     "output_type": "stream",
     "text": [
      " 67%|██████████████████████████████████████████████████████▉                           | 67/100 [05:35<02:44,  4.99s/it]"
     ]
    },
    {
     "name": "stdout",
     "output_type": "stream",
     "text": [
      "[2025-07-26 21:40:03.883] [info] Elapsed time for optical element: 2291.9731 ms\n",
      "[2025-07-26 21:40:03.898] [info] Simulation finished in 4.853850767 seconds\n",
      "[2025-07-26 21:40:04.009] [info] Running simulation /mnt/d/rave-sim-main/rave-sim-main/output/2025/07/20250726_213427935159/00000067\n",
      "[2025-07-26 21:40:04.256] [info] Simulating optical element 1/2\n",
      "[2025-07-26 21:40:06.548] [info] Elapsed time for optical element: 2291.2317 ms\n",
      "[2025-07-26 21:40:06.552] [info] Simulating optical element 2/2\n"
     ]
    },
    {
     "name": "stderr",
     "output_type": "stream",
     "text": [
      " 68%|███████████████████████████████████████████████████████▊                          | 68/100 [05:40<02:39,  4.98s/it]"
     ]
    },
    {
     "name": "stdout",
     "output_type": "stream",
     "text": [
      "[2025-07-26 21:40:08.841] [info] Elapsed time for optical element: 2288.091 ms\n",
      "[2025-07-26 21:40:08.857] [info] Simulation finished in 4.848398312 seconds\n",
      "[2025-07-26 21:40:08.950] [info] Running simulation /mnt/d/rave-sim-main/rave-sim-main/output/2025/07/20250726_213427935159/00000068\n",
      "[2025-07-26 21:40:09.214] [info] Simulating optical element 1/2\n",
      "[2025-07-26 21:40:11.509] [info] Elapsed time for optical element: 2294.4907 ms\n",
      "[2025-07-26 21:40:11.514] [info] Simulating optical element 2/2\n"
     ]
    },
    {
     "name": "stderr",
     "output_type": "stream",
     "text": [
      " 69%|████████████████████████████████████████████████████████▌                         | 69/100 [05:45<02:34,  4.97s/it]"
     ]
    },
    {
     "name": "stdout",
     "output_type": "stream",
     "text": [
      "[2025-07-26 21:40:13.809] [info] Elapsed time for optical element: 2294.9158 ms\n",
      "[2025-07-26 21:40:13.825] [info] Simulation finished in 4.875275362 seconds\n",
      "[2025-07-26 21:40:13.918] [info] Running simulation /mnt/d/rave-sim-main/rave-sim-main/output/2025/07/20250726_213427935159/00000069\n",
      "[2025-07-26 21:40:14.206] [info] Simulating optical element 1/2\n",
      "[2025-07-26 21:40:16.495] [info] Elapsed time for optical element: 2288.2278 ms\n",
      "[2025-07-26 21:40:16.500] [info] Simulating optical element 2/2\n"
     ]
    },
    {
     "name": "stderr",
     "output_type": "stream",
     "text": [
      " 70%|█████████████████████████████████████████████████████████▍                        | 70/100 [05:50<02:29,  4.98s/it]"
     ]
    },
    {
     "name": "stdout",
     "output_type": "stream",
     "text": [
      "[2025-07-26 21:40:18.789] [info] Elapsed time for optical element: 2288.9607 ms\n",
      "[2025-07-26 21:40:18.805] [info] Simulation finished in 4.886787893 seconds\n",
      "[2025-07-26 21:40:18.898] [info] Running simulation /mnt/d/rave-sim-main/rave-sim-main/output/2025/07/20250726_213427935159/00000070\n",
      "[2025-07-26 21:40:19.146] [info] Simulating optical element 1/2\n",
      "[2025-07-26 21:40:21.439] [info] Elapsed time for optical element: 2292.7544 ms\n",
      "[2025-07-26 21:40:21.444] [info] Simulating optical element 2/2\n"
     ]
    },
    {
     "name": "stderr",
     "output_type": "stream",
     "text": [
      " 71%|██████████████████████████████████████████████████████████▏                       | 71/100 [05:54<02:24,  4.97s/it]"
     ]
    },
    {
     "name": "stdout",
     "output_type": "stream",
     "text": [
      "[2025-07-26 21:40:23.738] [info] Elapsed time for optical element: 2293.239 ms\n",
      "[2025-07-26 21:40:23.754] [info] Simulation finished in 4.855566326 seconds\n",
      "[2025-07-26 21:40:23.845] [info] Running simulation /mnt/d/rave-sim-main/rave-sim-main/output/2025/07/20250726_213427935159/00000071\n",
      "[2025-07-26 21:40:24.105] [info] Simulating optical element 1/2\n",
      "[2025-07-26 21:40:26.390] [info] Elapsed time for optical element: 2284.4082 ms\n",
      "[2025-07-26 21:40:26.395] [info] Simulating optical element 2/2\n"
     ]
    },
    {
     "name": "stderr",
     "output_type": "stream",
     "text": [
      " 72%|███████████████████████████████████████████████████████████                       | 72/100 [05:59<02:18,  4.96s/it]"
     ]
    },
    {
     "name": "stdout",
     "output_type": "stream",
     "text": [
      "[2025-07-26 21:40:28.679] [info] Elapsed time for optical element: 2283.9924 ms\n",
      "[2025-07-26 21:40:28.695] [info] Simulation finished in 4.849530921 seconds\n",
      "[2025-07-26 21:40:28.789] [info] Running simulation /mnt/d/rave-sim-main/rave-sim-main/output/2025/07/20250726_213427935159/00000072\n",
      "[2025-07-26 21:40:29.061] [info] Simulating optical element 1/2\n",
      "[2025-07-26 21:40:31.346] [info] Elapsed time for optical element: 2284.0493 ms\n",
      "[2025-07-26 21:40:31.351] [info] Simulating optical element 2/2\n"
     ]
    },
    {
     "name": "stderr",
     "output_type": "stream",
     "text": [
      " 73%|███████████████████████████████████████████████████████████▊                      | 73/100 [06:04<02:13,  4.96s/it]"
     ]
    },
    {
     "name": "stdout",
     "output_type": "stream",
     "text": [
      "[2025-07-26 21:40:33.635] [info] Elapsed time for optical element: 2283.951 ms\n",
      "[2025-07-26 21:40:33.651] [info] Simulation finished in 4.861737794 seconds\n",
      "[2025-07-26 21:40:33.748] [info] Running simulation /mnt/d/rave-sim-main/rave-sim-main/output/2025/07/20250726_213427935159/00000073\n",
      "[2025-07-26 21:40:34.014] [info] Simulating optical element 1/2\n",
      "[2025-07-26 21:40:36.305] [info] Elapsed time for optical element: 2291.5945 ms\n",
      "[2025-07-26 21:40:36.310] [info] Simulating optical element 2/2\n"
     ]
    },
    {
     "name": "stderr",
     "output_type": "stream",
     "text": [
      " 74%|████████████████████████████████████████████████████████████▋                     | 74/100 [06:09<02:08,  4.96s/it]"
     ]
    },
    {
     "name": "stdout",
     "output_type": "stream",
     "text": [
      "[2025-07-26 21:40:38.602] [info] Elapsed time for optical element: 2291.7231 ms\n",
      "[2025-07-26 21:40:38.619] [info] Simulation finished in 4.870251476 seconds\n",
      "[2025-07-26 21:40:38.714] [info] Running simulation /mnt/d/rave-sim-main/rave-sim-main/output/2025/07/20250726_213427935159/00000074\n",
      "[2025-07-26 21:40:38.968] [info] Simulating optical element 1/2\n",
      "[2025-07-26 21:40:41.254] [info] Elapsed time for optical element: 2285.9563 ms\n",
      "[2025-07-26 21:40:41.259] [info] Simulating optical element 2/2\n"
     ]
    },
    {
     "name": "stderr",
     "output_type": "stream",
     "text": [
      " 75%|█████████████████████████████████████████████████████████████▌                    | 75/100 [06:14<02:03,  4.96s/it]"
     ]
    },
    {
     "name": "stdout",
     "output_type": "stream",
     "text": [
      "[2025-07-26 21:40:43.545] [info] Elapsed time for optical element: 2286.0938 ms\n",
      "[2025-07-26 21:40:43.562] [info] Simulation finished in 4.84811429 seconds\n",
      "[2025-07-26 21:40:43.656] [info] Running simulation /mnt/d/rave-sim-main/rave-sim-main/output/2025/07/20250726_213427935159/00000075\n",
      "[2025-07-26 21:40:43.901] [info] Simulating optical element 1/2\n",
      "[2025-07-26 21:40:46.186] [info] Elapsed time for optical element: 2284.3298 ms\n",
      "[2025-07-26 21:40:46.191] [info] Simulating optical element 2/2\n"
     ]
    },
    {
     "name": "stderr",
     "output_type": "stream",
     "text": [
      " 76%|██████████████████████████████████████████████████████████████▎                   | 76/100 [06:19<01:58,  4.95s/it]"
     ]
    },
    {
     "name": "stdout",
     "output_type": "stream",
     "text": [
      "[2025-07-26 21:40:48.475] [info] Elapsed time for optical element: 2283.924 ms\n",
      "[2025-07-26 21:40:48.490] [info] Simulation finished in 4.834729649 seconds\n",
      "[2025-07-26 21:40:48.582] [info] Running simulation /mnt/d/rave-sim-main/rave-sim-main/output/2025/07/20250726_213427935159/00000076\n",
      "[2025-07-26 21:40:48.861] [info] Simulating optical element 1/2\n",
      "[2025-07-26 21:40:51.155] [info] Elapsed time for optical element: 2293.375 ms\n",
      "[2025-07-26 21:40:51.160] [info] Simulating optical element 2/2\n"
     ]
    },
    {
     "name": "stderr",
     "output_type": "stream",
     "text": [
      " 77%|███████████████████████████████████████████████████████████████▏                  | 77/100 [06:24<01:54,  4.96s/it]"
     ]
    },
    {
     "name": "stdout",
     "output_type": "stream",
     "text": [
      "[2025-07-26 21:40:53.454] [info] Elapsed time for optical element: 2293.581 ms\n",
      "[2025-07-26 21:40:53.469] [info] Simulation finished in 4.887048648 seconds\n",
      "[2025-07-26 21:40:53.562] [info] Running simulation /mnt/d/rave-sim-main/rave-sim-main/output/2025/07/20250726_213427935159/00000077\n",
      "[2025-07-26 21:40:53.803] [info] Simulating optical element 1/2\n",
      "[2025-07-26 21:40:56.090] [info] Elapsed time for optical element: 2286.131 ms\n",
      "[2025-07-26 21:40:56.094] [info] Simulating optical element 2/2\n"
     ]
    },
    {
     "name": "stderr",
     "output_type": "stream",
     "text": [
      " 78%|███████████████████████████████████████████████████████████████▉                  | 78/100 [06:29<01:48,  4.95s/it]"
     ]
    },
    {
     "name": "stdout",
     "output_type": "stream",
     "text": [
      "[2025-07-26 21:40:58.381] [info] Elapsed time for optical element: 2286.3865 ms\n",
      "[2025-07-26 21:40:58.397] [info] Simulation finished in 4.83429999 seconds\n",
      "[2025-07-26 21:40:58.492] [info] Running simulation /mnt/d/rave-sim-main/rave-sim-main/output/2025/07/20250726_213427935159/00000078\n",
      "[2025-07-26 21:40:58.734] [info] Simulating optical element 1/2\n",
      "[2025-07-26 21:41:01.025] [info] Elapsed time for optical element: 2291.2327 ms\n",
      "[2025-07-26 21:41:01.030] [info] Simulating optical element 2/2\n"
     ]
    },
    {
     "name": "stderr",
     "output_type": "stream",
     "text": [
      " 79%|████████████████████████████████████████████████████████████████▊                 | 79/100 [06:34<01:43,  4.95s/it]"
     ]
    },
    {
     "name": "stdout",
     "output_type": "stream",
     "text": [
      "[2025-07-26 21:41:03.322] [info] Elapsed time for optical element: 2291.5872 ms\n",
      "[2025-07-26 21:41:03.338] [info] Simulation finished in 4.846257984 seconds\n",
      "[2025-07-26 21:41:03.436] [info] Running simulation /mnt/d/rave-sim-main/rave-sim-main/output/2025/07/20250726_213427935159/00000079\n",
      "[2025-07-26 21:41:03.683] [info] Simulating optical element 1/2\n",
      "[2025-07-26 21:41:05.973] [info] Elapsed time for optical element: 2290.2756 ms\n",
      "[2025-07-26 21:41:05.978] [info] Simulating optical element 2/2\n"
     ]
    },
    {
     "name": "stderr",
     "output_type": "stream",
     "text": [
      " 80%|█████████████████████████████████████████████████████████████████▌                | 80/100 [06:39<01:38,  4.95s/it]"
     ]
    },
    {
     "name": "stdout",
     "output_type": "stream",
     "text": [
      "[2025-07-26 21:41:08.269] [info] Elapsed time for optical element: 2290.5889 ms\n",
      "[2025-07-26 21:41:08.285] [info] Simulation finished in 4.848013694 seconds\n",
      "[2025-07-26 21:41:08.381] [info] Running simulation /mnt/d/rave-sim-main/rave-sim-main/output/2025/07/20250726_213427935159/00000080\n",
      "[2025-07-26 21:41:08.663] [info] Simulating optical element 1/2\n",
      "[2025-07-26 21:41:10.957] [info] Elapsed time for optical element: 2293.3193 ms\n",
      "[2025-07-26 21:41:10.961] [info] Simulating optical element 2/2\n"
     ]
    },
    {
     "name": "stderr",
     "output_type": "stream",
     "text": [
      " 81%|██████████████████████████████████████████████████████████████████▍               | 81/100 [06:44<01:34,  4.96s/it]"
     ]
    },
    {
     "name": "stdout",
     "output_type": "stream",
     "text": [
      "[2025-07-26 21:41:13.255] [info] Elapsed time for optical element: 2293.631 ms\n",
      "[2025-07-26 21:41:13.271] [info] Simulation finished in 4.889827996 seconds\n",
      "[2025-07-26 21:41:13.364] [info] Running simulation /mnt/d/rave-sim-main/rave-sim-main/output/2025/07/20250726_213427935159/00000081\n",
      "[2025-07-26 21:41:13.606] [info] Simulating optical element 1/2\n",
      "[2025-07-26 21:41:15.896] [info] Elapsed time for optical element: 2289.4927 ms\n",
      "[2025-07-26 21:41:15.901] [info] Simulating optical element 2/2\n"
     ]
    },
    {
     "name": "stderr",
     "output_type": "stream",
     "text": [
      " 82%|███████████████████████████████████████████████████████████████████▏              | 82/100 [06:49<01:29,  4.95s/it]"
     ]
    },
    {
     "name": "stdout",
     "output_type": "stream",
     "text": [
      "[2025-07-26 21:41:18.190] [info] Elapsed time for optical element: 2289.01 ms\n",
      "[2025-07-26 21:41:18.205] [info] Simulation finished in 4.841155347 seconds\n",
      "[2025-07-26 21:41:18.297] [info] Running simulation /mnt/d/rave-sim-main/rave-sim-main/output/2025/07/20250726_213427935159/00000082\n",
      "[2025-07-26 21:41:18.552] [info] Simulating optical element 1/2\n",
      "[2025-07-26 21:41:20.843] [info] Elapsed time for optical element: 2290.7913 ms\n",
      "[2025-07-26 21:41:20.848] [info] Simulating optical element 2/2\n"
     ]
    },
    {
     "name": "stderr",
     "output_type": "stream",
     "text": [
      " 83%|████████████████████████████████████████████████████████████████████              | 83/100 [06:54<01:24,  4.95s/it]"
     ]
    },
    {
     "name": "stdout",
     "output_type": "stream",
     "text": [
      "[2025-07-26 21:41:23.139] [info] Elapsed time for optical element: 2290.7732 ms\n",
      "[2025-07-26 21:41:23.155] [info] Simulation finished in 4.857240091 seconds\n",
      "[2025-07-26 21:41:23.247] [info] Running simulation /mnt/d/rave-sim-main/rave-sim-main/output/2025/07/20250726_213427935159/00000083\n",
      "[2025-07-26 21:41:23.506] [info] Simulating optical element 1/2\n",
      "[2025-07-26 21:41:25.792] [info] Elapsed time for optical element: 2286.2966 ms\n",
      "[2025-07-26 21:41:25.797] [info] Simulating optical element 2/2\n"
     ]
    },
    {
     "name": "stderr",
     "output_type": "stream",
     "text": [
      " 84%|████████████████████████████████████████████████████████████████████▉             | 84/100 [06:59<01:19,  4.95s/it]"
     ]
    },
    {
     "name": "stdout",
     "output_type": "stream",
     "text": [
      "[2025-07-26 21:41:28.083] [info] Elapsed time for optical element: 2286.0503 ms\n",
      "[2025-07-26 21:41:28.099] [info] Simulation finished in 4.851859822 seconds\n",
      "[2025-07-26 21:41:28.192] [info] Running simulation /mnt/d/rave-sim-main/rave-sim-main/output/2025/07/20250726_213427935159/00000084\n",
      "[2025-07-26 21:41:28.458] [info] Simulating optical element 1/2\n",
      "[2025-07-26 21:41:30.744] [info] Elapsed time for optical element: 2285.3975 ms\n",
      "[2025-07-26 21:41:30.748] [info] Simulating optical element 2/2\n"
     ]
    },
    {
     "name": "stderr",
     "output_type": "stream",
     "text": [
      " 85%|█████████████████████████████████████████████████████████████████████▋            | 85/100 [07:04<01:14,  4.95s/it]"
     ]
    },
    {
     "name": "stdout",
     "output_type": "stream",
     "text": [
      "[2025-07-26 21:41:33.034] [info] Elapsed time for optical element: 2285.5574 ms\n",
      "[2025-07-26 21:41:33.050] [info] Simulation finished in 4.857552785 seconds\n",
      "[2025-07-26 21:41:33.144] [info] Running simulation /mnt/d/rave-sim-main/rave-sim-main/output/2025/07/20250726_213427935159/00000085\n",
      "[2025-07-26 21:41:33.419] [info] Simulating optical element 1/2\n",
      "[2025-07-26 21:41:35.713] [info] Elapsed time for optical element: 2293.6846 ms\n",
      "[2025-07-26 21:41:35.718] [info] Simulating optical element 2/2\n"
     ]
    },
    {
     "name": "stderr",
     "output_type": "stream",
     "text": [
      " 86%|██████████████████████████████████████████████████████████████████████▌           | 86/100 [07:09<01:09,  4.96s/it]"
     ]
    },
    {
     "name": "stdout",
     "output_type": "stream",
     "text": [
      "[2025-07-26 21:41:38.012] [info] Elapsed time for optical element: 2293.425 ms\n",
      "[2025-07-26 21:41:38.029] [info] Simulation finished in 4.885140573 seconds\n",
      "[2025-07-26 21:41:38.127] [info] Running simulation /mnt/d/rave-sim-main/rave-sim-main/output/2025/07/20250726_213427935159/00000086\n",
      "[2025-07-26 21:41:38.417] [info] Simulating optical element 1/2\n",
      "[2025-07-26 21:41:40.704] [info] Elapsed time for optical element: 2287.075 ms\n",
      "[2025-07-26 21:41:40.709] [info] Simulating optical element 2/2\n"
     ]
    },
    {
     "name": "stderr",
     "output_type": "stream",
     "text": [
      " 87%|███████████████████████████████████████████████████████████████████████▎          | 87/100 [07:14<01:04,  4.97s/it]"
     ]
    },
    {
     "name": "stdout",
     "output_type": "stream",
     "text": [
      "[2025-07-26 21:41:42.996] [info] Elapsed time for optical element: 2286.8376 ms\n",
      "[2025-07-26 21:41:43.012] [info] Simulation finished in 4.884644393 seconds\n",
      "[2025-07-26 21:41:43.108] [info] Running simulation /mnt/d/rave-sim-main/rave-sim-main/output/2025/07/20250726_213427935159/00000087\n",
      "[2025-07-26 21:41:43.382] [info] Simulating optical element 1/2\n",
      "[2025-07-26 21:41:45.676] [info] Elapsed time for optical element: 2293.824 ms\n",
      "[2025-07-26 21:41:45.681] [info] Simulating optical element 2/2\n"
     ]
    },
    {
     "name": "stderr",
     "output_type": "stream",
     "text": [
      " 88%|████████████████████████████████████████████████████████████████████████▏         | 88/100 [07:19<00:59,  4.97s/it]"
     ]
    },
    {
     "name": "stdout",
     "output_type": "stream",
     "text": [
      "[2025-07-26 21:41:47.975] [info] Elapsed time for optical element: 2294.38 ms\n",
      "[2025-07-26 21:41:47.992] [info] Simulation finished in 4.884324614 seconds\n",
      "[2025-07-26 21:41:48.085] [info] Running simulation /mnt/d/rave-sim-main/rave-sim-main/output/2025/07/20250726_213427935159/00000088\n",
      "[2025-07-26 21:41:48.377] [info] Simulating optical element 1/2\n",
      "[2025-07-26 21:41:50.668] [info] Elapsed time for optical element: 2290.6895 ms\n",
      "[2025-07-26 21:41:50.673] [info] Simulating optical element 2/2\n"
     ]
    },
    {
     "name": "stderr",
     "output_type": "stream",
     "text": [
      " 89%|████████████████████████████████████████████████████████████████████████▉         | 89/100 [07:24<00:54,  4.98s/it]"
     ]
    },
    {
     "name": "stdout",
     "output_type": "stream",
     "text": [
      "[2025-07-26 21:41:52.963] [info] Elapsed time for optical element: 2290.146 ms\n",
      "[2025-07-26 21:41:52.980] [info] Simulation finished in 4.89429058 seconds\n",
      "[2025-07-26 21:41:53.077] [info] Running simulation /mnt/d/rave-sim-main/rave-sim-main/output/2025/07/20250726_213427935159/00000089\n",
      "[2025-07-26 21:41:53.326] [info] Simulating optical element 1/2\n",
      "[2025-07-26 21:41:55.616] [info] Elapsed time for optical element: 2289.395 ms\n",
      "[2025-07-26 21:41:55.621] [info] Simulating optical element 2/2\n"
     ]
    },
    {
     "name": "stderr",
     "output_type": "stream",
     "text": [
      " 90%|█████████████████████████████████████████████████████████████████████████▊        | 90/100 [07:29<00:49,  4.97s/it]"
     ]
    },
    {
     "name": "stdout",
     "output_type": "stream",
     "text": [
      "[2025-07-26 21:41:57.910] [info] Elapsed time for optical element: 2289.1255 ms\n",
      "[2025-07-26 21:41:57.927] [info] Simulation finished in 4.849261362 seconds\n",
      "[2025-07-26 21:41:58.023] [info] Running simulation /mnt/d/rave-sim-main/rave-sim-main/output/2025/07/20250726_213427935159/00000090\n",
      "[2025-07-26 21:41:58.301] [info] Simulating optical element 1/2\n",
      "[2025-07-26 21:42:00.586] [info] Elapsed time for optical element: 2284.1243 ms\n",
      "[2025-07-26 21:42:00.590] [info] Simulating optical element 2/2\n"
     ]
    },
    {
     "name": "stderr",
     "output_type": "stream",
     "text": [
      " 91%|██████████████████████████████████████████████████████████████████████████▌       | 91/100 [07:34<00:44,  4.97s/it]"
     ]
    },
    {
     "name": "stdout",
     "output_type": "stream",
     "text": [
      "[2025-07-26 21:42:02.875] [info] Elapsed time for optical element: 2284.559 ms\n",
      "[2025-07-26 21:42:02.891] [info] Simulation finished in 4.867804491 seconds\n",
      "[2025-07-26 21:42:02.986] [info] Running simulation /mnt/d/rave-sim-main/rave-sim-main/output/2025/07/20250726_213427935159/00000091\n",
      "[2025-07-26 21:42:03.276] [info] Simulating optical element 1/2\n",
      "[2025-07-26 21:42:05.570] [info] Elapsed time for optical element: 2294.6423 ms\n",
      "[2025-07-26 21:42:05.575] [info] Simulating optical element 2/2\n"
     ]
    },
    {
     "name": "stderr",
     "output_type": "stream",
     "text": [
      " 92%|███████████████████████████████████████████████████████████████████████████▍      | 92/100 [07:39<00:39,  4.98s/it]"
     ]
    },
    {
     "name": "stdout",
     "output_type": "stream",
     "text": [
      "[2025-07-26 21:42:07.870] [info] Elapsed time for optical element: 2294.119 ms\n",
      "[2025-07-26 21:42:07.885] [info] Simulation finished in 4.899307177 seconds\n",
      "[2025-07-26 21:42:08.007] [info] Running simulation /mnt/d/rave-sim-main/rave-sim-main/output/2025/07/20250726_213427935159/00000092\n",
      "[2025-07-26 21:42:08.282] [info] Simulating optical element 1/2\n",
      "[2025-07-26 21:42:10.570] [info] Elapsed time for optical element: 2287.3655 ms\n",
      "[2025-07-26 21:42:10.575] [info] Simulating optical element 2/2\n"
     ]
    },
    {
     "name": "stderr",
     "output_type": "stream",
     "text": [
      " 93%|████████████████████████████████████████████████████████████████████████████▎     | 93/100 [07:44<00:34,  4.98s/it]"
     ]
    },
    {
     "name": "stdout",
     "output_type": "stream",
     "text": [
      "[2025-07-26 21:42:12.862] [info] Elapsed time for optical element: 2287.0667 ms\n",
      "[2025-07-26 21:42:12.877] [info] Simulation finished in 4.870375337 seconds\n",
      "[2025-07-26 21:42:12.972] [info] Running simulation /mnt/d/rave-sim-main/rave-sim-main/output/2025/07/20250726_213427935159/00000093\n",
      "[2025-07-26 21:42:13.235] [info] Simulating optical element 1/2\n",
      "[2025-07-26 21:42:15.523] [info] Elapsed time for optical element: 2288.2341 ms\n",
      "[2025-07-26 21:42:15.528] [info] Simulating optical element 2/2\n"
     ]
    },
    {
     "name": "stderr",
     "output_type": "stream",
     "text": [
      " 94%|█████████████████████████████████████████████████████████████████████████████     | 94/100 [07:49<00:29,  4.97s/it]"
     ]
    },
    {
     "name": "stdout",
     "output_type": "stream",
     "text": [
      "[2025-07-26 21:42:17.817] [info] Elapsed time for optical element: 2288.7573 ms\n",
      "[2025-07-26 21:42:17.834] [info] Simulation finished in 4.862641434 seconds\n",
      "[2025-07-26 21:42:17.927] [info] Running simulation /mnt/d/rave-sim-main/rave-sim-main/output/2025/07/20250726_213427935159/00000094\n",
      "[2025-07-26 21:42:18.203] [info] Simulating optical element 1/2\n",
      "[2025-07-26 21:42:20.490] [info] Elapsed time for optical element: 2287.4143 ms\n",
      "[2025-07-26 21:42:20.495] [info] Simulating optical element 2/2\n"
     ]
    },
    {
     "name": "stderr",
     "output_type": "stream",
     "text": [
      " 95%|█████████████████████████████████████████████████████████████████████████████▉    | 95/100 [07:54<00:24,  4.97s/it]"
     ]
    },
    {
     "name": "stdout",
     "output_type": "stream",
     "text": [
      "[2025-07-26 21:42:22.782] [info] Elapsed time for optical element: 2286.6426 ms\n",
      "[2025-07-26 21:42:22.798] [info] Simulation finished in 4.869998801 seconds\n",
      "[2025-07-26 21:42:22.891] [info] Running simulation /mnt/d/rave-sim-main/rave-sim-main/output/2025/07/20250726_213427935159/00000095\n",
      "[2025-07-26 21:42:23.181] [info] Simulating optical element 1/2\n",
      "[2025-07-26 21:42:25.466] [info] Elapsed time for optical element: 2284.5112 ms\n",
      "[2025-07-26 21:42:25.471] [info] Simulating optical element 2/2\n"
     ]
    },
    {
     "name": "stderr",
     "output_type": "stream",
     "text": [
      " 96%|██████████████████████████████████████████████████████████████████████████████▋   | 96/100 [07:59<00:19,  4.97s/it]"
     ]
    },
    {
     "name": "stdout",
     "output_type": "stream",
     "text": [
      "[2025-07-26 21:42:27.756] [info] Elapsed time for optical element: 2284.8606 ms\n",
      "[2025-07-26 21:42:27.772] [info] Simulation finished in 4.880194702 seconds\n",
      "[2025-07-26 21:42:27.867] [info] Running simulation /mnt/d/rave-sim-main/rave-sim-main/output/2025/07/20250726_213427935159/00000096\n",
      "[2025-07-26 21:42:28.163] [info] Simulating optical element 1/2\n",
      "[2025-07-26 21:42:30.456] [info] Elapsed time for optical element: 2293.023 ms\n",
      "[2025-07-26 21:42:30.461] [info] Simulating optical element 2/2\n"
     ]
    },
    {
     "name": "stderr",
     "output_type": "stream",
     "text": [
      " 97%|███████████████████████████████████████████████████████████████████████████████▌  | 97/100 [08:04<00:14,  4.98s/it]"
     ]
    },
    {
     "name": "stdout",
     "output_type": "stream",
     "text": [
      "[2025-07-26 21:42:32.754] [info] Elapsed time for optical element: 2293.1633 ms\n",
      "[2025-07-26 21:42:32.770] [info] Simulation finished in 4.902950606 seconds\n",
      "[2025-07-26 21:42:32.864] [info] Running simulation /mnt/d/rave-sim-main/rave-sim-main/output/2025/07/20250726_213427935159/00000097\n",
      "[2025-07-26 21:42:33.146] [info] Simulating optical element 1/2\n",
      "[2025-07-26 21:42:35.434] [info] Elapsed time for optical element: 2287.5503 ms\n",
      "[2025-07-26 21:42:35.439] [info] Simulating optical element 2/2\n"
     ]
    },
    {
     "name": "stderr",
     "output_type": "stream",
     "text": [
      " 98%|████████████████████████████████████████████████████████████████████████████████▎ | 98/100 [08:08<00:09,  4.98s/it]"
     ]
    },
    {
     "name": "stdout",
     "output_type": "stream",
     "text": [
      "[2025-07-26 21:42:37.727] [info] Elapsed time for optical element: 2288.2324 ms\n",
      "[2025-07-26 21:42:37.744] [info] Simulation finished in 4.879469144 seconds\n",
      "[2025-07-26 21:42:37.839] [info] Running simulation /mnt/d/rave-sim-main/rave-sim-main/output/2025/07/20250726_213427935159/00000098\n",
      "[2025-07-26 21:42:38.085] [info] Simulating optical element 1/2\n",
      "[2025-07-26 21:42:40.369] [info] Elapsed time for optical element: 2283.1953 ms\n",
      "[2025-07-26 21:42:40.373] [info] Simulating optical element 2/2\n"
     ]
    },
    {
     "name": "stderr",
     "output_type": "stream",
     "text": [
      " 99%|█████████████████████████████████████████████████████████████████████████████████▏| 99/100 [08:13<00:04,  4.96s/it]"
     ]
    },
    {
     "name": "stdout",
     "output_type": "stream",
     "text": [
      "[2025-07-26 21:42:42.656] [info] Elapsed time for optical element: 2282.7585 ms\n",
      "[2025-07-26 21:42:42.672] [info] Simulation finished in 4.833180503 seconds\n",
      "[2025-07-26 21:42:42.765] [info] Running simulation /mnt/d/rave-sim-main/rave-sim-main/output/2025/07/20250726_213427935159/00000099\n",
      "[2025-07-26 21:42:43.010] [info] Simulating optical element 1/2\n",
      "[2025-07-26 21:42:45.299] [info] Elapsed time for optical element: 2289.3 ms\n",
      "[2025-07-26 21:42:45.304] [info] Simulating optical element 2/2\n"
     ]
    },
    {
     "name": "stderr",
     "output_type": "stream",
     "text": [
      "100%|█████████████████████████████████████████████████████████████████████████████████| 100/100 [08:18<00:00,  4.99s/it]"
     ]
    },
    {
     "name": "stdout",
     "output_type": "stream",
     "text": [
      "[2025-07-26 21:42:47.593] [info] Elapsed time for optical element: 2288.9954 ms\n",
      "[2025-07-26 21:42:47.609] [info] Simulation finished in 4.843987576 seconds\n"
     ]
    },
    {
     "name": "stderr",
     "output_type": "stream",
     "text": [
      "\n"
     ]
    }
   ],
   "source": [
    "# Run this in a for loop to simulate all source points or\n",
    "# alternatively run the source points as individual euler\n",
    "# jobs\n",
    "#for i in range(20):\n",
    "#    multisim.run_single_simulation(sim_path, i, scratch_dir, save_keypoints_path=scratch_dir)\n",
    "for i in tqdm(range(config_dict[\"multisource\"][\"nr_source_points\"])):\n",
    "    os.system(f\"CUDA_VISIBLE_DEVICES=0 /mnt/d/rave-sim-main/rave-sim-main/fast-wave/build-Release/fastwave -s {i} {sim_path}\")"
   ]
  },
  {
   "cell_type": "code",
   "execution_count": 8,
   "id": "9363befa",
   "metadata": {},
   "outputs": [
    {
     "name": "stdout",
     "output_type": "stream",
     "text": [
      "nr sources loaded: 76\n",
      "nr phase steps: 1\n",
      "nr detector pixels: 150\n"
     ]
    }
   ],
   "source": [
    "wavefronts = util.load_wavefronts_filtered(sim_path, x_range=(-3e-6, 3e-6))\n",
    "print(\"nr sources loaded:\", len(wavefronts))\n",
    "wavef= [result[0] for result in wavefronts]\n",
    "wf = np.sum(wavef, axis=0)\n",
    "print(\"nr phase steps:\", wf.shape[0])\n",
    "print(\"nr detector pixels:\", wf.shape[1])"
   ]
  },
  {
   "cell_type": "code",
   "execution_count": 9,
   "id": "173a4986",
   "metadata": {},
   "outputs": [
    {
     "name": "stdout",
     "output_type": "stream",
     "text": [
      "[5.5455424e-05 5.5668981e-05 5.5706245e-05 5.5612702e-05 5.5584649e-05\n",
      " 5.5586144e-05 5.5580138e-05 5.5578974e-05 5.5571461e-05 5.5579945e-05\n",
      " 5.5574343e-05 5.5581666e-05 5.5587985e-05 5.5587461e-05 5.5588549e-05\n",
      " 5.5587727e-05 5.5584886e-05 5.5575976e-05 5.5573157e-05 5.5573779e-05\n",
      " 5.5575292e-05 5.5574503e-05 5.5572465e-05 5.5570817e-05 5.5572509e-05\n",
      " 5.5575616e-05 5.5573375e-05 5.5572895e-05 5.5561784e-05 5.5552533e-05\n",
      " 5.5551678e-05 5.5549928e-05 5.5551860e-05 5.5550128e-05 5.5553715e-05\n",
      " 5.5555869e-05 5.5559871e-05 5.5555745e-05 5.5560737e-05 5.5570465e-05\n",
      " 5.5586603e-05 5.5594879e-05 5.5589124e-05 5.5594213e-05 5.5595840e-05\n",
      " 5.5600394e-05 5.5586646e-05 5.5595181e-05 5.5596476e-05 5.5595479e-05\n",
      " 5.5600736e-05 5.5615983e-05 5.5616692e-05 5.5622590e-05 5.5638571e-05\n",
      " 5.5625675e-05 5.5642009e-05 5.5629851e-05 5.5619756e-05 5.5632343e-05\n",
      " 5.5618551e-05 5.5651766e-05 5.5621389e-05 5.5622018e-05 5.5670633e-05\n",
      " 5.5643231e-05 5.5636869e-05 5.5648936e-05 5.5695629e-05 5.5662516e-05\n",
      " 5.5673070e-05 5.5701159e-05 5.5665292e-05 5.5706285e-05 5.5743556e-05\n",
      " 5.5719582e-05 5.5737586e-05 5.5750577e-05 5.5839122e-05 5.5789129e-05\n",
      " 5.5869041e-05 5.5960489e-05 5.6123725e-05 5.6371115e-05 5.6490735e-05\n",
      " 5.7037105e-05 6.3542415e-05 5.4815617e-05 4.3992375e-05 4.4459295e-05\n",
      " 7.0112896e-05 8.2574530e-05 7.3436699e-05 7.2846771e-05 7.2981944e-05\n",
      " 7.2284616e-05 7.2134404e-05 7.2040290e-05 7.2038405e-05 7.2072602e-05\n",
      " 7.1940020e-05 7.2085408e-05 7.1873830e-05 7.1963448e-05 7.1942653e-05\n",
      " 7.1907874e-05 7.1942115e-05 7.1933784e-05 7.1878174e-05 7.1917544e-05\n",
      " 7.1884206e-05 7.1854534e-05 7.1883704e-05 7.1886723e-05 7.1844755e-05\n",
      " 7.1875962e-05 7.1860639e-05 7.1853086e-05 7.1852715e-05 7.1860377e-05\n",
      " 7.1846283e-05 7.1835741e-05 7.1823626e-05 7.1819421e-05 7.1816830e-05\n",
      " 7.1820279e-05 7.1811832e-05 7.1819428e-05 7.1821123e-05 7.1819719e-05\n",
      " 7.1814182e-05 7.1820527e-05 7.1836032e-05 7.1840914e-05 7.1853479e-05\n",
      " 7.1850947e-05 7.1850576e-05 7.1847426e-05 7.1848197e-05 7.1826435e-05\n",
      " 7.1840295e-05 7.1832939e-05 7.1852082e-05 7.1847375e-05 7.1884380e-05\n",
      " 7.1927192e-05 7.1933922e-05 7.1953851e-05 7.2023082e-05 7.1453178e-05]\n",
      "[-1.48e-03 -1.46e-03 -1.44e-03 -1.42e-03 -1.40e-03 -1.38e-03 -1.36e-03\n",
      " -1.34e-03 -1.32e-03 -1.30e-03 -1.28e-03 -1.26e-03 -1.24e-03 -1.22e-03\n",
      " -1.20e-03 -1.18e-03 -1.16e-03 -1.14e-03 -1.12e-03 -1.10e-03 -1.08e-03\n",
      " -1.06e-03 -1.04e-03 -1.02e-03 -1.00e-03 -9.80e-04 -9.60e-04 -9.40e-04\n",
      " -9.20e-04 -9.00e-04 -8.80e-04 -8.60e-04 -8.40e-04 -8.20e-04 -8.00e-04\n",
      " -7.80e-04 -7.60e-04 -7.40e-04 -7.20e-04 -7.00e-04 -6.80e-04 -6.60e-04\n",
      " -6.40e-04 -6.20e-04 -6.00e-04 -5.80e-04 -5.60e-04 -5.40e-04 -5.20e-04\n",
      " -5.00e-04 -4.80e-04 -4.60e-04 -4.40e-04 -4.20e-04 -4.00e-04 -3.80e-04\n",
      " -3.60e-04 -3.40e-04 -3.20e-04 -3.00e-04 -2.80e-04 -2.60e-04 -2.40e-04\n",
      " -2.20e-04 -2.00e-04 -1.80e-04 -1.60e-04 -1.40e-04 -1.20e-04 -1.00e-04\n",
      " -8.00e-05 -6.00e-05 -4.00e-05 -2.00e-05  0.00e+00  2.00e-05  4.00e-05\n",
      "  6.00e-05  8.00e-05  1.00e-04  1.20e-04  1.40e-04  1.60e-04  1.80e-04\n",
      "  2.00e-04  2.20e-04  2.40e-04  2.60e-04  2.80e-04  3.00e-04  3.20e-04\n",
      "  3.40e-04  3.60e-04  3.80e-04  4.00e-04  4.20e-04  4.40e-04  4.60e-04\n",
      "  4.80e-04  5.00e-04  5.20e-04  5.40e-04  5.60e-04  5.80e-04  6.00e-04\n",
      "  6.20e-04  6.40e-04  6.60e-04  6.80e-04  7.00e-04  7.20e-04  7.40e-04\n",
      "  7.60e-04  7.80e-04  8.00e-04  8.20e-04  8.40e-04  8.60e-04  8.80e-04\n",
      "  9.00e-04  9.20e-04  9.40e-04  9.60e-04  9.80e-04  1.00e-03  1.02e-03\n",
      "  1.04e-03  1.06e-03  1.08e-03  1.10e-03  1.12e-03  1.14e-03  1.16e-03\n",
      "  1.18e-03  1.20e-03  1.22e-03  1.24e-03  1.26e-03  1.28e-03  1.30e-03\n",
      "  1.32e-03  1.34e-03  1.36e-03  1.38e-03  1.40e-03  1.42e-03  1.44e-03\n",
      "  1.46e-03  1.48e-03]\n"
     ]
    },
    {
     "data": {
      "image/png": "[encoded data removed]",
      "text/plain": [
       "<Figure size 640x480 with 1 Axes>"
      ]
     },
     "metadata": {},
     "output_type": "display_data"
    }
   ],
   "source": [
    "sp = config_dict[\"sim_params\"]\n",
    "detector_x = util.detector_x_vector(sp[\"detector_size\"], sp[\"detector_pixel_size_x\"])\n",
    "plt.plot(wf[0])\n",
    "print(wf[0])\n",
    "print(detector_x)"
   ]
  },
  {
   "cell_type": "markdown",
   "id": "fbe420b4",
   "metadata": {},
   "source": [
    "## History\n",
    "\n",
    "To see the interference pattern in empty space, we can record slices throughout the simulation and then plot them. `run_single_simulation` takes an optional argument `history_dz` defining the resolution with which we record the history.\n",
    "\n",
    "Note that the history is not necessarily recorded with a constant z-spacing. Inside gratings and samples, one slice is recorded for every step. The history also records a list of z-coordinates at which the slices were recorded, which we can use for plotting."
   ]
  },
  {
   "cell_type": "code",
   "execution_count": null,
   "id": "93e5ce0a",
   "metadata": {},
   "outputs": [],
   "source": [
    "multisim.run_single_simulation(sim_path, 1, scratch_dir, save_keypoints_path=None, history_dz=0.02)"
   ]
  },
  {
   "cell_type": "code",
   "execution_count": null,
   "id": "26a67a4e",
   "metadata": {},
   "outputs": [],
   "source": [
    "# Path to the directory for the source with index 1\n",
    "source_dir = multisim.get_sub_dir(sim_path, 1)\n",
    "\n",
    "hist_x = np.load(source_dir / \"history_x.npy\")\n",
    "hist_z = np.load(source_dir / \"history_z.npy\")\n",
    "hist = np.load(source_dir / \"history.npy\")\n",
    "plt.pcolormesh(\n",
    "    hist_z,\n",
    "    hist_x,\n",
    "    hist,\n",
    "    cmap=\"Greys_r\",\n",
    "    vmin=0,\n",
    "    vmax=1e-6,\n",
    "    shading=\"nearest\",\n",
    ")\n",
    "plt.xlabel(\"z (m)\")\n",
    "plt.ylabel(\"x (m)\")"
   ]
  },
  {
   "cell_type": "code",
   "execution_count": null,
   "id": "1933f7ee-a108-4f53-b532-0040f4abcc7f",
   "metadata": {},
   "outputs": [],
   "source": []
  },
  {
   "cell_type": "code",
   "execution_count": null,
   "id": "911872bd-d9c4-4c14-802c-d09c858243c9",
   "metadata": {},
   "outputs": [],
   "source": []
  }
 ],
 "metadata": {
  "kernelspec": {
   "display_name": "Python 3 (ipykernel)",
   "language": "python",
   "name": "python3"
  },
  "language_info": {
   "codemirror_mode": {
    "name": "ipython",
    "version": 3
   },
   "file_extension": ".py",
   "mimetype": "text/x-python",
   "name": "python",
   "nbconvert_exporter": "python",
   "pygments_lexer": "ipython3",
   "version": "3.11.9"
  }
 },
 "nbformat": 4,
 "nbformat_minor": 5
}
