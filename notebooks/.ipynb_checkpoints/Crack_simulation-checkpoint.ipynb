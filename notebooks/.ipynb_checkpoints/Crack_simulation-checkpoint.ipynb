{
 "cells": [
  {
   "cell_type": "code",
   "execution_count": 1,
   "id": "03722768",
   "metadata": {},
   "outputs": [],
   "source": [
    "# Copyright (c) 2024, ETH Zurich"
   ]
  },
  {
   "cell_type": "code",
   "execution_count": 2,
   "id": "98934796-d8a5-4b55-8bc6-b038ba2f1329",
   "metadata": {},
   "outputs": [],
   "source": [
    "import sys\n",
    "from pathlib import Path\n",
    "import numpy as np\n",
    "import matplotlib.pyplot as plt \n",
    "import os\n",
    "import scipy.stats as stats\n",
    "import scipy.ndimage\n",
    "from tqdm import tqdm\n",
    "import spekpy as spk\n",
    "import h5py\n",
    "\n",
    "from scipy import interpolate"
   ]
  },
  {
   "cell_type": "code",
   "execution_count": 3,
   "id": "350e8e6a-9b12-40e5-9b42-3731569c72c1",
   "metadata": {},
   "outputs": [],
   "source": [
    "rave_sim_dir = Path('/mnt/d/rave-sim-main/rave-sim-main')\n",
    "simulations_dir = Path('/mnt/d/rave-sim-main/rave-sim-main/output')\n",
    "scratch_dir = simulations_dir\n",
    "\n",
    "sys.path.insert(0, str(rave_sim_dir / \"nist_lookup\"))\n",
    "from nist_lookup.xraydb_plugin import xray_delta_beta"
   ]
  },
  {
   "cell_type": "code",
   "execution_count": 4,
   "id": "4a372a03-9e15-4caf-a22f-1536e365e3cc",
   "metadata": {},
   "outputs": [],
   "source": [
    "sys.path.insert(0, str(rave_sim_dir / \"big-wave\"))\n",
    "import multisim\n",
    "import config\n",
    "import util\n",
    "import propagation\n"
   ]
  },
  {
   "cell_type": "code",
   "execution_count": 5,
   "id": "7e729ef7-8ce6-440b-b16d-fcf3729d11e7",
   "metadata": {},
   "outputs": [],
   "source": [
    "def calculate_G1_height(eng):\n",
    "    # constants\n",
    "    h = 6.62607004 * 10**(-34) # planck constant in mˆ2 kg / s\n",
    "    c_0 = 299792458 # speed of light in m / s\n",
    "    eV_to_joule = 1.602176634*10**(-19)\n",
    "    N_A = 6.02214086 * 10**23 #[1/mol]\n",
    "    \n",
    "    lambda_ = h * c_0 / (eng*eV_to_joule)\n",
    "    delta_diff = xray_delta_beta('Au', 19.32, eng)[0] -  xray_delta_beta('Si', 2.34, eng)[0]\n",
    "    height = np.pi  * lambda_ / (2*np.pi * delta_diff)\n",
    "\n",
    "    return height\n",
    "\n",
    "\n",
    "def signal_retrieval_least_squares(data, period=None, axis=-1):\n",
    "    if axis != -1:\n",
    "        data = np.moveaxis(data, axis, -1)\n",
    "\n",
    "    nsteps = data.shape[-1]\n",
    "\n",
    "    if period is None:\n",
    "        period = nsteps\n",
    "\n",
    "    phi = np.linspace(0, 2 * np.pi * nsteps / (period), nsteps, endpoint=False)\n",
    "    M = np.c_[np.sin(phi), np.cos(phi), np.ones(nsteps)]\n",
    "    res, chi2, _rank, _sing_vals = np.linalg.lstsq(M, data.reshape((-1, nsteps)).T, rcond=-1)\n",
    "\n",
    "    res = res.T.reshape((*data.shape[:-1], -1))\n",
    "\n",
    "    dabs = res[...,2]\n",
    "    dphase = -np.arctan2(res[...,0], res[...,1])\n",
    "    dvis = np.sqrt(res[...,0]**2 + res[...,1]**2) / dabs\n",
    "\n",
    "    # normalization to the total number of counts\n",
    "    dabs *= nsteps\n",
    "\n",
    "    return dabs, dphase, dvis, np.nanmean(chi2)\n",
    "\n",
    "\n",
    "def calculate_pixel_intensity(x, fringe, pxEdges, statistics = 'sum'):\n",
    "    fringeStats = stats.binned_statistic(x, fringe, bins=pxEdges, statistic = statistics)\n",
    "    return fringeStats.statistic\n",
    "\n",
    "def perform_binned_signal_retrieval(x, wf, pxSize, nrSteps, plot_curve = True):\n",
    "    leftSide = np.arange(0-pxSize/2, np.min(x), -pxSize)\n",
    "    rightSide = np.arange(0 + pxSize/2, np.max(x), pxSize)\n",
    "    pxEdges = np.concatenate([np.flip(leftSide), rightSide])\n",
    "    int_px = []\n",
    "    for i in range(nrSteps):\n",
    "        int_px.append(calculate_pixel_intensity(x, wf[i,:], pxEdges))\n",
    "    int_px = np.asarray(int_px)\n",
    "\n",
    "    trans, phase, vis, _ = signal_retrieval_least_squares(int_px, period = nrSteps, axis = 0)\n",
    "    if plot_curve:\n",
    "        plot_curves(trans, phase, vis, pxEdges)\n",
    "    return int_px, trans, phase, vis, pxEdges\n",
    "\n",
    "def perform_binning(x, wf, pxSize):\n",
    "    leftSide = np.arange(0-pxSize/2, np.min(x), -pxSize)\n",
    "    rightSide = np.arange(0 + pxSize/2, np.max(x), pxSize)\n",
    "    pxEdges = np.concatenate([np.flip(leftSide), rightSide])\n",
    "    int_px = calculate_pixel_intensity(x, wf, pxEdges, statistics = 'mean')\n",
    "    return int_px\n",
    "\n",
    "def find_nearest(array, value):\n",
    "    array = np.asarray(array)\n",
    "    idx = (np.abs(array - value)).argmin()\n",
    "    return idx\n",
    "\n",
    "def get_subdict(dict_, idx):\n",
    "    sub_dict = {}\n",
    "    for key in dict_.keys():\n",
    "        sub_dict[key] = dict_[key][idx]\n",
    "    return sub_dict\n",
    "\n",
    "def calc_Vis_theoretical(eng, Edes,m):\n",
    "    V = 2/np.pi * np.abs(np.sin(np.pi / 2 * Edes / eng)**2 * np.sin(m * np.pi / 2 * Edes / eng))\n",
    "    return V"
   ]
  },
  {
   "cell_type": "code",
   "execution_count": 6,
   "id": "d8806a5b-4fb4-4b74-8a43-2a09b5dac066",
   "metadata": {},
   "outputs": [
    {
     "name": "stdout",
     "output_type": "stream",
     "text": [
      "Z0:  0.1\n",
      "Z1:  0.9180881351464869\n",
      "Z2:  1.736176270292974\n",
      "Z Detector:  1.746176270292974\n",
      "0.8180881351464869\n"
     ]
    }
   ],
   "source": [
    "# constants\n",
    "h = 6.62607004 * 10**(-34) # planck constant in mˆ2 kg / s\n",
    "c_0 = 299792458 # speed of light in m / s\n",
    "eV_to_joule = 1.602176634*10**(-19)\n",
    "N_A = 6.02214086 * 10**23 #[1/mol]\n",
    "E_des = 46000\n",
    "\n",
    "lambda_ = h * c_0 / (E_des*eV_to_joule)\n",
    "p2 = 4.2*10**(-6)\n",
    "p0 = p1 = p2\n",
    "\n",
    "Dn_5 = 5*p2**2/(2*lambda_) / 2\n",
    "\n",
    "z_g0 = 0.1\n",
    "z_g1 = z_g0 + Dn_5\n",
    "z_g2 = z_g0 + 2*Dn_5\n",
    "z_detector = z_g2 + 0.01\n",
    "\n",
    "h0 = h2 = 180e-6\n",
    "h1 = 59e-6\n",
    "\n",
    "print(\"Z0: \", z_g0)\n",
    "print(\"Z1: \", z_g1)\n",
    "print(\"Z2: \", z_g2)\n",
    "print(\"Z Detector: \", z_detector)\n",
    "\n",
    "print(Dn_5)"
   ]
  },
  {
   "cell_type": "code",
   "execution_count": 7,
   "id": "93dc1df7-e101-49df-9858-c86481f31ef8",
   "metadata": {},
   "outputs": [],
   "source": [
    "N = 2**26\n",
    "max_energy = 70000\n",
    "dx = propagation.max_dx(z_g0, 200e-6, N, propagation.convert_energy_wavelength(max_energy))"
   ]
  },
  {
   "cell_type": "code",
   "execution_count": 8,
   "id": "7a3ed05a-6155-492a-bfa3-bf2bebd6c9cd",
   "metadata": {},
   "outputs": [
    {
     "data": {
      "text/plain": [
       "9.334365630181222e-09"
      ]
     },
     "execution_count": 8,
     "metadata": {},
     "output_type": "execute_result"
    }
   ],
   "source": [
    "dx**2 / lambda_ * (1 / 0.1)"
   ]
  },
  {
   "cell_type": "code",
   "execution_count": 9,
   "id": "6cf28b87-6fe0-4805-9529-6e332228d8c8",
   "metadata": {},
   "outputs": [],
   "source": [
    "s = spk.Spek(kvp=70, dk = 0.1, th = 10) # Create a spectrum\n",
    "s.multi_filter((('Be', 0.15), ('Al', 3))) # Create a spectrum\n",
    "k, f = s.get_spectrum(edges=True) # Get the spectrum\n",
    "\n",
    "energyRange = [4000, 70000]\n",
    "dE = 100\n",
    "filtering = 0.000\n",
    "\n",
    "energies = np.arange(5, 70+0.1, 0.1)*1e3\n",
    "\n",
    "\n",
    "tube_spectrum_txt = interpolate.interp1d(k*1e3, f, fill_value = 'extrapolate')\n",
    "spec_txt = tube_spectrum_txt(energies)\n",
    "\n",
    "with h5py.File('spectrum_70_spekpy_filtered_3mmAl.h5', 'w') as h5:\n",
    "    h5.create_dataset('pdf', data =  spec_txt/ np.sum(spec_txt))\n",
    "    h5.create_dataset('energy', data = energies) "
   ]
  },
  {
   "cell_type": "code",
   "execution_count": 10,
   "id": "de19ad35-b74f-409a-9b89-41dfdd23a2fd",
   "metadata": {},
   "outputs": [
    {
     "data": {
      "text/plain": [
       "[<matplotlib.lines.Line2D at 0x7556f6549b50>]"
      ]
     },
     "execution_count": 10,
     "metadata": {},
     "output_type": "execute_result"
    },
    {
     "data": {
      "image/png": "[encoded data removed]",
      "text/plain": [
       "<Figure size 640x480 with 1 Axes>"
      ]
     },
     "metadata": {},
     "output_type": "display_data"
    }
   ],
   "source": [
    "plt.plot(energies, spec_txt)"
   ]
  },
  {
   "cell_type": "code",
   "execution_count": 11,
   "id": "30ebc2a9-dc9f-4931-ab41-67c3974366f0",
   "metadata": {},
   "outputs": [],
   "source": [
    "structure_shift = [0.05, 0.1, 0.15, 0.2, 0.25, 0.3, 0.35, 0.4, 0.45, 0.5]\n",
    "\n",
    "grid_path_g0 = ['/mnt/d/rave-sim-main/rave-sim-main/notebooks/Phase_shift_42_4.npy']\n",
    "source_sizes = np.array([5, 15, 50, 200])*1e-6\n",
    "\n",
    "dx_g0 = 1.0151416062788299e-08\n",
    "dz_g0 = 180e-6 / 20"
   ]
  },
  {
   "cell_type": "code",
   "execution_count": 12,
   "id": "4a4aae95-3458-49f1-978a-7f46ee2bd184",
   "metadata": {},
   "outputs": [
    {
     "data": {
      "text/plain": [
       "4"
      ]
     },
     "execution_count": 12,
     "metadata": {},
     "output_type": "execute_result"
    }
   ],
   "source": [
    "len(grid_path_g0) * len(source_sizes)"
   ]
  },
  {
   "cell_type": "code",
   "execution_count": 13,
   "id": "134297c7-a8fa-4720-bccd-02fa4d1c492f",
   "metadata": {
    "scrolled": true
   },
   "outputs": [
    {
     "name": "stderr",
     "output_type": "stream",
     "text": [
      "2025-07-22 09:49:56,617 INFO: Setting up simulation\n"
     ]
    },
    {
     "ename": "TypeError",
     "evalue": "unsupported operand type(s) for /: 'PosixPath' and 'list'",
     "output_type": "error",
     "traceback": [
      "\u001b[31m---------------------------------------------------------------------------\u001b[39m",
      "\u001b[31mTypeError\u001b[39m                                 Traceback (most recent call last)",
      "\u001b[36mCell\u001b[39m\u001b[36m \u001b[39m\u001b[32mIn[13]\u001b[39m\u001b[32m, line 78\u001b[39m\n\u001b[32m      3\u001b[39m \u001b[38;5;28;01mfor\u001b[39;00m ss \u001b[38;5;129;01min\u001b[39;00m source_sizes:\n\u001b[32m      5\u001b[39m     config_dict = {\n\u001b[32m      6\u001b[39m                 \u001b[33m\"\u001b[39m\u001b[33msim_params\u001b[39m\u001b[33m\"\u001b[39m: {\n\u001b[32m      7\u001b[39m                     \u001b[33m\"\u001b[39m\u001b[33mN\u001b[39m\u001b[33m\"\u001b[39m: N,\n\u001b[32m   (...)\u001b[39m\u001b[32m     76\u001b[39m                 ],\n\u001b[32m     77\u001b[39m         }\n\u001b[32m---> \u001b[39m\u001b[32m78\u001b[39m     sim_path = \u001b[43mmultisim\u001b[49m\u001b[43m.\u001b[49m\u001b[43msetup_simulation\u001b[49m\u001b[43m(\u001b[49m\u001b[43mconfig_dict\u001b[49m\u001b[43m,\u001b[49m\u001b[43m \u001b[49m\u001b[43mPath\u001b[49m\u001b[43m(\u001b[49m\u001b[33;43m\"\u001b[39;49m\u001b[33;43m.\u001b[39;49m\u001b[33;43m\"\u001b[39;49m\u001b[43m)\u001b[49m\u001b[43m,\u001b[49m\u001b[43m \u001b[49m\u001b[43msimulations_dir\u001b[49m\u001b[43m)\u001b[49m\n\u001b[32m     80\u001b[39m     \u001b[38;5;28;01mfor\u001b[39;00m i \u001b[38;5;129;01min\u001b[39;00m tqdm(\u001b[38;5;28mrange\u001b[39m(config_dict[\u001b[33m\"\u001b[39m\u001b[33mmultisource\u001b[39m\u001b[33m\"\u001b[39m][\u001b[33m\"\u001b[39m\u001b[33mnr_source_points\u001b[39m\u001b[33m\"\u001b[39m])):\n\u001b[32m     81\u001b[39m         os.system(\u001b[33mf\u001b[39m\u001b[33m\"\u001b[39m\u001b[33mCUDA_VISIBLE_DEVICES=0 path/to/rave-sim/fast-wave/build-Release/fastwave -s \u001b[39m\u001b[38;5;132;01m{\u001b[39;00mi\u001b[38;5;132;01m}\u001b[39;00m\u001b[33m \u001b[39m\u001b[38;5;132;01m{\u001b[39;00msim_path\u001b[38;5;132;01m}\u001b[39;00m\u001b[33m\"\u001b[39m)\n",
      "\u001b[36mFile \u001b[39m\u001b[32m/mnt/d/rave-sim-main/rave-sim-main/big-wave/multisim.py:313\u001b[39m, in \u001b[36msetup_simulation\u001b[39m\u001b[34m(dct, config_dir, save_dir)\u001b[39m\n\u001b[32m    310\u001b[39m     save_dir = Path(save_dir)\n\u001b[32m    312\u001b[39m sim_params = config.parse_sim_params(dct[\u001b[33m\"\u001b[39m\u001b[33msim_params\u001b[39m\u001b[33m\"\u001b[39m])\n\u001b[32m--> \u001b[39m\u001b[32m313\u001b[39m elements = \u001b[43m[\u001b[49m\u001b[43mconfig\u001b[49m\u001b[43m.\u001b[49m\u001b[43mparse_optical_element\u001b[49m\u001b[43m(\u001b[49m\u001b[43mel\u001b[49m\u001b[43m,\u001b[49m\u001b[43m \u001b[49m\u001b[43mconfig_dir\u001b[49m\u001b[43m)\u001b[49m\u001b[43m \u001b[49m\u001b[38;5;28;43;01mfor\u001b[39;49;00m\u001b[43m \u001b[49m\u001b[43mel\u001b[49m\u001b[43m \u001b[49m\u001b[38;5;129;43;01min\u001b[39;49;00m\u001b[43m \u001b[49m\u001b[43mdct\u001b[49m\u001b[43m[\u001b[49m\u001b[33;43m\"\u001b[39;49m\u001b[33;43melements\u001b[39;49m\u001b[33;43m\"\u001b[39;49m\u001b[43m]\u001b[49m\u001b[43m]\u001b[49m\n\u001b[32m    315\u001b[39m source_points: \u001b[38;5;28mlist\u001b[39m[config.DictType]\n\u001b[32m    316\u001b[39m sub_dcts: \u001b[38;5;28mlist\u001b[39m[config.DictType] = []\n",
      "\u001b[36mFile \u001b[39m\u001b[32m/mnt/d/rave-sim-main/rave-sim-main/big-wave/multisim.py:313\u001b[39m, in \u001b[36m<listcomp>\u001b[39m\u001b[34m(.0)\u001b[39m\n\u001b[32m    310\u001b[39m     save_dir = Path(save_dir)\n\u001b[32m    312\u001b[39m sim_params = config.parse_sim_params(dct[\u001b[33m\"\u001b[39m\u001b[33msim_params\u001b[39m\u001b[33m\"\u001b[39m])\n\u001b[32m--> \u001b[39m\u001b[32m313\u001b[39m elements = [\u001b[43mconfig\u001b[49m\u001b[43m.\u001b[49m\u001b[43mparse_optical_element\u001b[49m\u001b[43m(\u001b[49m\u001b[43mel\u001b[49m\u001b[43m,\u001b[49m\u001b[43m \u001b[49m\u001b[43mconfig_dir\u001b[49m\u001b[43m)\u001b[49m \u001b[38;5;28;01mfor\u001b[39;00m el \u001b[38;5;129;01min\u001b[39;00m dct[\u001b[33m\"\u001b[39m\u001b[33melements\u001b[39m\u001b[33m\"\u001b[39m]]\n\u001b[32m    315\u001b[39m source_points: \u001b[38;5;28mlist\u001b[39m[config.DictType]\n\u001b[32m    316\u001b[39m sub_dcts: \u001b[38;5;28mlist\u001b[39m[config.DictType] = []\n",
      "\u001b[36mFile \u001b[39m\u001b[32m/mnt/d/rave-sim-main/rave-sim-main/big-wave/config.py:120\u001b[39m, in \u001b[36mparse_optical_element\u001b[39m\u001b[34m(dct, config_dir)\u001b[39m\n\u001b[32m    118\u001b[39m \u001b[38;5;28;01melif\u001b[39;00m dct[\u001b[33m\"\u001b[39m\u001b[33mtype\u001b[39m\u001b[33m\"\u001b[39m] == \u001b[33m\"\u001b[39m\u001b[33msample\u001b[39m\u001b[33m\"\u001b[39m:\n\u001b[32m    119\u001b[39m     sample_materials = [parse_material(m) \u001b[38;5;28;01mfor\u001b[39;00m m \u001b[38;5;129;01min\u001b[39;00m dct[\u001b[33m\"\u001b[39m\u001b[33mmaterials\u001b[39m\u001b[33m\"\u001b[39m]]\n\u001b[32m--> \u001b[39m\u001b[32m120\u001b[39m     grid = np.load(\u001b[43mconfig_dir\u001b[49m\u001b[43m \u001b[49m\u001b[43m/\u001b[49m\u001b[43m \u001b[49m\u001b[43mdct\u001b[49m\u001b[43m[\u001b[49m\u001b[33;43m\"\u001b[39;49m\u001b[33;43mgrid_path\u001b[39;49m\u001b[33;43m\"\u001b[39;49m\u001b[43m]\u001b[49m)\n\u001b[32m    121\u001b[39m     \u001b[38;5;28;01massert\u001b[39;00m grid.dtype == np.int8\n\u001b[32m    123\u001b[39m     \u001b[38;5;28;01mreturn\u001b[39;00m optical_element.Sample(\n\u001b[32m    124\u001b[39m         z_start=get_float(dct, [\u001b[33m\"\u001b[39m\u001b[33mz_start\u001b[39m\u001b[33m\"\u001b[39m]),\n\u001b[32m    125\u001b[39m         pixel_size_x=get_float(dct, [\u001b[33m\"\u001b[39m\u001b[33mpixel_size_x\u001b[39m\u001b[33m\"\u001b[39m]),\n\u001b[32m   (...)\u001b[39m\u001b[32m    129\u001b[39m         x_positions=np.array(dct[\u001b[33m\"\u001b[39m\u001b[33mx_positions\u001b[39m\u001b[33m\"\u001b[39m]),\n\u001b[32m    130\u001b[39m     )\n",
      "\u001b[31mTypeError\u001b[39m: unsupported operand type(s) for /: 'PosixPath' and 'list'"
     ]
    }
   ],
   "source": [
    "all_sims = []\n",
    "for grid_path in grid_path_g0:\n",
    "    for ss in source_sizes:\n",
    "\n",
    "        config_dict = {\n",
    "                    \"sim_params\": {\n",
    "                        \"N\": N,\n",
    "                        \"dx\": dx,\n",
    "                        \"z_detector\": z_g2 + 500e-6,\n",
    "                        \"detector_size\": 0.004,\n",
    "                        \"detector_pixel_size_x\": 1e-7,\n",
    "                        \"detector_pixel_size_y\": 1.0,\n",
    "                        \"chunk_size\": 256 * 1024 * 1024 // 16,  # use 256MB chunks\n",
    "                    },\n",
    "                    \"use_disk_vector\": False,\n",
    "                    \"save_final_u_vectors\": False,\n",
    "                    \"dtype\": \"c8\",\n",
    "                    \"multisource\": {\n",
    "                        \"type\": \"points\",\n",
    "                        \"energy_range\": [11000, 70000],\n",
    "                        \"x_range\": [-ss.item(), ss.item()],\n",
    "                        \"z\": 0.0,\n",
    "                        \"nr_source_points\": 200,\n",
    "                        \"seed\": 1,\n",
    "                        \"spectrum\": '/mnt/d/rave-sim-main/rave-sim-main/notebooks/spectrum_70_spekpy_filtered_3mmAl.h5',\n",
    "                    },\n",
    "                    \"elements\": [\n",
    "                        {\n",
    "                            \"type\": \"sample\",\n",
    "                            \"z_start\": z_g0,\n",
    "                            \"pixel_size_x\": dx_g0,\n",
    "                            \"pixel_size_z\": dz_g0,\n",
    "                            \"grid_path\": '/mnt/d/rave-sim-main/rave-sim-main/notebooks/Phase_shift_42_4.npy',\n",
    "                            \"materials\": [[\"Au\", 19.32],[\"C5H8O2\", 1.19]],\n",
    "                            \"x_positions\": [0.0],\n",
    "                        },\n",
    "                        {\n",
    "                            \"type\": \"grating\",\n",
    "                            \"pitch\": 4.2*1e-6,\n",
    "                            \"dc\": [1.0, 1.0],\n",
    "                            \"z_start\": z_g0 + 180*1e-6,\n",
    "                            \"thickness\": 500*1e-6 - h0,\n",
    "                            \"nr_steps\": 1,\n",
    "                            \"x_positions\": [0.0],\n",
    "                            \"substrate_thickness\": 0.0,\n",
    "                            \"mat_a\": [\"C\", 2.26],\n",
    "                            \"mat_b\": None,\n",
    "                            \"mat_substrate\": None\n",
    "                        },           \n",
    "                        {\n",
    "                            \"type\": \"grating\",\n",
    "                            \"pitch\": p1,\n",
    "                            \"dc\": [0.5, 0.5],\n",
    "                            \"z_start\": z_g1,\n",
    "                            \"thickness\": h1,\n",
    "                            \"nr_steps\": 10,\n",
    "                            \"x_positions\": [0.0],\n",
    "                            \"substrate_thickness\": 200 * 1e-6 - h1,\n",
    "                            \"mat_a\": [\"Si\", 2.34],\n",
    "                            \"mat_b\": None,\n",
    "                            \"mat_substrate\": [\"Si\", 2.34],\n",
    "                        },\n",
    "                        {\n",
    "                            \"type\": \"grating\",\n",
    "                            \"pitch\": p2,\n",
    "                            \"dc\": [0.5, 0.5],\n",
    "                            \"z_start\": z_g2,\n",
    "                            \"thickness\": h2,\n",
    "                            \"nr_steps\": 30,\n",
    "                            \"x_positions\": (np.arange(5) * p2/5).tolist(),\n",
    "                            \"substrate_thickness\": 500*1e-6 - h2,\n",
    "                            \"mat_a\": [\"C5H8O2\", 1.19],\n",
    "                            \"mat_b\": [\"Au\", 19.32],\n",
    "                            \"mat_substrate\": [\"C\", 2.26],\n",
    "                        },\n",
    "                    ],\n",
    "            }\n",
    "        sim_path = multisim.setup_simulation(config_dict, Path(\".\"), simulations_dir)\n",
    "\n",
    "        for i in tqdm(range(config_dict[\"multisource\"][\"nr_source_points\"])):\n",
    "            os.system(f\"CUDA_VISIBLE_DEVICES=0 path/to/rave-sim/fast-wave/build-Release/fastwave -s {i} {sim_path}\")\n",
    "\n",
    "        all_sims.append(sim_path)"
   ]
  },
  {
   "cell_type": "code",
   "execution_count": null,
   "id": "60ef047a-a7e6-4c39-8833-e4755923c370",
   "metadata": {},
   "outputs": [],
   "source": [
    "x_units = np.linspace(-25 * 75, 25 * 75, 50)"
   ]
  },
  {
   "cell_type": "code",
   "execution_count": null,
   "id": "0fd3a211-47d8-422e-bd52-4d83edb58afc",
   "metadata": {},
   "outputs": [],
   "source": [
    "vis_all = []\n",
    "for s_path in all_simulations:\n",
    "    sim_path = s_path\n",
    "    pxSize = 75e-6\n",
    "    config_dict = config.load(Path(str(sim_path) + '/config.yaml'))\n",
    "    sp = config_dict[\"sim_params\"]\n",
    "    detector_x = util.detector_x_vector(sp[\"detector_size\"], sp[\"detector_pixel_size_x\"])\n",
    "    pixel_rectangle = np.abs(detector_x) <= pxSize\n",
    "    \n",
    "    wavefronts_ref = util.load_wavefronts_filtered(sim_path, x_range=None, energy_range=[11000, 70000])\n",
    "    wf_ref = np.zeros_like(wavefronts_ref[0][0])\n",
    "    \n",
    "    energies = []\n",
    "    for wave in wavefronts_ref:\n",
    "        energies.append(wave[2])\n",
    "        wf_ref += wave[0] #* np.exp(-mu_h2o(wave[2])*0.2)\n",
    "    \n",
    "    phase_steps = 5\n",
    "    del wavefronts_ref\n",
    "    \n",
    "    convolved_ref = []\n",
    "    for i in range(phase_steps):\n",
    "        convolved_ref.append(np.convolve(wf_ref[i,:], pixel_rectangle, mode = 'same'))\n",
    "    \n",
    "    convolved_ref = np.asarray(convolved_ref)\n",
    "    \n",
    "    int_px, trans_ref, phase_ref, vis_ref, pxEdges = perform_binned_signal_retrieval(detector_x, convolved_ref[:, :], pxSize, phase_steps, plot_curve = False)\n",
    "    int_px, trans_orig, phase_orig, vis_orig, pxEdges = perform_binned_signal_retrieval(detector_x, wf_ref, pxSize, phase_steps, plot_curve = False)\n",
    "\n",
    "    vis_all.append(vis_ref)\n"
   ]
  },
  {
   "cell_type": "code",
   "execution_count": null,
   "id": "e0b59422-43e2-42c0-8c00-549c583b2588",
   "metadata": {},
   "outputs": [],
   "source": [
    "# matplotlib style\n",
    "plt.style.use(\"default\")\n",
    "\n",
    "# set FIGWIDTH to latex's \\textwidth\n",
    "FIGWIDTH = 3\n",
    "plt.rcParams[\"font.family\"] = \"serif\"\n",
    "plt.rcParams[\"font.size\"] = 6\n",
    "plt.rcParams[\"figure.figsize\"] = (FIGWIDTH, FIGWIDTH * 2 / 3)\n",
    "plt.rcParams[\"figure.dpi\"] = 300\n",
    "plt.rcParams[\"figure.constrained_layout.use\"] = \"True\"\n",
    "\n",
    "# images\n",
    "plt.rcParams[\"image.interpolation\"] = \"bicubic\"\n",
    "plt.rcParams[\"image.cmap\"] = \"Greys_r\"\n",
    "\n",
    "# axes\n",
    "# plt.rcParams[\"axes.spines.right\"] = False\n",
    "# plt.rcParams[\"axes.spines.top\"] = False\n",
    "plt.rcParams[\"axes.edgecolor\"] = \"0.7\"\n",
    "plt.rcParams[\"axes.linewidth\"] = \"1\"\n",
    "\n",
    "# legend\n",
    "plt.rcParams[\"legend.frameon\"] = True\n",
    "\n",
    "plt.rcParams[\"lines.markersize\"] = 3\n",
    "# plt.rcParams[\"lines.markerfacecolor\"] = \"white\"\n",
    "# Okabe-Ito palette\n",
    "plt.rcParams[\"axes.prop_cycle\"] = plt.cycler(\n",
    "    color=[\n",
    "        \"#000000\",\n",
    "        \"#E69F00\",\n",
    "        \"#56B4E9\",\n",
    "        \"#009E73\",\n",
    "        \"#F0E442\",\n",
    "        \"#0072B2\",\n",
    "        \"#D55E00\",\n",
    "        \"#CC79A7\",\n",
    "    ],\n",
    "    #marker=[\"o\", \"^\", \"s\", \"p\", \"D\", \"v\", \"v\", \"d\"],\n",
    ")\n",
    "\n",
    "plt.rcParams['axes.grid'] = False"
   ]
  },
  {
   "cell_type": "code",
   "execution_count": null,
   "id": "f309cf9c-fb46-4ed1-a39d-06f309de522f",
   "metadata": {},
   "outputs": [],
   "source": [
    "x_pixel = np.linspace(-vis_all[0].shape[0]/2 * 75, vis_all[0].shape[0]/2*75, vis_all[0].shape[0])"
   ]
  },
  {
   "cell_type": "code",
   "execution_count": null,
   "id": "057de5c0-358f-4be2-93a3-c6fa1ce7f52f",
   "metadata": {},
   "outputs": [],
   "source": [
    "source_sizes = np.array([5, 15, 50, 200])*1e-6"
   ]
  },
  {
   "cell_type": "code",
   "execution_count": null,
   "id": "6d7d2430-cb25-4f2e-8aa3-8e6dafe4f071",
   "metadata": {},
   "outputs": [],
   "source": [
    "vis_small_crack = np.load('dvis_small_crack_all.npy')\n",
    "vis_medium_crack = np.load('dvis_medium_crack_all.npy')\n",
    "vis_large_crack = np.load('dvis_large_crack_all.npy')\n",
    "\n",
    "x_units = np.linspace(-25 * 75, 25 * 75, 50)"
   ]
  },
  {
   "cell_type": "code",
   "execution_count": null,
   "id": "29c6d787-6408-4eea-a4dc-e224f71c46a3",
   "metadata": {},
   "outputs": [],
   "source": [
    "plt.figure(figsize=(3,2.5))\n",
    "for idx in range(len(source_sizes)):\n",
    "    if idx == 2:\n",
    "        continue\n",
    "    \n",
    "    plt.plot(x_pixel/1e3, vis_all[idx]*0.91, label = f\"{2*source_sizes[idx]*1e6:.2f}µm S\")\n",
    "\n",
    "plt.plot(x_pixel[2:-1]/1e3, np.mean(vis_small_crack[70:, :], axis = 0), marker = 'o', label = '10µm M', linewidth = 1.0, linestyle = ':', color = \"#000000\", markeredgecolor = 'black', markeredgewidth = 0.1)\n",
    "plt.plot(x_pixel[2:-1]/1e3, np.mean(vis_medium_crack[70:, :],axis = 0), marker = '^', label = '30µm M', linewidth = 1.0, linestyle = ':', color = \"#009E73\", markeredgecolor = 'black',  markeredgewidth = 0.2)\n",
    "plt.plot(x_pixel[2:-1]/1e3, np.mean(vis_large_crack[70:90, :], axis = 0), marker = '^', label = '400µm M', linewidth = 1.0, linestyle = ':', color = \"#0072B2\", markeredgecolor = 'black',  markeredgewidth = 0.2)\n",
    "\n",
    "\n",
    "plt.title('Visibility profile')\n",
    "plt.ylabel('Visibility', fontsize = 6)\n",
    "plt.xlabel('Distance on detector [mm]', fontsize = 6)\n",
    "plt.xlim(-1, 1)\n",
    "plt.ylim(0.033, 0.18)\n",
    "legend = plt.legend(loc = 'best', fontsize = 5, bbox_to_anchor=(0.5, 0.02, 0.5, 0.5))\n",
    "legend.get_frame().set_alpha(0.5)\n"
   ]
  }
 ],
 "metadata": {
  "kernelspec": {
   "display_name": "Python 3 (ipykernel)",
   "language": "python",
   "name": "python3"
  },
  "language_info": {
   "codemirror_mode": {
    "name": "ipython",
    "version": 3
   },
   "file_extension": ".py",
   "mimetype": "text/x-python",
   "name": "python",
   "nbconvert_exporter": "python",
   "pygments_lexer": "ipython3",
   "version": "3.11.9"
  }
 },
 "nbformat": 4,
 "nbformat_minor": 5
}
