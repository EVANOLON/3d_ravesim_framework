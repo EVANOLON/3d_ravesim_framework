{
 "cells": [
  {
   "cell_type": "markdown",
   "id": "3380fd9f-fe1a-441b-a94c-57defa74e218",
   "metadata": {},
   "source": [
    "From publications DOI: <a href=\"http://doi.org/10.1364/OPTICA.487795\">http://doi.org/10.1364/OPTICA.487795</a> and DOI: <a href=\"https://doi.org/10.1038/s41598-023-29762-y\">https://doi.org/10.1038/s41598-023-29762-y</a>"
   ]
  },
  {
   "cell_type": "code",
   "execution_count": 1,
   "id": "4d556aed",
   "metadata": {},
   "outputs": [],
   "source": [
    "# Copyright (c) 2024, ETH Zurich"
   ]
  },
  {
   "cell_type": "code",
   "execution_count": 2,
   "id": "10ef1c7d",
   "metadata": {},
   "outputs": [],
   "source": [
    "import sys\n",
    "from pathlib import Path\n",
    "import numpy as np\n",
    "import matplotlib.pyplot as plt\n",
    "from tqdm import tqdm\n",
    "import os"
   ]
  },
  {
   "cell_type": "code",
   "execution_count": 3,
   "id": "e95f89a6",
   "metadata": {},
   "outputs": [],
   "source": [
    "rave_sim_dir = Path('/mnt/d/rave-sim-main/rave-sim-main')\n",
    "simulations_dir = Path('/mnt/d/rave-sim-main/rave-sim-main/output')\n",
    "scratch_dir = simulations_dir"
   ]
  },
  {
   "cell_type": "code",
   "execution_count": 4,
   "id": "141a157e",
   "metadata": {},
   "outputs": [],
   "source": [
    "sys.path.insert(0, str(rave_sim_dir / \"big-wave\"))\n",
    "#print(str(rave_sim_dir / \"big-wave\"))\n",
    "import multisim\n",
    "import config\n",
    "import util"
   ]
  },
  {
   "cell_type": "code",
   "execution_count": 5,
   "id": "d84023e0-ba4d-48da-a22d-b65c817e690a",
   "metadata": {},
   "outputs": [
    {
     "name": "stdout",
     "output_type": "stream",
     "text": [
      "N:  4194304\n"
     ]
    }
   ],
   "source": [
    "config_dict = {\n",
    "    \"sim_params\": {\n",
    "        \"N\": 2**22,\n",
    "        \"dx\": 3.1e-10,\n",
    "        \"z_detector\": 1.77,\n",
    "        \"detector_size\": 2e-4,\n",
    "        \"detector_pixel_size_x\": 1e-6,\n",
    "        \"detector_pixel_size_y\": 1,\n",
    "        \"chunk_size\": 256 * 1024 * 1024 // 16,  # use 256MB chunks\n",
    "    },\n",
    "    \"use_disk_vector\": False,\n",
    "    \"save_final_u_vectors\": False,\n",
    "    \"multisource\": {\n",
    "        \"type\": \"points\",\n",
    "        \"energy_range\": [46000.0, 47000.0],\n",
    "        \"x_range\": [-1e-6, 1e-6],\n",
    "        \"z\": 0.0,\n",
    "        \"nr_source_points\": 3,\n",
    "        \"seed\": 1,\n",
    "    },\n",
    "    \"elements\": [\n",
    "        {\n",
    "            \"type\": \"grating\",\n",
    "            \"pitch\": 4.2e-6,\n",
    "            \"dc\": [0.5, 0.5],\n",
    "            \"z_start\": 0.1,\n",
    "            \"thickness\": 140e-6,\n",
    "            \"nr_steps\": 8,\n",
    "            \"x_positions\": [0.0],\n",
    "            \"substrate_thickness\": (370 - 140) * 1e-6,\n",
    "            \"mat_a\": [\"Si\", 2.34],\n",
    "            \"mat_b\": [\"Au\", 19.32],\n",
    "            \"mat_substrate\": [\"Si\", 2.34],\n",
    "        },\n",
    "        {\n",
    "            \"type\": \"grating\",\n",
    "            \"pitch\": 4.2e-6,\n",
    "            \"dc\": [0.5, 0.5],\n",
    "            \"z_start\": 0.918,\n",
    "            \"thickness\": 59e-6,\n",
    "            \"nr_steps\": 8,\n",
    "            \"x_positions\": [0.0],\n",
    "            \"substrate_thickness\": (200 - 59) * 1e-6,\n",
    "            \"mat_a\": [\"Si\", 2.34],\n",
    "            \"mat_b\": None,\n",
    "            \"mat_substrate\": [\"Si\", 2.34],\n",
    "        },\n",
    "        {\n",
    "            \"type\": \"grating\",\n",
    "            \"pitch\": 4.2e-6,\n",
    "            \"dc\": [0.5, 0.5],\n",
    "            \"z_start\": 1.736,\n",
    "            \"thickness\": 154e-6,\n",
    "            \"nr_steps\": 8,\n",
    "            \"x_positions\": np.linspace(0, 4.2e-6, 5, endpoint=False).tolist(),\n",
    "            \"substrate_thickness\": (370 - 154) * 1e-6,\n",
    "            \"mat_a\": [\"Si\", 2.34],\n",
    "            \"mat_b\": [\"Au\", 19.32],\n",
    "            \"mat_substrate\": [\"Si\", 2.34],\n",
    "        },\n",
    "    ],\n",
    "}\n",
    "\n",
    "print(\"N: \", config_dict[\"sim_params\"][\"N\"])"
   ]
  },
  {
   "cell_type": "code",
   "execution_count": 6,
   "id": "01fb33c7-f97d-46dc-814e-dcbab8bd2084",
   "metadata": {},
   "outputs": [
    {
     "name": "stderr",
     "output_type": "stream",
     "text": [
      "2025-07-22 09:21:17,170 INFO: Setting up simulation\n",
      "2025-07-22 09:21:17,252 INFO: Finished setting up simulation in /mnt/d/rave-sim-main/rave-sim-main/output/2025/07/20250722_092117203925\n"
     ]
    }
   ],
   "source": [
    "sim_path = multisim.setup_simulation(config_dict, Path(\".\"), simulations_dir)"
   ]
  },
  {
   "cell_type": "code",
   "execution_count": 7,
   "id": "4a301c8a-82c2-4fd0-9b46-8eccaab3fbdf",
   "metadata": {},
   "outputs": [
    {
     "name": "stdout",
     "output_type": "stream",
     "text": [
      "cutoff angles: [5.7062146830722226e-05, 6.389593685272419e-05, 0.00018658813293548603, 0.009164513585960618]\n",
      "source points: [{'x': 1.6243453636632416e-06, 'z': 0.0, 'energy': 46417.02200470257}, {'x': -6.117564136500753e-07, 'z': 0.0, 'energy': 46720.32449344216}, {'x': -5.281717522634556e-07, 'z': 0.0, 'energy': 46000.11437481734}]\n"
     ]
    }
   ],
   "source": [
    "computed = config.load(Path(sim_path / 'computed.yaml'))\n",
    "\n",
    "print(\"cutoff angles:\", computed['cutoff_angles'])\n",
    "print(\"source points:\", computed['source_points'])"
   ]
  },
  {
   "cell_type": "code",
   "execution_count": 8,
   "id": "8aa7312e",
   "metadata": {},
   "outputs": [
    {
     "name": "stderr",
     "output_type": "stream",
     "text": [
      "uncaught exception in the fast-wave framework: dtype is not defined in config\n",
      "uncaught exception in the fast-wave framework: dtype is not defined in config\n",
      "uncaught exception in the fast-wave framework: dtype is not defined in config\n"
     ]
    }
   ],
   "source": [
    "# Run this in a for loop to simulate all source points or\n",
    "# alternatively run the source points as individual euler\n",
    "# jobs\n",
    "#multisim.run_single_simulation(sim_path, 0, scratch_dir, save_keypoints_path=scratch_dir)\n",
    "for i in tqdm(range(config_dict[\"multisource\"][\"nr_source_points\"])):\n",
    "    os.system(f\"CUDA_VISIBLE_DEVICES=0 /mnt/d/rave-sim-main/rave-sim-main/fast-wave/build-Release/fastwave {sim_path} -s {i} \")"
   ]
  },
  {
   "cell_type": "code",
   "execution_count": 9,
   "id": "9363befa",
   "metadata": {},
   "outputs": [
    {
     "ename": "FileNotFoundError",
     "evalue": "[Errno 2] No such file or directory: '/mnt/d/rave-sim-main/rave-sim-main/output/2025/07/20250722_092117203925/00000000/detected.npy'",
     "output_type": "error",
     "traceback": [
      "\u001b[31m---------------------------------------------------------------------------\u001b[39m",
      "\u001b[31mFileNotFoundError\u001b[39m                         Traceback (most recent call last)",
      "\u001b[36mCell\u001b[39m\u001b[36m \u001b[39m\u001b[32mIn[9]\u001b[39m\u001b[32m, line 1\u001b[39m\n\u001b[32m----> \u001b[39m\u001b[32m1\u001b[39m wavefronts = \u001b[43mutil\u001b[49m\u001b[43m.\u001b[49m\u001b[43mload_wavefronts_filtered\u001b[49m\u001b[43m(\u001b[49m\u001b[43msim_path\u001b[49m\u001b[43m,\u001b[49m\u001b[43m \u001b[49m\u001b[43mx_range\u001b[49m\u001b[43m=\u001b[49m\u001b[43m(\u001b[49m\u001b[43m-\u001b[49m\u001b[32;43m3e-6\u001b[39;49m\u001b[43m,\u001b[49m\u001b[43m \u001b[49m\u001b[32;43m3e-6\u001b[39;49m\u001b[43m)\u001b[49m\u001b[43m)\u001b[49m\n\u001b[32m      2\u001b[39m \u001b[38;5;28mprint\u001b[39m(\u001b[33m\"\u001b[39m\u001b[33mnr sources loaded:\u001b[39m\u001b[33m\"\u001b[39m, \u001b[38;5;28mlen\u001b[39m(wavefronts))\n\u001b[32m      4\u001b[39m wf = wavefronts[\u001b[32m0\u001b[39m][\u001b[32m0\u001b[39m]\n",
      "\u001b[36mFile \u001b[39m\u001b[32m/mnt/d/rave-sim-main/rave-sim-main/big-wave/util.py:53\u001b[39m, in \u001b[36mload_wavefronts_filtered\u001b[39m\u001b[34m(sim_dir, x_range, energy_range)\u001b[39m\n\u001b[32m     42\u001b[39m source_points = config.load(sim_dir / \u001b[33m\"\u001b[39m\u001b[33mcomputed.yaml\u001b[39m\u001b[33m\"\u001b[39m)[\u001b[33m\"\u001b[39m\u001b[33msource_points\u001b[39m\u001b[33m\"\u001b[39m]\n\u001b[32m     44\u001b[39m idxs = [\n\u001b[32m     45\u001b[39m     i\n\u001b[32m     46\u001b[39m     \u001b[38;5;28;01mfor\u001b[39;00m i, sp \u001b[38;5;129;01min\u001b[39;00m \u001b[38;5;28menumerate\u001b[39m(source_points)\n\u001b[32m   (...)\u001b[39m\u001b[32m     50\u001b[39m     \u001b[38;5;28;01mif\u001b[39;00m (energy_range \u001b[38;5;129;01mis\u001b[39;00m \u001b[38;5;28;01mNone\u001b[39;00m \u001b[38;5;129;01mor\u001b[39;00m sp[\u001b[33m\"\u001b[39m\u001b[33menergy\u001b[39m\u001b[33m\"\u001b[39m] <= energy_range[\u001b[32m1\u001b[39m])\n\u001b[32m     51\u001b[39m ]\n\u001b[32m---> \u001b[39m\u001b[32m53\u001b[39m \u001b[38;5;28;01mreturn\u001b[39;00m \u001b[43m[\u001b[49m\n\u001b[32m     54\u001b[39m \u001b[43m    \u001b[49m\u001b[43m(\u001b[49m\n\u001b[32m     55\u001b[39m \u001b[43m        \u001b[49m\u001b[43mnp\u001b[49m\u001b[43m.\u001b[49m\u001b[43mload\u001b[49m\u001b[43m(\u001b[49m\u001b[43mget_sub_dir\u001b[49m\u001b[43m(\u001b[49m\u001b[43msim_dir\u001b[49m\u001b[43m,\u001b[49m\u001b[43m \u001b[49m\u001b[43mi\u001b[49m\u001b[43m)\u001b[49m\u001b[43m \u001b[49m\u001b[43m/\u001b[49m\u001b[43m \u001b[49m\u001b[33;43m\"\u001b[39;49m\u001b[33;43mdetected.npy\u001b[39;49m\u001b[33;43m\"\u001b[39;49m\u001b[43m)\u001b[49m\u001b[43m,\u001b[49m\n\u001b[32m     56\u001b[39m \u001b[43m        \u001b[49m\u001b[43msource_points\u001b[49m\u001b[43m[\u001b[49m\u001b[43mi\u001b[49m\u001b[43m]\u001b[49m\u001b[43m[\u001b[49m\u001b[33;43m\"\u001b[39;49m\u001b[33;43mx\u001b[39;49m\u001b[33;43m\"\u001b[39;49m\u001b[43m]\u001b[49m\u001b[43m,\u001b[49m\n\u001b[32m     57\u001b[39m \u001b[43m        \u001b[49m\u001b[43msource_points\u001b[49m\u001b[43m[\u001b[49m\u001b[43mi\u001b[49m\u001b[43m]\u001b[49m\u001b[43m[\u001b[49m\u001b[33;43m\"\u001b[39;49m\u001b[33;43menergy\u001b[39;49m\u001b[33;43m\"\u001b[39;49m\u001b[43m]\u001b[49m\u001b[43m,\u001b[49m\n\u001b[32m     58\u001b[39m \u001b[43m    \u001b[49m\u001b[43m)\u001b[49m\n\u001b[32m     59\u001b[39m \u001b[43m    \u001b[49m\u001b[38;5;28;43;01mfor\u001b[39;49;00m\u001b[43m \u001b[49m\u001b[43mi\u001b[49m\u001b[43m \u001b[49m\u001b[38;5;129;43;01min\u001b[39;49;00m\u001b[43m \u001b[49m\u001b[43midxs\u001b[49m\n\u001b[32m     60\u001b[39m \u001b[43m\u001b[49m\u001b[43m]\u001b[49m\n",
      "\u001b[36mFile \u001b[39m\u001b[32m/mnt/d/rave-sim-main/rave-sim-main/big-wave/util.py:55\u001b[39m, in \u001b[36m<listcomp>\u001b[39m\u001b[34m(.0)\u001b[39m\n\u001b[32m     42\u001b[39m source_points = config.load(sim_dir / \u001b[33m\"\u001b[39m\u001b[33mcomputed.yaml\u001b[39m\u001b[33m\"\u001b[39m)[\u001b[33m\"\u001b[39m\u001b[33msource_points\u001b[39m\u001b[33m\"\u001b[39m]\n\u001b[32m     44\u001b[39m idxs = [\n\u001b[32m     45\u001b[39m     i\n\u001b[32m     46\u001b[39m     \u001b[38;5;28;01mfor\u001b[39;00m i, sp \u001b[38;5;129;01min\u001b[39;00m \u001b[38;5;28menumerate\u001b[39m(source_points)\n\u001b[32m   (...)\u001b[39m\u001b[32m     50\u001b[39m     \u001b[38;5;28;01mif\u001b[39;00m (energy_range \u001b[38;5;129;01mis\u001b[39;00m \u001b[38;5;28;01mNone\u001b[39;00m \u001b[38;5;129;01mor\u001b[39;00m sp[\u001b[33m\"\u001b[39m\u001b[33menergy\u001b[39m\u001b[33m\"\u001b[39m] <= energy_range[\u001b[32m1\u001b[39m])\n\u001b[32m     51\u001b[39m ]\n\u001b[32m     53\u001b[39m \u001b[38;5;28;01mreturn\u001b[39;00m [\n\u001b[32m     54\u001b[39m     (\n\u001b[32m---> \u001b[39m\u001b[32m55\u001b[39m         \u001b[43mnp\u001b[49m\u001b[43m.\u001b[49m\u001b[43mload\u001b[49m\u001b[43m(\u001b[49m\u001b[43mget_sub_dir\u001b[49m\u001b[43m(\u001b[49m\u001b[43msim_dir\u001b[49m\u001b[43m,\u001b[49m\u001b[43m \u001b[49m\u001b[43mi\u001b[49m\u001b[43m)\u001b[49m\u001b[43m \u001b[49m\u001b[43m/\u001b[49m\u001b[43m \u001b[49m\u001b[33;43m\"\u001b[39;49m\u001b[33;43mdetected.npy\u001b[39;49m\u001b[33;43m\"\u001b[39;49m\u001b[43m)\u001b[49m,\n\u001b[32m     56\u001b[39m         source_points[i][\u001b[33m\"\u001b[39m\u001b[33mx\u001b[39m\u001b[33m\"\u001b[39m],\n\u001b[32m     57\u001b[39m         source_points[i][\u001b[33m\"\u001b[39m\u001b[33menergy\u001b[39m\u001b[33m\"\u001b[39m],\n\u001b[32m     58\u001b[39m     )\n\u001b[32m     59\u001b[39m     \u001b[38;5;28;01mfor\u001b[39;00m i \u001b[38;5;129;01min\u001b[39;00m idxs\n\u001b[32m     60\u001b[39m ]\n",
      "\u001b[36mFile \u001b[39m\u001b[32m~/anaconda3/envs/rave-sim/lib/python3.11/site-packages/numpy/lib/npyio.py:427\u001b[39m, in \u001b[36mload\u001b[39m\u001b[34m(file, mmap_mode, allow_pickle, fix_imports, encoding, max_header_size)\u001b[39m\n\u001b[32m    425\u001b[39m     own_fid = \u001b[38;5;28;01mFalse\u001b[39;00m\n\u001b[32m    426\u001b[39m \u001b[38;5;28;01melse\u001b[39;00m:\n\u001b[32m--> \u001b[39m\u001b[32m427\u001b[39m     fid = stack.enter_context(\u001b[38;5;28;43mopen\u001b[39;49m\u001b[43m(\u001b[49m\u001b[43mos_fspath\u001b[49m\u001b[43m(\u001b[49m\u001b[43mfile\u001b[49m\u001b[43m)\u001b[49m\u001b[43m,\u001b[49m\u001b[43m \u001b[49m\u001b[33;43m\"\u001b[39;49m\u001b[33;43mrb\u001b[39;49m\u001b[33;43m\"\u001b[39;49m\u001b[43m)\u001b[49m)\n\u001b[32m    428\u001b[39m     own_fid = \u001b[38;5;28;01mTrue\u001b[39;00m\n\u001b[32m    430\u001b[39m \u001b[38;5;66;03m# Code to distinguish from NumPy binary files and pickles.\u001b[39;00m\n",
      "\u001b[31mFileNotFoundError\u001b[39m: [Errno 2] No such file or directory: '/mnt/d/rave-sim-main/rave-sim-main/output/2025/07/20250722_092117203925/00000000/detected.npy'"
     ]
    }
   ],
   "source": [
    "wavefronts = util.load_wavefronts_filtered(sim_path, x_range=(-3e-6, 3e-6))\n",
    "print(\"nr sources loaded:\", len(wavefronts))\n",
    "\n",
    "wf = wavefronts[0][0]\n",
    "print(\"nr phase steps:\", wf.shape[0])\n",
    "print(\"nr detector pixels:\", wf.shape[1])"
   ]
  },
  {
   "cell_type": "code",
   "execution_count": null,
   "id": "173a4986",
   "metadata": {},
   "outputs": [],
   "source": [
    "sp = config_dict[\"sim_params\"]\n",
    "detector_x = util.detector_x_vector(sp[\"detector_size\"], sp[\"detector_pixel_size_x\"])\n",
    "plt.plot(detector_x, wf[0])"
   ]
  },
  {
   "cell_type": "code",
   "execution_count": null,
   "id": "a9801790",
   "metadata": {},
   "outputs": [],
   "source": [
    "full_x = util.full_x_vector(sp[\"N\"], sp[\"dx\"])\n",
    "kp = util.load_keypoints(scratch_dir)"
   ]
  },
  {
   "cell_type": "code",
   "execution_count": null,
   "id": "117eda5b",
   "metadata": {},
   "outputs": [],
   "source": [
    "plt.plot(full_x, np.abs(kp[4]) ** 2)\n",
    "plt.xlim(-3e-5, 3e-5)\n",
    "\n",
    "for i in range(-50, 50):\n",
    "    plt.axvline(i * 4.2e-6)\n",
    "\n",
    "plt.show()"
   ]
  },
  {
   "cell_type": "markdown",
   "id": "fbe420b4",
   "metadata": {},
   "source": [
    "## History\n",
    "\n",
    "To see the interference pattern in empty space, we can record slices throughout the simulation and then plot them. `run_single_simulation` takes an optional argument `history_dz` defining the resolution with which we record the history.\n",
    "\n",
    "Note that the history is not necessarily recorded with a constant z-spacing. Inside gratings and samples, one slice is recorded for every step. The history also records a list of z-coordinates at which the slices were recorded, which we can use for plotting."
   ]
  },
  {
   "cell_type": "code",
   "execution_count": null,
   "id": "93e5ce0a",
   "metadata": {},
   "outputs": [],
   "source": [
    "multisim.run_single_simulation(sim_path, 1, scratch_dir, save_keypoints_path=None, history_dz=0.02)"
   ]
  },
  {
   "cell_type": "code",
   "execution_count": null,
   "id": "26a67a4e",
   "metadata": {},
   "outputs": [],
   "source": [
    "# Path to the directory for the source with index 1\n",
    "source_dir = multisim.get_sub_dir(sim_path, 1)\n",
    "\n",
    "hist_x = np.load(source_dir / \"history_x.npy\")\n",
    "hist_z = np.load(source_dir / \"history_z.npy\")\n",
    "hist = np.load(source_dir / \"history.npy\")\n",
    "plt.pcolormesh(\n",
    "    hist_z,\n",
    "    hist_x,\n",
    "    hist,\n",
    "    cmap=\"Greys_r\",\n",
    "    vmin=0,\n",
    "    vmax=1e-6,\n",
    "    shading=\"nearest\",\n",
    ")\n",
    "plt.xlabel(\"z (m)\")\n",
    "plt.ylabel(\"x (m)\")\n",
    "print(hist_z[1]-hist_z[0],hist_x[1]-hist_x[0])"
   ]
  },
  {
   "cell_type": "code",
   "execution_count": null,
   "id": "700edc2c-c919-4e88-8675-b6b291b21e4c",
   "metadata": {},
   "outputs": [],
   "source": []
  }
 ],
 "metadata": {
  "kernelspec": {
   "display_name": "Python 3 (ipykernel)",
   "language": "python",
   "name": "python3"
  },
  "language_info": {
   "codemirror_mode": {
    "name": "ipython",
    "version": 3
   },
   "file_extension": ".py",
   "mimetype": "text/x-python",
   "name": "python",
   "nbconvert_exporter": "python",
   "pygments_lexer": "ipython3",
   "version": "3.11.9"
  }
 },
 "nbformat": 4,
 "nbformat_minor": 5
}
