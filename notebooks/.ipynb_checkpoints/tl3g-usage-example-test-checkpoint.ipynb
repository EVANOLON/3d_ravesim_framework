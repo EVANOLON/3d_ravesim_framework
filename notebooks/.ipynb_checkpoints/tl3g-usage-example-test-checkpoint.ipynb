{
 "cells": [
  {
   "cell_type": "code",
   "execution_count": 1,
   "id": "10ef1c7d",
   "metadata": {},
   "outputs": [],
   "source": [
    "import sys\n",
    "from pathlib import Path\n",
    "import numpy as np\n",
    "import matplotlib.pyplot as plt\n",
    "import math"
   ]
  },
  {
   "cell_type": "code",
   "execution_count": 2,
   "id": "e95f89a6",
   "metadata": {},
   "outputs": [],
   "source": [
    "rave_sim_dir = Path('/mnt/d/rave-sim-main/rave-sim-main')\n",
    "simulations_dir = Path('/mnt/d/rave-sim-main/rave-sim-main/output')\n",
    "scratch_dir = simulations_dir"
   ]
  },
  {
   "cell_type": "code",
   "execution_count": 3,
   "id": "141a157e",
   "metadata": {
    "scrolled": true
   },
   "outputs": [
    {
     "ename": "ModuleNotFoundError",
     "evalue": "No module named 'multisim'",
     "output_type": "error",
     "traceback": [
      "\u001b[31m---------------------------------------------------------------------------\u001b[39m",
      "\u001b[31mModuleNotFoundError\u001b[39m                       Traceback (most recent call last)",
      "\u001b[36mCell\u001b[39m\u001b[36m \u001b[39m\u001b[32mIn[3]\u001b[39m\u001b[32m, line 3\u001b[39m\n\u001b[32m      1\u001b[39m sys.path.insert(\u001b[32m0\u001b[39m, \u001b[38;5;28mstr\u001b[39m(rave_sim_dir / \u001b[33m\"\u001b[39m\u001b[33mbig-wave\u001b[39m\u001b[33m\"\u001b[39m))\n\u001b[32m      2\u001b[39m \u001b[38;5;66;03m#print(str(rave_sim_dir / \"big-wave\"))\u001b[39;00m\n\u001b[32m----> \u001b[39m\u001b[32m3\u001b[39m \u001b[38;5;28;01mimport\u001b[39;00m\u001b[38;5;250m \u001b[39m\u001b[34;01mmultisim\u001b[39;00m\n\u001b[32m      4\u001b[39m \u001b[38;5;28;01mimport\u001b[39;00m\u001b[38;5;250m \u001b[39m\u001b[34;01mconfig\u001b[39;00m\n\u001b[32m      5\u001b[39m \u001b[38;5;28;01mimport\u001b[39;00m\u001b[38;5;250m \u001b[39m\u001b[34;01mutil\u001b[39;00m\n",
      "\u001b[31mModuleNotFoundError\u001b[39m: No module named 'multisim'"
     ]
    }
   ],
   "source": [
    "sys.path.insert(0, str(rave_sim_dir / \"big-wave\"))\n",
    "#print(str(rave_sim_dir / \"big-wave\"))\n",
    "import multisim\n",
    "import config\n",
    "import util"
   ]
  },
  {
   "cell_type": "code",
   "execution_count": null,
   "id": "d84023e0-ba4d-48da-a22d-b65c817e690a",
   "metadata": {},
   "outputs": [],
   "source": [
    "config_dict = {\n",
    "    \"sim_params\": {\n",
    "        \"N\": 2**24,\n",
    "        \"dx\": 3.1e-10,\n",
    "        \"z_detector\": 4.6,\n",
    "        \"detector_size\": 3e-3,\n",
    "        \"detector_pixel_size_x\": 20e-6,\n",
    "        \"detector_pixel_size_y\": 1,\n",
    "        \"chunk_size\": 256 * 1024 * 1024 // 16,  # use 256MB chunks\n",
    "    },\n",
    "    \"use_disk_vector\": False,\n",
    "    \"save_final_u_vectors\": False,\n",
    "    \"multisource\": {\n",
    "        \"type\": \"points\",\n",
    "        \"energy_range\": [13000.0, 13001.0],\n",
    "        \"x_range\": [-3e-6, 3e-6],\n",
    "        \"z\": 0.0,\n",
    "        \"nr_source_points\": 10,\n",
    "        \"seed\": 1,\n",
    "    },\n",
    "    \"elements\": [\n",
    "        {\n",
    "            \"type\": \"sample\",\n",
    "            \"z_start\": 0.8,\n",
    "            \"pixel_size_x\": 10 * 1e-6,\n",
    "            \"pixel_size_z\": 10 * 1e-6,\n",
    "            \"grid_path\":\"/mnt/e/rave-sim-main/rave-sim-main/grid/grid0610.npy\",\n",
    "            #\"grid_path\":\"/mnt/e/rave-sim-main/rave-sim-main/grid/grid0704.npy\",\n",
    "            \"materials\": [[\"C\", 1.51]],\n",
    "            \"x_positions\":[1e-4],\n",
    "        },\n",
    "    ],\n",
    "}\n",
    "\n",
    "print(\"N: \", config_dict[\"sim_params\"][\"N\"])"
   ]
  },
  {
   "cell_type": "code",
   "execution_count": null,
   "id": "01fb33c7-f97d-46dc-814e-dcbab8bd2084",
   "metadata": {},
   "outputs": [],
   "source": [
    "sim_path = multisim.setup_simulation(config_dict, Path(\".\"), simulations_dir)\n",
    "print(sim_path)"
   ]
  },
  {
   "cell_type": "code",
   "execution_count": null,
   "id": "4a301c8a-82c2-4fd0-9b46-8eccaab3fbdf",
   "metadata": {},
   "outputs": [],
   "source": [
    "computed = config.load(Path(sim_path / 'computed.yaml'))\n",
    "\n",
    "print(\"cutoff angles:\", computed['cutoff_angles'])\n",
    "print(\"source points:\", computed['source_points'])"
   ]
  },
  {
   "cell_type": "code",
   "execution_count": null,
   "id": "8aa7312e",
   "metadata": {},
   "outputs": [],
   "source": [
    "# Run this in a for loop to simulate all source points or\n",
    "# alternatively run the source points as individual euler\n",
    "# jobs\n",
    "for i in range(1):\n",
    "    multisim.run_single_simulation(sim_path, i, scratch_dir, save_keypoints_path=scratch_dir)"
   ]
  },
  {
   "cell_type": "code",
   "execution_count": null,
   "id": "9363befa",
   "metadata": {},
   "outputs": [],
   "source": [
    "wavefronts = util.load_wavefronts_filtered(sim_path, x_range=(-4.9e-7, 0))\n",
    "print(\"nr sources loaded:\", len(wavefronts))\n",
    "wavef= [result[0] for result in wavefronts]\n",
    "print(wavef)\n",
    "wf = np.sum(wavef, axis=0)\n",
    "print(\"nr phase steps:\", wf.shape[0])\n",
    "print(\"nr detector pixels:\", wf.shape[1])"
   ]
  },
  {
   "cell_type": "code",
   "execution_count": null,
   "id": "173a4986",
   "metadata": {},
   "outputs": [],
   "source": [
    "sp = config_dict[\"sim_params\"]\n",
    "detector_x = util.detector_x_vector(sp[\"detector_size\"], sp[\"detector_pixel_size_x\"])\n",
    "plt.plot(detector_x, wf[0])\n",
    "print(detector_x)\n",
    "print(wf[0])"
   ]
  },
  {
   "cell_type": "markdown",
   "id": "fbe420b4",
   "metadata": {},
   "source": [
    "## History\n",
    "\n",
    "To see the interference pattern in empty space, we can record slices throughout the simulation and then plot them. `run_single_simulation` takes an optional argument `history_dz` defining the resolution with which we record the history.\n",
    "\n",
    "Note that the history is not necessarily recorded with a constant z-spacing. Inside gratings and samples, one slice is recorded for every step. The history also records a list of z-coordinates at which the slices were recorded, which we can use for plotting."
   ]
  },
  {
   "cell_type": "code",
   "execution_count": 10,
   "id": "93e5ce0a",
   "metadata": {},
   "outputs": [
    {
     "name": "stderr",
     "output_type": "stream",
     "text": [
      "2025-07-03 16:51:34,870 INFO: Running single simulation for source 1 in simulation /mnt/e/rave-sim-main/rave-sim-main/output/2025/07/20250703_164038092935\n",
      "2025-07-03 16:51:41,594 INFO: Applying optical element 1/1 (Sample)\n",
      "2025-07-03 16:53:37,418 INFO: Propagating from z 0.802m to 4.6m\n",
      "2025-07-03 17:09:16,428 INFO: Finished running simulation for source 1 in 1061.5510554869998 seconds\n"
     ]
    }
   ],
   "source": [
    "multisim.run_single_simulation(sim_path, 1, scratch_dir, save_keypoints_path=None, history_dz=0.02)"
   ]
  },
  {
   "cell_type": "code",
   "execution_count": 11,
   "id": "26a67a4e",
   "metadata": {},
   "outputs": [
    {
     "data": {
      "text/plain": [
       "Text(0, 0.5, 'x (m)')"
      ]
     },
     "execution_count": 11,
     "metadata": {},
     "output_type": "execute_result"
    },
    {
     "data": {
      "image/png": "[encoded data removed]",
      "text/plain": [
       "<Figure size 640x480 with 1 Axes>"
      ]
     },
     "metadata": {},
     "output_type": "display_data"
    }
   ],
   "source": [
    "# Path to the directory for the source with index 1\n",
    "source_dir = multisim.get_sub_dir(sim_path, 1)\n",
    "\n",
    "hist_x = np.load(source_dir / \"history_x.npy\")\n",
    "hist_z = np.load(source_dir / \"history_z.npy\")\n",
    "hist = np.load(source_dir / \"history.npy\")\n",
    "plt.pcolormesh(\n",
    "    hist_z,\n",
    "    hist_x,\n",
    "    hist,\n",
    "    cmap=\"Greys_r\",\n",
    "    vmin=0,\n",
    "    vmax=1e-6,\n",
    "    shading=\"nearest\",\n",
    ")\n",
    "plt.xlabel(\"z (m)\")\n",
    "plt.ylabel(\"x (m)\")"
   ]
  },
  {
   "cell_type": "code",
   "execution_count": null,
   "id": "1933f7ee-a108-4f53-b532-0040f4abcc7f",
   "metadata": {},
   "outputs": [],
   "source": []
  }
 ],
 "metadata": {
  "kernelspec": {
   "display_name": "Python 3 (ipykernel)",
   "language": "python",
   "name": "python3"
  },
  "language_info": {
   "codemirror_mode": {
    "name": "ipython",
    "version": 3
   },
   "file_extension": ".py",
   "mimetype": "text/x-python",
   "name": "python",
   "nbconvert_exporter": "python",
   "pygments_lexer": "ipython3",
   "version": "3.11.9"
  }
 },
 "nbformat": 4,
 "nbformat_minor": 5
}
