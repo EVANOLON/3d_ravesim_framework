{
 "cells": [
  {
   "cell_type": "code",
   "execution_count": 1,
   "id": "10ef1c7d",
   "metadata": {},
   "outputs": [],
   "source": [
    "import sys\n",
    "from pathlib import Path\n",
    "import numpy as np\n",
    "import matplotlib.pyplot as plt\n",
    "import math\n",
    "from tqdm import tqdm\n",
    "import os"
   ]
  },
  {
   "cell_type": "code",
   "execution_count": 2,
   "id": "e95f89a6",
   "metadata": {},
   "outputs": [],
   "source": [
    "rave_sim_dir = Path('/mnt/d/rave-sim-main/rave-sim-main')\n",
    "simulations_dir = Path('/mnt/d/rave-sim-main/rave-sim-main/output')\n",
    "scratch_dir = simulations_dir"
   ]
  },
  {
   "cell_type": "code",
   "execution_count": 3,
   "id": "141a157e",
   "metadata": {
    "scrolled": true
   },
   "outputs": [],
   "source": [
    "sys.path.insert(0, str(rave_sim_dir / \"big-wave\"))\n",
    "#print(str(rave_sim_dir / \"big-wave\"))\n",
    "import multisim\n",
    "import config\n",
    "import util"
   ]
  },
  {
   "cell_type": "code",
   "execution_count": 4,
   "id": "d84023e0-ba4d-48da-a22d-b65c817e690a",
   "metadata": {},
   "outputs": [
    {
     "name": "stdout",
     "output_type": "stream",
     "text": [
      "N:  16777216\n"
     ]
    }
   ],
   "source": [
    "config_dict = {\n",
    "    \"sim_params\": {\n",
    "        \"N\": 2**24,\n",
    "        \"dx\": 3.1e-10,\n",
    "        \"z_detector\": 4.6,\n",
    "        \"detector_size\": 3e-3,\n",
    "        \"detector_pixel_size_x\": 20e-6,\n",
    "        \"detector_pixel_size_y\": 1,\n",
    "        \"chunk_size\": 256 * 1024 * 1024 // 16,  # use 256MB chunks\n",
    "    },\n",
    "    \"use_disk_vector\": False,\n",
    "    \"save_final_u_vectors\": False,\n",
    "    \"dtype\": \"c8\",\n",
    "    \"multisource\": {\n",
    "        \"type\": \"points\",\n",
    "        \"energy_range\": [10000, 50000],\n",
    "        \"x_range\": [-3e-6, 3e-6],\n",
    "        \"z\": 0.0,\n",
    "        \"nr_source_points\": 100,\n",
    "        \"seed\": 1,\n",
    "        \"spectrum\": \"/mnt/d/rave-sim-main/rave-sim-main/spectrum/spectrum_25keV.h5\",\n",
    "    },\n",
    "    \"elements\": [\n",
    "        {\n",
    "            \"type\": \"sample\",\n",
    "            \"z_start\": 0.8,\n",
    "            \"pixel_size_x\": 1 * 1e-6,\n",
    "            \"pixel_size_z\": 1 * 1e-6,\n",
    "            \"grid_path\":\"/mnt/d/rave-sim-main/rave-sim-main/grid/square_grid_1_5_1_1.npy\",\n",
    "            \"materials\": [[\"Au\", 19.32]],\n",
    "            \"x_positions\":[0],\n",
    "        },\n",
    "    ],\n",
    "}\n",
    "\n",
    "print(\"N: \", config_dict[\"sim_params\"][\"N\"])"
   ]
  },
  {
   "cell_type": "code",
   "execution_count": 5,
   "id": "01fb33c7-f97d-46dc-814e-dcbab8bd2084",
   "metadata": {
    "scrolled": true
   },
   "outputs": [
    {
     "name": "stderr",
     "output_type": "stream",
     "text": [
      "2025-07-26 23:40:39,883 INFO: Setting up simulation\n"
     ]
    },
    {
     "ename": "AssertionError",
     "evalue": "Overlapping optical elements are not supported",
     "output_type": "error",
     "traceback": [
      "\u001b[31m---------------------------------------------------------------------------\u001b[39m",
      "\u001b[31mAssertionError\u001b[39m                            Traceback (most recent call last)",
      "\u001b[36mCell\u001b[39m\u001b[36m \u001b[39m\u001b[32mIn[5]\u001b[39m\u001b[32m, line 1\u001b[39m\n\u001b[32m----> \u001b[39m\u001b[32m1\u001b[39m sim_path = \u001b[43mmultisim\u001b[49m\u001b[43m.\u001b[49m\u001b[43msetup_simulation\u001b[49m\u001b[43m(\u001b[49m\u001b[43mconfig_dict\u001b[49m\u001b[43m,\u001b[49m\u001b[43m \u001b[49m\u001b[43mPath\u001b[49m\u001b[43m(\u001b[49m\u001b[33;43m\"\u001b[39;49m\u001b[33;43m.\u001b[39;49m\u001b[33;43m\"\u001b[39;49m\u001b[43m)\u001b[49m\u001b[43m,\u001b[49m\u001b[43m \u001b[49m\u001b[43msimulations_dir\u001b[49m\u001b[43m)\u001b[49m\n",
      "\u001b[36mFile \u001b[39m\u001b[32m/mnt/d/rave-sim-main/rave-sim-main/big-wave/multisim.py:497\u001b[39m, in \u001b[36msetup_simulation\u001b[39m\u001b[34m(dct, config_dir, save_dir)\u001b[39m\n\u001b[32m    493\u001b[39m         el[\u001b[33m\"\u001b[39m\u001b[33mgrid_path\u001b[39m\u001b[33m\"\u001b[39m] = os.path.basename(el[\u001b[33m\"\u001b[39m\u001b[33mgrid_path\u001b[39m\u001b[33m\"\u001b[39m])\n\u001b[32m    495\u001b[39m max_x = reduce_simulation_setup_for_save_and_exit(dct, max_x_list)\n\u001b[32m--> \u001b[39m\u001b[32m497\u001b[39m \u001b[43mcheck_simulation_inputs\u001b[49m\u001b[43m(\u001b[49m\u001b[43msim_params\u001b[49m\u001b[43m,\u001b[49m\u001b[43m \u001b[49m\u001b[43mz_source\u001b[49m\u001b[43m,\u001b[49m\u001b[43m \u001b[49m\u001b[43melements\u001b[49m\u001b[43m,\u001b[49m\u001b[43m \u001b[49m\u001b[43mangles\u001b[49m\u001b[43m)\u001b[49m\n\u001b[32m    499\u001b[39m sim_dir = setup_sim_dir(save_dir)\n\u001b[32m    500\u001b[39m \u001b[38;5;28;01mfor\u001b[39;00m gf \u001b[38;5;129;01min\u001b[39;00m grid_files:\n",
      "\u001b[36mFile \u001b[39m\u001b[32m/mnt/d/rave-sim-main/rave-sim-main/big-wave/multisim.py:223\u001b[39m, in \u001b[36mcheck_simulation_inputs\u001b[39m\u001b[34m(params, z_source, elements, cutoff_angles)\u001b[39m\n\u001b[32m    220\u001b[39m     nr_phase_steps = steps\n\u001b[32m    222\u001b[39m el.check_valid()\n\u001b[32m--> \u001b[39m\u001b[32m223\u001b[39m \u001b[38;5;28;01massert\u001b[39;00m current_z <= el.z_start + z_tolerance, \u001b[33m\"\u001b[39m\u001b[33mOverlapping optical elements are not supported\u001b[39m\u001b[33m\"\u001b[39m\n\u001b[32m    224\u001b[39m current_z = el.z_start + el.get_thickness()\n\u001b[32m    226\u001b[39m \u001b[38;5;28;01mif\u001b[39;00m \u001b[38;5;28misinstance\u001b[39m(el, SaveAndExit):\n",
      "\u001b[31mAssertionError\u001b[39m: Overlapping optical elements are not supported"
     ]
    }
   ],
   "source": [
    "sim_path = multisim.setup_simulation(config_dict, Path(\".\"), simulations_dir)"
   ]
  },
  {
   "cell_type": "code",
   "execution_count": null,
   "id": "4a301c8a-82c2-4fd0-9b46-8eccaab3fbdf",
   "metadata": {},
   "outputs": [],
   "source": [
    "computed = config.load(Path(sim_path / 'computed.yaml'))\n",
    "\n",
    "#print(\"cutoff angles:\", computed['cutoff_angles'])\n",
    "#print(\"source points:\", computed['source_points'])"
   ]
  },
  {
   "cell_type": "code",
   "execution_count": null,
   "id": "8aa7312e",
   "metadata": {},
   "outputs": [],
   "source": [
    "# Run this in a for loop to simulate all source points or\n",
    "# alternatively run the source points as individual euler\n",
    "# jobs\n",
    "#for i in range(20):\n",
    "#    multisim.run_single_simulation(sim_path, i, scratch_dir, save_keypoints_path=scratch_dir)\n",
    "for i in tqdm(range(config_dict[\"multisource\"][\"nr_source_points\"])):\n",
    "    os.system(f\"CUDA_VISIBLE_DEVICES=0 /mnt/d/rave-sim-main/rave-sim-main/fast-wave/build-Release/fastwave -s {i} {sim_path}\")"
   ]
  },
  {
   "cell_type": "code",
   "execution_count": null,
   "id": "9363befa",
   "metadata": {},
   "outputs": [],
   "source": [
    "wavefronts = util.load_wavefronts_filtered(sim_path, x_range=(-3e-6, 3e-6))\n",
    "print(\"nr sources loaded:\", len(wavefronts))\n",
    "wavef= [result[0] for result in wavefronts]\n",
    "wf = np.sum(wavef, axis=0)\n",
    "print(\"nr phase steps:\", wf.shape[0])\n",
    "print(\"nr detector pixels:\", wf.shape[1])"
   ]
  },
  {
   "cell_type": "code",
   "execution_count": null,
   "id": "173a4986",
   "metadata": {},
   "outputs": [],
   "source": [
    "sp = config_dict[\"sim_params\"]\n",
    "detector_x = util.detector_x_vector(sp[\"detector_size\"], sp[\"detector_pixel_size_x\"])\n",
    "plt.plot(wf[0])\n",
    "print(wf[0])\n",
    "print(detector_x)"
   ]
  },
  {
   "cell_type": "markdown",
   "id": "fbe420b4",
   "metadata": {},
   "source": [
    "## History\n",
    "\n",
    "To see the interference pattern in empty space, we can record slices throughout the simulation and then plot them. `run_single_simulation` takes an optional argument `history_dz` defining the resolution with which we record the history.\n",
    "\n",
    "Note that the history is not necessarily recorded with a constant z-spacing. Inside gratings and samples, one slice is recorded for every step. The history also records a list of z-coordinates at which the slices were recorded, which we can use for plotting."
   ]
  },
  {
   "cell_type": "code",
   "execution_count": null,
   "id": "93e5ce0a",
   "metadata": {},
   "outputs": [],
   "source": [
    "multisim.run_single_simulation(sim_path, 1, scratch_dir, save_keypoints_path=None, history_dz=0.02)"
   ]
  },
  {
   "cell_type": "code",
   "execution_count": null,
   "id": "26a67a4e",
   "metadata": {},
   "outputs": [],
   "source": [
    "# Path to the directory for the source with index 1\n",
    "source_dir = multisim.get_sub_dir(sim_path, 1)\n",
    "\n",
    "hist_x = np.load(source_dir / \"history_x.npy\")\n",
    "hist_z = np.load(source_dir / \"history_z.npy\")\n",
    "hist = np.load(source_dir / \"history.npy\")\n",
    "plt.pcolormesh(\n",
    "    hist_z,\n",
    "    hist_x,\n",
    "    hist,\n",
    "    cmap=\"Greys_r\",\n",
    "    vmin=0,\n",
    "    vmax=1e-6,\n",
    "    shading=\"nearest\",\n",
    ")\n",
    "plt.xlabel(\"z (m)\")\n",
    "plt.ylabel(\"x (m)\")"
   ]
  },
  {
   "cell_type": "code",
   "execution_count": null,
   "id": "1933f7ee-a108-4f53-b532-0040f4abcc7f",
   "metadata": {},
   "outputs": [],
   "source": []
  },
  {
   "cell_type": "code",
   "execution_count": null,
   "id": "911872bd-d9c4-4c14-802c-d09c858243c9",
   "metadata": {},
   "outputs": [],
   "source": []
  }
 ],
 "metadata": {
  "kernelspec": {
   "display_name": "Python 3 (ipykernel)",
   "language": "python",
   "name": "python3"
  },
  "language_info": {
   "codemirror_mode": {
    "name": "ipython",
    "version": 3
   },
   "file_extension": ".py",
   "mimetype": "text/x-python",
   "name": "python",
   "nbconvert_exporter": "python",
   "pygments_lexer": "ipython3",
   "version": "3.11.9"
  }
 },
 "nbformat": 4,
 "nbformat_minor": 5
}
