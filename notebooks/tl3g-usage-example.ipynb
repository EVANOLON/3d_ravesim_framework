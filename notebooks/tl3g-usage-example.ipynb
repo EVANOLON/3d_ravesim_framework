{
 "cells": [
  {
   "cell_type": "markdown",
   "id": "3380fd9f-fe1a-441b-a94c-57defa74e218",
   "metadata": {},
   "source": [
    "From publications DOI: <a href=\"http://doi.org/10.1364/OPTICA.487795\">http://doi.org/10.1364/OPTICA.487795</a> and DOI: <a href=\"https://doi.org/10.1038/s41598-023-29762-y\">https://doi.org/10.1038/s41598-023-29762-y</a>"
   ]
  },
  {
   "cell_type": "code",
   "execution_count": 1,
   "id": "4d556aed",
   "metadata": {},
   "outputs": [],
   "source": [
    "# Copyright (c) 2024, ETH Zurich"
   ]
  },
  {
   "cell_type": "code",
   "execution_count": 2,
   "id": "10ef1c7d",
   "metadata": {},
   "outputs": [],
   "source": [
    "import sys\n",
    "from pathlib import Path\n",
    "import numpy as np\n",
    "import matplotlib.pyplot as plt\n",
    "from tqdm import tqdm\n",
    "import os"
   ]
  },
  {
   "cell_type": "code",
   "execution_count": 3,
   "id": "e95f89a6",
   "metadata": {},
   "outputs": [],
   "source": [
    "rave_sim_dir = Path('/mnt/d/rave-sim-main/rave-sim-main')\n",
    "simulations_dir = Path('/mnt/d/rave-sim-main/rave-sim-main/output')\n",
    "scratch_dir = simulations_dir"
   ]
  },
  {
   "cell_type": "code",
   "execution_count": 4,
   "id": "141a157e",
   "metadata": {},
   "outputs": [],
   "source": [
    "sys.path.insert(0, str(rave_sim_dir / \"big-wave\"))\n",
    "#print(str(rave_sim_dir / \"big-wave\"))\n",
    "import multisim\n",
    "import config\n",
    "import util"
   ]
  },
  {
   "cell_type": "code",
   "execution_count": 5,
   "id": "d84023e0-ba4d-48da-a22d-b65c817e690a",
   "metadata": {},
   "outputs": [
    {
     "name": "stdout",
     "output_type": "stream",
     "text": [
      "N:  4194304\n"
     ]
    }
   ],
   "source": [
    "config_dict = {\n",
    "    \"sim_params\": {\n",
    "        \"N\": 2**22,\n",
    "        \"dx\": 3.1e-10,\n",
    "        \"z_detector\": 1.77,\n",
    "        \"detector_size\": 2e-4,\n",
    "        \"detector_pixel_size_x\": 1e-6,\n",
    "        \"detector_pixel_size_y\": 1,\n",
    "        \"chunk_size\": 256 * 1024 * 1024 // 16,  # use 256MB chunks\n",
    "    },\n",
    "    \"use_disk_vector\": False,\n",
    "    \"save_final_u_vectors\": False,\n",
    "    \"dtype\": \"c8\",\n",
    "    \"multisource\": {\n",
    "        \"type\": \"points\",\n",
    "        \"energy_range\": [46000.0, 47000.0],\n",
    "        \"x_range\": [-1e-6, 1e-6],\n",
    "        \"z\": 0.0,\n",
    "        \"nr_source_points\": 3,\n",
    "        \"seed\": 1,\n",
    "    },\n",
    "    \"elements\": [\n",
    "        {\n",
    "            \"type\": \"grating\",\n",
    "            \"pitch\": 4.2e-6,\n",
    "            \"dc\": [0.5, 0.5],\n",
    "            \"z_start\": 0.1,\n",
    "            \"thickness\": 140e-6,\n",
    "            \"nr_steps\": 8,\n",
    "            \"x_positions\": [0.0],\n",
    "            \"substrate_thickness\": (370 - 140) * 1e-6,\n",
    "            \"mat_a\": [\"Si\", 2.34],\n",
    "            \"mat_b\": [\"Au\", 19.32],\n",
    "            \"mat_substrate\": [\"Si\", 2.34],\n",
    "        },\n",
    "        {\n",
    "            \"type\": \"grating\",\n",
    "            \"pitch\": 4.2e-6,\n",
    "            \"dc\": [0.5, 0.5],\n",
    "            \"z_start\": 0.918,\n",
    "            \"thickness\": 59e-6,\n",
    "            \"nr_steps\": 8,\n",
    "            \"x_positions\": [0.0],\n",
    "            \"substrate_thickness\": (200 - 59) * 1e-6,\n",
    "            \"mat_a\": [\"Si\", 2.34],\n",
    "            \"mat_b\": None,\n",
    "            \"mat_substrate\": [\"Si\", 2.34],\n",
    "        },\n",
    "        {\n",
    "            \"type\": \"grating\",\n",
    "            \"pitch\": 4.2e-6,\n",
    "            \"dc\": [0.5, 0.5],\n",
    "            \"z_start\": 1.736,\n",
    "            \"thickness\": 154e-6,\n",
    "            \"nr_steps\": 8,\n",
    "            \"x_positions\": np.linspace(0, 4.2e-6, 5, endpoint=False).tolist(),\n",
    "            \"substrate_thickness\": (370 - 154) * 1e-6,\n",
    "            \"mat_a\": [\"Si\", 2.34],\n",
    "            \"mat_b\": [\"Au\", 19.32],\n",
    "            \"mat_substrate\": [\"Si\", 2.34],\n",
    "        },\n",
    "    ],\n",
    "}\n",
    "\n",
    "print(\"N: \", config_dict[\"sim_params\"][\"N\"])"
   ]
  },
  {
   "cell_type": "code",
   "execution_count": 6,
   "id": "01fb33c7-f97d-46dc-814e-dcbab8bd2084",
   "metadata": {},
   "outputs": [
    {
     "name": "stderr",
     "output_type": "stream",
     "text": [
      "2025-07-22 10:18:27,786 INFO: Setting up simulation\n",
      "2025-07-22 10:18:27,862 INFO: Finished setting up simulation in /mnt/d/rave-sim-main/rave-sim-main/output/2025/07/20250722_101827809831\n"
     ]
    }
   ],
   "source": [
    "sim_path = multisim.setup_simulation(config_dict, Path(\".\"), simulations_dir)"
   ]
  },
  {
   "cell_type": "code",
   "execution_count": 7,
   "id": "4a301c8a-82c2-4fd0-9b46-8eccaab3fbdf",
   "metadata": {},
   "outputs": [
    {
     "name": "stdout",
     "output_type": "stream",
     "text": [
      "cutoff angles: [5.7062146830722226e-05, 6.389593685272419e-05, 0.00018658813293548603, 0.009164513585960618]\n",
      "source points: [{'x': 1.6243453636632416e-06, 'z': 0.0, 'energy': 46417.02200470257}, {'x': -6.117564136500753e-07, 'z': 0.0, 'energy': 46720.32449344216}, {'x': -5.281717522634556e-07, 'z': 0.0, 'energy': 46000.11437481734}]\n"
     ]
    }
   ],
   "source": [
    "computed = config.load(Path(sim_path / 'computed.yaml'))\n",
    "\n",
    "print(\"cutoff angles:\", computed['cutoff_angles'])\n",
    "print(\"source points:\", computed['source_points'])"
   ]
  },
  {
   "cell_type": "code",
   "execution_count": 8,
   "id": "8aa7312e",
   "metadata": {},
   "outputs": [
    {
     "name": "stderr",
     "output_type": "stream",
     "text": [
      "  0%|                                                            | 0/3 [00:00<?, ?it/s]"
     ]
    },
    {
     "name": "stdout",
     "output_type": "stream",
     "text": [
      "[2025-07-22 10:18:33.568] [info] Running simulation /mnt/d/rave-sim-main/rave-sim-main/output/2025/07/20250722_101827809831/00000000\n",
      "[2025-07-22 10:18:34.216] [info] Simulating optical element 1/3\n",
      "[2025-07-22 10:18:34.248] [info] Elapsed time for optical element: 29.755424 ms\n",
      "[2025-07-22 10:18:34.251] [info] Simulating optical element 2/3\n",
      "[2025-07-22 10:18:34.281] [info] Elapsed time for optical element: 28.476255 ms\n",
      "[2025-07-22 10:18:34.284] [info] Simulating optical element 3/3\n",
      "[2025-07-22 10:18:34.319] [info] Elapsed time for optical element: 32.60528 ms\n",
      "[2025-07-22 10:18:34.323] [info] Running phase step 2/5\n",
      "[2025-07-22 10:18:34.324] [info] Simulating optical element 3/3\n",
      "[2025-07-22 10:18:34.359] [info] Elapsed time for optical element: 32.550465 ms\n",
      "[2025-07-22 10:18:34.363] [info] Running phase step 3/5\n",
      "[2025-07-22 10:18:34.364] [info] Simulating optical element 3/3\n",
      "[2025-07-22 10:18:34.398] [info] Elapsed time for optical element: 32.589184 ms\n",
      "[2025-07-22 10:18:34.403] [info] Running phase step 4/5\n",
      "[2025-07-22 10:18:34.403] [info] Simulating optical element 3/3\n"
     ]
    },
    {
     "name": "stderr",
     "output_type": "stream",
     "text": [
      " 33%|█████████████████▎                                  | 1/3 [00:01<00:02,  1.04s/it]"
     ]
    },
    {
     "name": "stdout",
     "output_type": "stream",
     "text": [
      "[2025-07-22 10:18:34.440] [info] Elapsed time for optical element: 34.12915 ms\n",
      "[2025-07-22 10:18:34.444] [info] Running phase step 5/5\n",
      "[2025-07-22 10:18:34.444] [info] Simulating optical element 3/3\n",
      "[2025-07-22 10:18:34.480] [info] Elapsed time for optical element: 34.194466 ms\n",
      "[2025-07-22 10:18:34.491] [info] Simulation finished in 0.922361052 seconds\n",
      "[2025-07-22 10:18:34.608] [info] Running simulation /mnt/d/rave-sim-main/rave-sim-main/output/2025/07/20250722_101827809831/00000001\n",
      "[2025-07-22 10:18:34.864] [info] Simulating optical element 1/3\n",
      "[2025-07-22 10:18:34.893] [info] Elapsed time for optical element: 27.816288 ms\n",
      "[2025-07-22 10:18:34.896] [info] Simulating optical element 2/3\n",
      "[2025-07-22 10:18:34.926] [info] Elapsed time for optical element: 27.686272 ms\n",
      "[2025-07-22 10:18:34.929] [info] Simulating optical element 3/3\n",
      "[2025-07-22 10:18:34.964] [info] Elapsed time for optical element: 32.686623 ms\n",
      "[2025-07-22 10:18:34.968] [info] Running phase step 2/5\n",
      "[2025-07-22 10:18:34.969] [info] Simulating optical element 3/3\n",
      "[2025-07-22 10:18:35.003] [info] Elapsed time for optical element: 32.453247 ms\n",
      "[2025-07-22 10:18:35.008] [info] Running phase step 3/5\n",
      "[2025-07-22 10:18:35.008] [info] Simulating optical element 3/3\n",
      "[2025-07-22 10:18:35.043] [info] Elapsed time for optical element: 32.69123 ms\n",
      "[2025-07-22 10:18:35.047] [info] Running phase step 4/5\n",
      "[2025-07-22 10:18:35.048] [info] Simulating optical element 3/3\n"
     ]
    },
    {
     "name": "stderr",
     "output_type": "stream",
     "text": [
      " 67%|██████████████████████████████████▋                 | 2/3 [00:01<00:00,  1.26it/s]"
     ]
    },
    {
     "name": "stdout",
     "output_type": "stream",
     "text": [
      "[2025-07-22 10:18:35.084] [info] Elapsed time for optical element: 33.50573 ms\n",
      "[2025-07-22 10:18:35.089] [info] Running phase step 5/5\n",
      "[2025-07-22 10:18:35.089] [info] Simulating optical element 3/3\n",
      "[2025-07-22 10:18:35.124] [info] Elapsed time for optical element: 34.137695 ms\n",
      "[2025-07-22 10:18:35.134] [info] Simulation finished in 0.526494405 seconds\n",
      "[2025-07-22 10:18:35.226] [info] Running simulation /mnt/d/rave-sim-main/rave-sim-main/output/2025/07/20250722_101827809831/00000002\n",
      "[2025-07-22 10:18:35.483] [info] Simulating optical element 1/3\n",
      "[2025-07-22 10:18:35.515] [info] Elapsed time for optical element: 29.85536 ms\n",
      "[2025-07-22 10:18:35.518] [info] Simulating optical element 2/3\n",
      "[2025-07-22 10:18:35.547] [info] Elapsed time for optical element: 27.620735 ms\n",
      "[2025-07-22 10:18:35.550] [info] Simulating optical element 3/3\n",
      "[2025-07-22 10:18:35.585] [info] Elapsed time for optical element: 32.610336 ms\n",
      "[2025-07-22 10:18:35.589] [info] Running phase step 2/5\n",
      "[2025-07-22 10:18:35.590] [info] Simulating optical element 3/3\n",
      "[2025-07-22 10:18:35.624] [info] Elapsed time for optical element: 32.431072 ms\n",
      "[2025-07-22 10:18:35.629] [info] Running phase step 3/5\n",
      "[2025-07-22 10:18:35.629] [info] Simulating optical element 3/3\n",
      "[2025-07-22 10:18:35.664] [info] Elapsed time for optical element: 32.69651 ms\n",
      "[2025-07-22 10:18:35.668] [info] Running phase step 4/5\n",
      "[2025-07-22 10:18:35.669] [info] Simulating optical element 3/3\n"
     ]
    },
    {
     "name": "stderr",
     "output_type": "stream",
     "text": [
      "100%|████████████████████████████████████████████████████| 3/3 [00:02<00:00,  1.31it/s]"
     ]
    },
    {
     "name": "stdout",
     "output_type": "stream",
     "text": [
      "[2025-07-22 10:18:35.705] [info] Elapsed time for optical element: 33.323746 ms\n",
      "[2025-07-22 10:18:35.709] [info] Running phase step 5/5\n",
      "[2025-07-22 10:18:35.709] [info] Simulating optical element 3/3\n",
      "[2025-07-22 10:18:35.745] [info] Elapsed time for optical element: 34.20208 ms\n",
      "[2025-07-22 10:18:35.758] [info] Simulation finished in 0.532107564 seconds\n"
     ]
    },
    {
     "name": "stderr",
     "output_type": "stream",
     "text": [
      "\n"
     ]
    }
   ],
   "source": [
    "# Run this in a for loop to simulate all source points or\n",
    "# alternatively run the source points as individual euler\n",
    "# jobs\n",
    "#multisim.run_single_simulation(sim_path, 0, scratch_dir, save_keypoints_path=scratch_dir)\n",
    "for i in tqdm(range(config_dict[\"multisource\"][\"nr_source_points\"])):\n",
    "    os.system(f\"CUDA_VISIBLE_DEVICES=0 /mnt/d/rave-sim-main/rave-sim-main/fast-wave/build-Release/fastwave -s {i} {sim_path}\")"
   ]
  },
  {
   "cell_type": "code",
   "execution_count": 9,
   "id": "9363befa",
   "metadata": {},
   "outputs": [
    {
     "name": "stdout",
     "output_type": "stream",
     "text": [
      "nr sources loaded: 3\n",
      "nr phase steps: 5\n",
      "nr detector pixels: 200\n"
     ]
    }
   ],
   "source": [
    "wavefronts = util.load_wavefronts_filtered(sim_path, x_range=(-3e-6, 3e-6))\n",
    "print(\"nr sources loaded:\", len(wavefronts))\n",
    "\n",
    "wf = wavefronts[0][0]\n",
    "print(\"nr phase steps:\", wf.shape[0])\n",
    "print(\"nr detector pixels:\", wf.shape[1])"
   ]
  },
  {
   "cell_type": "code",
   "execution_count": 10,
   "id": "173a4986",
   "metadata": {},
   "outputs": [
    {
     "data": {
      "text/plain": [
       "[<matplotlib.lines.Line2D at 0x77978eedb490>]"
      ]
     },
     "execution_count": 10,
     "metadata": {},
     "output_type": "execute_result"
    },
    {
     "data": {
      "image/png": "[encoded data removed]",
      "text/plain": [
       "<Figure size 640x480 with 1 Axes>"
      ]
     },
     "metadata": {},
     "output_type": "display_data"
    }
   ],
   "source": [
    "sp = config_dict[\"sim_params\"]\n",
    "detector_x = util.detector_x_vector(sp[\"detector_size\"], sp[\"detector_pixel_size_x\"])\n",
    "plt.plot(detector_x, wf[0])"
   ]
  },
  {
   "cell_type": "code",
   "execution_count": null,
   "id": "a9801790",
   "metadata": {},
   "outputs": [],
   "source": [
    "full_x = util.full_x_vector(sp[\"N\"], sp[\"dx\"])\n",
    "kp = util.load_keypoints(scratch_dir)"
   ]
  },
  {
   "cell_type": "code",
   "execution_count": null,
   "id": "117eda5b",
   "metadata": {},
   "outputs": [],
   "source": [
    "plt.plot(full_x, np.abs(kp[4]) ** 2)\n",
    "plt.xlim(-3e-5, 3e-5)\n",
    "\n",
    "for i in range(-50, 50):\n",
    "    plt.axvline(i * 4.2e-6)\n",
    "\n",
    "plt.show()"
   ]
  },
  {
   "cell_type": "markdown",
   "id": "fbe420b4",
   "metadata": {},
   "source": [
    "## History\n",
    "\n",
    "To see the interference pattern in empty space, we can record slices throughout the simulation and then plot them. `run_single_simulation` takes an optional argument `history_dz` defining the resolution with which we record the history.\n",
    "\n",
    "Note that the history is not necessarily recorded with a constant z-spacing. Inside gratings and samples, one slice is recorded for every step. The history also records a list of z-coordinates at which the slices were recorded, which we can use for plotting."
   ]
  },
  {
   "cell_type": "code",
   "execution_count": null,
   "id": "93e5ce0a",
   "metadata": {},
   "outputs": [],
   "source": [
    "multisim.run_single_simulation(sim_path, 1, scratch_dir, save_keypoints_path=None, history_dz=0.02)"
   ]
  },
  {
   "cell_type": "code",
   "execution_count": null,
   "id": "26a67a4e",
   "metadata": {},
   "outputs": [],
   "source": [
    "# Path to the directory for the source with index 1\n",
    "source_dir = multisim.get_sub_dir(sim_path, 1)\n",
    "\n",
    "hist_x = np.load(source_dir / \"history_x.npy\")\n",
    "hist_z = np.load(source_dir / \"history_z.npy\")\n",
    "hist = np.load(source_dir / \"history.npy\")\n",
    "plt.pcolormesh(\n",
    "    hist_z,\n",
    "    hist_x,\n",
    "    hist,\n",
    "    cmap=\"Greys_r\",\n",
    "    vmin=0,\n",
    "    vmax=1e-6,\n",
    "    shading=\"nearest\",\n",
    ")\n",
    "plt.xlabel(\"z (m)\")\n",
    "plt.ylabel(\"x (m)\")\n",
    "print(hist_z[1]-hist_z[0],hist_x[1]-hist_x[0])"
   ]
  },
  {
   "cell_type": "code",
   "execution_count": null,
   "id": "700edc2c-c919-4e88-8675-b6b291b21e4c",
   "metadata": {},
   "outputs": [],
   "source": []
  }
 ],
 "metadata": {
  "kernelspec": {
   "display_name": "Python 3 (ipykernel)",
   "language": "python",
   "name": "python3"
  },
  "language_info": {
   "codemirror_mode": {
    "name": "ipython",
    "version": 3
   },
   "file_extension": ".py",
   "mimetype": "text/x-python",
   "name": "python",
   "nbconvert_exporter": "python",
   "pygments_lexer": "ipython3",
   "version": "3.11.9"
  }
 },
 "nbformat": 4,
 "nbformat_minor": 5
}
