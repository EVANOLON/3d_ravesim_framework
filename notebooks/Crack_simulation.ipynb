{
 "cells": [
  {
   "cell_type": "code",
   "execution_count": 1,
   "id": "03722768",
   "metadata": {},
   "outputs": [],
   "source": [
    "# Copyright (c) 2024, ETH Zurich"
   ]
  },
  {
   "cell_type": "code",
   "execution_count": 2,
   "id": "98934796-d8a5-4b55-8bc6-b038ba2f1329",
   "metadata": {},
   "outputs": [],
   "source": [
    "import sys\n",
    "from pathlib import Path\n",
    "import numpy as np\n",
    "import matplotlib.pyplot as plt \n",
    "import os\n",
    "import scipy.stats as stats\n",
    "import scipy.ndimage\n",
    "from tqdm import tqdm\n",
    "import spekpy as spk\n",
    "import h5py\n",
    "\n",
    "from scipy import interpolate"
   ]
  },
  {
   "cell_type": "code",
   "execution_count": 3,
   "id": "350e8e6a-9b12-40e5-9b42-3731569c72c1",
   "metadata": {},
   "outputs": [],
   "source": [
    "rave_sim_dir = Path('/mnt/d/rave-sim-main/rave-sim-main')\n",
    "simulations_dir = Path('/mnt/d/rave-sim-main/rave-sim-main/output')\n",
    "scratch_dir = simulations_dir\n",
    "\n",
    "sys.path.insert(0, str(rave_sim_dir / \"nist_lookup\"))\n",
    "from nist_lookup.xraydb_plugin import xray_delta_beta"
   ]
  },
  {
   "cell_type": "code",
   "execution_count": 4,
   "id": "4a372a03-9e15-4caf-a22f-1536e365e3cc",
   "metadata": {},
   "outputs": [],
   "source": [
    "sys.path.insert(0, str(rave_sim_dir / \"big-wave\"))\n",
    "import multisim\n",
    "import config\n",
    "import util\n",
    "import propagation\n"
   ]
  },
  {
   "cell_type": "code",
   "execution_count": 5,
   "id": "7e729ef7-8ce6-440b-b16d-fcf3729d11e7",
   "metadata": {},
   "outputs": [],
   "source": [
    "def calculate_G1_height(eng):\n",
    "    # constants\n",
    "    h = 6.62607004 * 10**(-34) # planck constant in mˆ2 kg / s\n",
    "    c_0 = 299792458 # speed of light in m / s\n",
    "    eV_to_joule = 1.602176634*10**(-19)\n",
    "    N_A = 6.02214086 * 10**23 #[1/mol]\n",
    "    \n",
    "    lambda_ = h * c_0 / (eng*eV_to_joule)\n",
    "    delta_diff = xray_delta_beta('Au', 19.32, eng)[0] -  xray_delta_beta('Si', 2.34, eng)[0]\n",
    "    height = np.pi  * lambda_ / (2*np.pi * delta_diff)\n",
    "\n",
    "    return height\n",
    "\n",
    "\n",
    "def signal_retrieval_least_squares(data, period=None, axis=-1):\n",
    "    if axis != -1:\n",
    "        data = np.moveaxis(data, axis, -1)\n",
    "\n",
    "    nsteps = data.shape[-1]\n",
    "\n",
    "    if period is None:\n",
    "        period = nsteps\n",
    "\n",
    "    phi = np.linspace(0, 2 * np.pi * nsteps / (period), nsteps, endpoint=False)\n",
    "    M = np.c_[np.sin(phi), np.cos(phi), np.ones(nsteps)]\n",
    "    res, chi2, _rank, _sing_vals = np.linalg.lstsq(M, data.reshape((-1, nsteps)).T, rcond=-1)\n",
    "\n",
    "    res = res.T.reshape((*data.shape[:-1], -1))\n",
    "\n",
    "    dabs = res[...,2]\n",
    "    dphase = -np.arctan2(res[...,0], res[...,1])\n",
    "    dvis = np.sqrt(res[...,0]**2 + res[...,1]**2) / dabs\n",
    "\n",
    "    # normalization to the total number of counts\n",
    "    dabs *= nsteps\n",
    "\n",
    "    return dabs, dphase, dvis, np.nanmean(chi2)\n",
    "\n",
    "\n",
    "def calculate_pixel_intensity(x, fringe, pxEdges, statistics = 'sum'):\n",
    "    fringeStats = stats.binned_statistic(x, fringe, bins=pxEdges, statistic = statistics)\n",
    "    return fringeStats.statistic\n",
    "\n",
    "def perform_binned_signal_retrieval(x, wf, pxSize, nrSteps, plot_curve = True):\n",
    "    leftSide = np.arange(0-pxSize/2, np.min(x), -pxSize)\n",
    "    rightSide = np.arange(0 + pxSize/2, np.max(x), pxSize)\n",
    "    pxEdges = np.concatenate([np.flip(leftSide), rightSide])\n",
    "    int_px = []\n",
    "    for i in range(nrSteps):\n",
    "        int_px.append(calculate_pixel_intensity(x, wf[i,:], pxEdges))\n",
    "    int_px = np.asarray(int_px)\n",
    "\n",
    "    trans, phase, vis, _ = signal_retrieval_least_squares(int_px, period = nrSteps, axis = 0)\n",
    "    if plot_curve:\n",
    "        plot_curves(trans, phase, vis, pxEdges)\n",
    "    return int_px, trans, phase, vis, pxEdges\n",
    "\n",
    "def perform_binning(x, wf, pxSize):\n",
    "    leftSide = np.arange(0-pxSize/2, np.min(x), -pxSize)\n",
    "    rightSide = np.arange(0 + pxSize/2, np.max(x), pxSize)\n",
    "    pxEdges = np.concatenate([np.flip(leftSide), rightSide])\n",
    "    int_px = calculate_pixel_intensity(x, wf, pxEdges, statistics = 'mean')\n",
    "    return int_px\n",
    "\n",
    "def find_nearest(array, value):\n",
    "    array = np.asarray(array)\n",
    "    idx = (np.abs(array - value)).argmin()\n",
    "    return idx\n",
    "\n",
    "def get_subdict(dict_, idx):\n",
    "    sub_dict = {}\n",
    "    for key in dict_.keys():\n",
    "        sub_dict[key] = dict_[key][idx]\n",
    "    return sub_dict\n",
    "\n",
    "def calc_Vis_theoretical(eng, Edes,m):\n",
    "    V = 2/np.pi * np.abs(np.sin(np.pi / 2 * Edes / eng)**2 * np.sin(m * np.pi / 2 * Edes / eng))\n",
    "    return V"
   ]
  },
  {
   "cell_type": "code",
   "execution_count": 6,
   "id": "d8806a5b-4fb4-4b74-8a43-2a09b5dac066",
   "metadata": {},
   "outputs": [
    {
     "name": "stdout",
     "output_type": "stream",
     "text": [
      "Z0:  0.1\n",
      "Z1:  0.9180881351464869\n",
      "Z2:  1.736176270292974\n",
      "Z Detector:  1.746176270292974\n",
      "0.8180881351464869\n"
     ]
    }
   ],
   "source": [
    "# constants\n",
    "h = 6.62607004 * 10**(-34) # planck constant in mˆ2 kg / s\n",
    "c_0 = 299792458 # speed of light in m / s\n",
    "eV_to_joule = 1.602176634*10**(-19)\n",
    "N_A = 6.02214086 * 10**23 #[1/mol]\n",
    "E_des = 46000\n",
    "\n",
    "lambda_ = h * c_0 / (E_des*eV_to_joule)\n",
    "p2 = 4.2*10**(-6)\n",
    "p0 = p1 = p2\n",
    "\n",
    "Dn_5 = 5*p2**2/(2*lambda_) / 2\n",
    "\n",
    "z_g0 = 0.1\n",
    "z_g1 = z_g0 + Dn_5\n",
    "z_g2 = z_g0 + 2*Dn_5\n",
    "z_detector = z_g2 + 0.01\n",
    "\n",
    "h0 = h2 = 180e-6\n",
    "h1 = 59e-6\n",
    "\n",
    "print(\"Z0: \", z_g0)\n",
    "print(\"Z1: \", z_g1)\n",
    "print(\"Z2: \", z_g2)\n",
    "print(\"Z Detector: \", z_detector)\n",
    "\n",
    "print(Dn_5)"
   ]
  },
  {
   "cell_type": "code",
   "execution_count": 7,
   "id": "93dc1df7-e101-49df-9858-c86481f31ef8",
   "metadata": {},
   "outputs": [],
   "source": [
    "N = 2**26\n",
    "max_energy = 70000\n",
    "dx = propagation.max_dx(z_g0, 200e-6, N, propagation.convert_energy_wavelength(max_energy))"
   ]
  },
  {
   "cell_type": "code",
   "execution_count": 8,
   "id": "7a3ed05a-6155-492a-bfa3-bf2bebd6c9cd",
   "metadata": {},
   "outputs": [
    {
     "data": {
      "text/plain": [
       "9.334365630181222e-09"
      ]
     },
     "execution_count": 8,
     "metadata": {},
     "output_type": "execute_result"
    }
   ],
   "source": [
    "dx**2 / lambda_ * (1 / 0.1)"
   ]
  },
  {
   "cell_type": "code",
   "execution_count": 9,
   "id": "6cf28b87-6fe0-4805-9529-6e332228d8c8",
   "metadata": {},
   "outputs": [],
   "source": [
    "s = spk.Spek(kvp=70, dk = 0.1, th = 10) # Create a spectrum\n",
    "s.multi_filter((('Be', 0.15), ('Al', 3))) # Create a spectrum\n",
    "k, f = s.get_spectrum(edges=True) # Get the spectrum\n",
    "\n",
    "energyRange = [4000, 70000]\n",
    "dE = 100\n",
    "filtering = 0.000\n",
    "\n",
    "energies = np.arange(5, 70+0.1, 0.1)*1e3\n",
    "\n",
    "\n",
    "tube_spectrum_txt = interpolate.interp1d(k*1e3, f, fill_value = 'extrapolate')\n",
    "spec_txt = tube_spectrum_txt(energies)\n",
    "\n",
    "with h5py.File('spectrum_70_spekpy_filtered_3mmAl.h5', 'w') as h5:\n",
    "    h5.create_dataset('pdf', data =  spec_txt/ np.sum(spec_txt))\n",
    "    h5.create_dataset('energy', data = energies) "
   ]
  },
  {
   "cell_type": "code",
   "execution_count": 10,
   "id": "de19ad35-b74f-409a-9b89-41dfdd23a2fd",
   "metadata": {},
   "outputs": [
    {
     "data": {
      "text/plain": [
       "[<matplotlib.lines.Line2D at 0x7de48eaced10>]"
      ]
     },
     "execution_count": 10,
     "metadata": {},
     "output_type": "execute_result"
    },
    {
     "data": {
      "image/png": "[encoded data removed]",
      "text/plain": [
       "<Figure size 640x480 with 1 Axes>"
      ]
     },
     "metadata": {},
     "output_type": "display_data"
    }
   ],
   "source": [
    "plt.plot(energies, spec_txt)"
   ]
  },
  {
   "cell_type": "code",
   "execution_count": 11,
   "id": "30ebc2a9-dc9f-4931-ab41-67c3974366f0",
   "metadata": {},
   "outputs": [],
   "source": [
    "structure_shift = [0.05, 0.1, 0.15, 0.2, 0.25, 0.3, 0.35, 0.4, 0.45, 0.5]\n",
    "\n",
    "grid_path_g0 = ['/mnt/d/rave-sim-main/rave-sim-main/notebooks/Phase_shift_42_4.npy']\n",
    "source_sizes = np.array([5, 15, 50, 200])*1e-6\n",
    "\n",
    "dx_g0 = 1.0151416062788299e-08\n",
    "dz_g0 = 180e-6 / 20"
   ]
  },
  {
   "cell_type": "code",
   "execution_count": 12,
   "id": "4a4aae95-3458-49f1-978a-7f46ee2bd184",
   "metadata": {},
   "outputs": [
    {
     "data": {
      "text/plain": [
       "4"
      ]
     },
     "execution_count": 12,
     "metadata": {},
     "output_type": "execute_result"
    }
   ],
   "source": [
    "len(grid_path_g0) * len(source_sizes)"
   ]
  },
  {
   "cell_type": "code",
   "execution_count": null,
   "id": "134297c7-a8fa-4720-bccd-02fa4d1c492f",
   "metadata": {
    "scrolled": true
   },
   "outputs": [
    {
     "name": "stderr",
     "output_type": "stream",
     "text": [
      "2025-08-18 10:53:39,122 INFO: Setting up simulation\n",
      "2025-08-18 10:53:41,048 INFO: Finished setting up simulation in /mnt/d/rave-sim-main/rave-sim-main/output/2025/08/20250818_105340602241\n",
      "  0%|                                                                                            | 0/10 [00:00<?, ?it/s]"
     ]
    },
    {
     "name": "stdout",
     "output_type": "stream",
     "text": [
      "[2025-08-18 10:53:41.269] [info] Running simulation /mnt/d/rave-sim-main/rave-sim-main/output/2025/08/20250818_105340602241/00000000\n",
      "[2025-08-18 10:53:41.704] [info] Simulating optical element 1/4\n",
      "[2025-08-18 10:53:42.766] [info] Elapsed time for optical element: 1031.7578 ms\n",
      "[2025-08-18 10:53:42.766] [info] Simulating optical element 2/4\n",
      "[2025-08-18 10:53:42.798] [info] Elapsed time for optical element: 29.359776 ms\n",
      "[2025-08-18 10:53:42.823] [info] Simulating optical element 3/4\n",
      "[2025-08-18 10:53:43.122] [info] Elapsed time for optical element: 275.7223 ms\n",
      "[2025-08-18 10:53:43.148] [info] Simulating optical element 4/4\n",
      "[2025-08-18 10:53:43.939] [info] Elapsed time for optical element: 729.7993 ms\n",
      "[2025-08-18 10:53:43.941] [info] Running phase step 2/5\n",
      "[2025-08-18 10:53:43.943] [info] Simulating optical element 4/4\n",
      "[2025-08-18 10:53:44.720] [info] Elapsed time for optical element: 717.20374 ms\n",
      "[2025-08-18 10:53:44.722] [info] Running phase step 3/5\n",
      "[2025-08-18 10:53:44.725] [info] Simulating optical element 4/4\n",
      "[2025-08-18 10:53:45.499] [info] Elapsed time for optical element: 714.43207 ms\n",
      "[2025-08-18 10:53:45.501] [info] Running phase step 4/5\n",
      "[2025-08-18 10:53:45.503] [info] Simulating optical element 4/4\n",
      "[2025-08-18 10:53:46.272] [info] Elapsed time for optical element: 709.4592 ms\n",
      "[2025-08-18 10:53:46.274] [info] Running phase step 5/5\n",
      "[2025-08-18 10:53:46.274] [info] Simulating optical element 4/4\n"
     ]
    },
    {
     "name": "stderr",
     "output_type": "stream",
     "text": [
      " 10%|████████▍                                                                           | 1/10 [00:06<00:54,  6.07s/it]"
     ]
    },
    {
     "name": "stdout",
     "output_type": "stream",
     "text": [
      "[2025-08-18 10:53:47.030] [info] Elapsed time for optical element: 697.5991 ms\n",
      "[2025-08-18 10:53:47.045] [info] Simulation finished in 5.776011179 seconds\n",
      "[2025-08-18 10:53:47.314] [info] Running simulation /mnt/d/rave-sim-main/rave-sim-main/output/2025/08/20250818_105340602241/00000001\n",
      "[2025-08-18 10:53:47.674] [info] Simulating optical element 1/4\n",
      "[2025-08-18 10:53:48.706] [info] Elapsed time for optical element: 951.955 ms\n",
      "[2025-08-18 10:53:48.706] [info] Simulating optical element 2/4\n",
      "[2025-08-18 10:53:48.730] [info] Elapsed time for optical element: 22.413568 ms\n",
      "[2025-08-18 10:53:48.749] [info] Simulating optical element 3/4\n",
      "[2025-08-18 10:53:49.014] [info] Elapsed time for optical element: 244.24057 ms\n",
      "[2025-08-18 10:53:49.036] [info] Simulating optical element 4/4\n",
      "[2025-08-18 10:53:49.790] [info] Elapsed time for optical element: 695.0858 ms\n",
      "[2025-08-18 10:53:49.792] [info] Running phase step 2/5\n",
      "[2025-08-18 10:53:49.794] [info] Simulating optical element 4/4\n",
      "[2025-08-18 10:53:50.543] [info] Elapsed time for optical element: 691.45935 ms\n",
      "[2025-08-18 10:53:50.545] [info] Running phase step 3/5\n",
      "[2025-08-18 10:53:50.547] [info] Simulating optical element 4/4\n",
      "[2025-08-18 10:53:51.300] [info] Elapsed time for optical element: 694.48096 ms\n",
      "[2025-08-18 10:53:51.302] [info] Running phase step 4/5\n",
      "[2025-08-18 10:53:51.304] [info] Simulating optical element 4/4\n",
      "[2025-08-18 10:53:52.057] [info] Elapsed time for optical element: 694.33936 ms\n",
      "[2025-08-18 10:53:52.059] [info] Running phase step 5/5\n",
      "[2025-08-18 10:53:52.059] [info] Simulating optical element 4/4\n"
     ]
    },
    {
     "name": "stderr",
     "output_type": "stream",
     "text": [
      " 20%|████████████████▊                                                                   | 2/10 [00:11<00:47,  5.90s/it]"
     ]
    },
    {
     "name": "stdout",
     "output_type": "stream",
     "text": [
      "[2025-08-18 10:53:52.809] [info] Elapsed time for optical element: 692.7684 ms\n",
      "[2025-08-18 10:53:52.824] [info] Simulation finished in 5.510204372 seconds\n",
      "[2025-08-18 10:53:53.090] [info] Running simulation /mnt/d/rave-sim-main/rave-sim-main/output/2025/08/20250818_105340602241/00000002\n",
      "[2025-08-18 10:53:53.438] [info] Simulating optical element 1/4\n",
      "[2025-08-18 10:53:54.406] [info] Elapsed time for optical element: 892.96265 ms\n",
      "[2025-08-18 10:53:54.406] [info] Simulating optical element 2/4\n",
      "[2025-08-18 10:53:54.430] [info] Elapsed time for optical element: 22.241823 ms\n",
      "[2025-08-18 10:53:54.449] [info] Simulating optical element 3/4\n",
      "[2025-08-18 10:53:54.709] [info] Elapsed time for optical element: 239.37686 ms\n",
      "[2025-08-18 10:53:54.730] [info] Simulating optical element 4/4\n",
      "[2025-08-18 10:53:55.469] [info] Elapsed time for optical element: 681.56354 ms\n",
      "[2025-08-18 10:53:55.471] [info] Running phase step 2/5\n",
      "[2025-08-18 10:53:55.473] [info] Simulating optical element 4/4\n",
      "[2025-08-18 10:53:56.207] [info] Elapsed time for optical element: 676.9353 ms\n",
      "[2025-08-18 10:53:56.209] [info] Running phase step 3/5\n",
      "[2025-08-18 10:53:56.211] [info] Simulating optical element 4/4\n",
      "[2025-08-18 10:53:56.982] [info] Elapsed time for optical element: 711.8091 ms\n",
      "[2025-08-18 10:53:56.984] [info] Running phase step 4/5\n",
      "[2025-08-18 10:53:56.987] [info] Simulating optical element 4/4\n",
      "[2025-08-18 10:53:56.627] [info] Elapsed time for optical element: 705.869 ms\n",
      "[2025-08-18 10:53:56.630] [info] Running phase step 5/5\n",
      "[2025-08-18 10:53:56.630] [info] Simulating optical element 4/4\n"
     ]
    },
    {
     "name": "stderr",
     "output_type": "stream",
     "text": [
      " 30%|█████████████████████████▏                                                          | 3/10 [00:16<00:37,  5.30s/it]"
     ]
    },
    {
     "name": "stdout",
     "output_type": "stream",
     "text": [
      "[2025-08-18 10:53:57.388] [info] Elapsed time for optical element: 700.11786 ms\n",
      "[2025-08-18 10:53:57.403] [info] Simulation finished in 5.436852005 seconds\n",
      "[2025-08-18 10:53:57.664] [info] Running simulation /mnt/d/rave-sim-main/rave-sim-main/output/2025/08/20250818_105340602241/00000003\n",
      "[2025-08-18 10:53:58.016] [info] Simulating optical element 1/4\n",
      "[2025-08-18 10:53:59.017] [info] Elapsed time for optical element: 924.0597 ms\n",
      "[2025-08-18 10:53:59.017] [info] Simulating optical element 2/4\n",
      "[2025-08-18 10:53:59.042] [info] Elapsed time for optical element: 22.386305 ms\n",
      "[2025-08-18 10:53:59.061] [info] Simulating optical element 3/4\n",
      "[2025-08-18 10:53:59.323] [info] Elapsed time for optical element: 241.67773 ms\n",
      "[2025-08-18 10:53:59.345] [info] Simulating optical element 4/4\n",
      "[2025-08-18 10:54:00.145] [info] Elapsed time for optical element: 738.5755 ms\n",
      "[2025-08-18 10:54:00.147] [info] Running phase step 2/5\n",
      "[2025-08-18 10:54:00.149] [info] Simulating optical element 4/4\n",
      "[2025-08-18 10:54:00.893] [info] Elapsed time for optical element: 686.13617 ms\n",
      "[2025-08-18 10:54:00.895] [info] Running phase step 3/5\n",
      "[2025-08-18 10:54:00.897] [info] Simulating optical element 4/4\n",
      "[2025-08-18 10:54:01.643] [info] Elapsed time for optical element: 688.166 ms\n",
      "[2025-08-18 10:54:01.645] [info] Running phase step 4/5\n",
      "[2025-08-18 10:54:01.647] [info] Simulating optical element 4/4\n",
      "[2025-08-18 10:54:02.396] [info] Elapsed time for optical element: 691.0053 ms\n",
      "[2025-08-18 10:54:02.398] [info] Running phase step 5/5\n",
      "[2025-08-18 10:54:02.398] [info] Simulating optical element 4/4\n"
     ]
    },
    {
     "name": "stderr",
     "output_type": "stream",
     "text": [
      " 40%|█████████████████████████████████▌                                                  | 4/10 [00:22<00:32,  5.48s/it]"
     ]
    },
    {
     "name": "stdout",
     "output_type": "stream",
     "text": [
      "[2025-08-18 10:54:03.142] [info] Elapsed time for optical element: 686.89667 ms\n",
      "[2025-08-18 10:54:03.158] [info] Simulation finished in 5.493328789 seconds\n",
      "[2025-08-18 10:54:03.448] [info] Running simulation /mnt/d/rave-sim-main/rave-sim-main/output/2025/08/20250818_105340602241/00000004\n",
      "[2025-08-18 10:54:03.820] [info] Simulating optical element 1/4\n",
      "[2025-08-18 10:54:04.835] [info] Elapsed time for optical element: 936.8561 ms\n",
      "[2025-08-18 10:54:04.835] [info] Simulating optical element 2/4\n",
      "[2025-08-18 10:54:04.860] [info] Elapsed time for optical element: 22.407648 ms\n",
      "[2025-08-18 10:54:04.879] [info] Simulating optical element 3/4\n",
      "[2025-08-18 10:54:05.140] [info] Elapsed time for optical element: 240.86519 ms\n",
      "[2025-08-18 10:54:05.162] [info] Simulating optical element 4/4\n",
      "[2025-08-18 10:54:05.908] [info] Elapsed time for optical element: 688.1251 ms\n",
      "[2025-08-18 10:54:05.910] [info] Running phase step 2/5\n",
      "[2025-08-18 10:54:05.912] [info] Simulating optical element 4/4\n",
      "[2025-08-18 10:54:06.653] [info] Elapsed time for optical element: 683.4499 ms\n",
      "[2025-08-18 10:54:06.655] [info] Running phase step 3/5\n",
      "[2025-08-18 10:54:06.657] [info] Simulating optical element 4/4\n",
      "[2025-08-18 10:54:07.402] [info] Elapsed time for optical element: 688.0389 ms\n",
      "[2025-08-18 10:54:07.404] [info] Running phase step 4/5\n",
      "[2025-08-18 10:54:07.407] [info] Simulating optical element 4/4\n",
      "[2025-08-18 10:54:08.151] [info] Elapsed time for optical element: 686.6666 ms\n",
      "[2025-08-18 10:54:08.153] [info] Running phase step 5/5\n",
      "[2025-08-18 10:54:08.153] [info] Simulating optical element 4/4\n"
     ]
    },
    {
     "name": "stderr",
     "output_type": "stream",
     "text": [
      " 50%|██████████████████████████████████████████                                          | 5/10 [00:27<00:27,  5.58s/it]"
     ]
    },
    {
     "name": "stdout",
     "output_type": "stream",
     "text": [
      "[2025-08-18 10:54:08.895] [info] Elapsed time for optical element: 684.50323 ms\n",
      "[2025-08-18 10:54:08.908] [info] Simulation finished in 5.459265038 seconds\n",
      "[2025-08-18 10:54:09.172] [info] Running simulation /mnt/d/rave-sim-main/rave-sim-main/output/2025/08/20250818_105340602241/00000005\n",
      "[2025-08-18 10:54:09.508] [info] Simulating optical element 1/4\n",
      "[2025-08-18 10:54:10.477] [info] Elapsed time for optical element: 894.87805 ms\n",
      "[2025-08-18 10:54:10.477] [info] Simulating optical element 2/4\n",
      "[2025-08-18 10:54:10.502] [info] Elapsed time for optical element: 22.2016 ms\n",
      "[2025-08-18 10:54:10.521] [info] Simulating optical element 3/4\n",
      "[2025-08-18 10:54:10.782] [info] Elapsed time for optical element: 240.96298 ms\n",
      "[2025-08-18 10:54:10.804] [info] Simulating optical element 4/4\n",
      "[2025-08-18 10:54:11.549] [info] Elapsed time for optical element: 687.80804 ms\n",
      "[2025-08-18 10:54:11.552] [info] Running phase step 2/5\n",
      "[2025-08-18 10:54:11.554] [info] Simulating optical element 4/4\n",
      "[2025-08-18 10:54:12.292] [info] Elapsed time for optical element: 681.918 ms\n",
      "[2025-08-18 10:54:12.295] [info] Running phase step 3/5\n",
      "[2025-08-18 10:54:12.297] [info] Simulating optical element 4/4\n",
      "[2025-08-18 10:54:13.042] [info] Elapsed time for optical element: 687.35223 ms\n",
      "[2025-08-18 10:54:13.044] [info] Running phase step 4/5\n",
      "[2025-08-18 10:54:13.046] [info] Simulating optical element 4/4\n",
      "[2025-08-18 10:54:13.790] [info] Elapsed time for optical element: 686.5259 ms\n",
      "[2025-08-18 10:54:13.792] [info] Running phase step 5/5\n",
      "[2025-08-18 10:54:13.792] [info] Simulating optical element 4/4\n"
     ]
    },
    {
     "name": "stderr",
     "output_type": "stream",
     "text": [
      " 60%|██████████████████████████████████████████████████▍                                 | 6/10 [00:33<00:22,  5.60s/it]"
     ]
    },
    {
     "name": "stdout",
     "output_type": "stream",
     "text": [
      "[2025-08-18 10:54:14.533] [info] Elapsed time for optical element: 683.5619 ms\n",
      "[2025-08-18 10:54:14.546] [info] Simulation finished in 5.373863113 seconds\n",
      "[2025-08-18 10:54:14.807] [info] Running simulation /mnt/d/rave-sim-main/rave-sim-main/output/2025/08/20250818_105340602241/00000006\n",
      "[2025-08-18 10:54:15.131] [info] Simulating optical element 1/4\n",
      "[2025-08-18 10:54:16.101] [info] Elapsed time for optical element: 895.42236 ms\n",
      "[2025-08-18 10:54:16.101] [info] Simulating optical element 2/4\n",
      "[2025-08-18 10:54:16.125] [info] Elapsed time for optical element: 22.337343 ms\n",
      "[2025-08-18 10:54:16.145] [info] Simulating optical element 3/4\n",
      "[2025-08-18 10:54:16.406] [info] Elapsed time for optical element: 241.30925 ms\n",
      "[2025-08-18 10:54:16.428] [info] Simulating optical element 4/4\n",
      "[2025-08-18 10:54:17.172] [info] Elapsed time for optical element: 690.1274 ms\n",
      "[2025-08-18 10:54:17.174] [info] Running phase step 2/5\n",
      "[2025-08-18 10:54:17.176] [info] Simulating optical element 4/4\n",
      "[2025-08-18 10:54:17.909] [info] Elapsed time for optical element: 684.8871 ms\n",
      "[2025-08-18 10:54:17.911] [info] Running phase step 3/5\n",
      "[2025-08-18 10:54:17.914] [info] Simulating optical element 4/4\n",
      "[2025-08-18 10:54:18.651] [info] Elapsed time for optical element: 689.29834 ms\n",
      "[2025-08-18 10:54:18.653] [info] Running phase step 4/5\n",
      "[2025-08-18 10:54:18.655] [info] Simulating optical element 4/4\n",
      "[2025-08-18 10:54:19.393] [info] Elapsed time for optical element: 689.15784 ms\n",
      "[2025-08-18 10:54:19.395] [info] Running phase step 5/5\n",
      "[2025-08-18 10:54:19.395] [info] Simulating optical element 4/4\n"
     ]
    },
    {
     "name": "stderr",
     "output_type": "stream",
     "text": [
      " 70%|██████████████████████████████████████████████████████████▊                         | 7/10 [00:39<00:16,  5.60s/it]"
     ]
    },
    {
     "name": "stdout",
     "output_type": "stream",
     "text": [
      "[2025-08-18 10:54:20.130] [info] Elapsed time for optical element: 686.3712 ms\n",
      "[2025-08-18 10:54:20.142] [info] Simulation finished in 5.334435251 seconds\n",
      "[2025-08-18 10:54:20.399] [info] Running simulation /mnt/d/rave-sim-main/rave-sim-main/output/2025/08/20250818_105340602241/00000007\n",
      "[2025-08-18 10:54:20.722] [info] Simulating optical element 1/4\n",
      "[2025-08-18 10:54:21.680] [info] Elapsed time for optical element: 895.39124 ms\n",
      "[2025-08-18 10:54:21.680] [info] Simulating optical element 2/4\n",
      "[2025-08-18 10:54:21.704] [info] Elapsed time for optical element: 22.316511 ms\n",
      "[2025-08-18 10:54:21.723] [info] Simulating optical element 3/4\n",
      "[2025-08-18 10:54:21.983] [info] Elapsed time for optical element: 242.36899 ms\n",
      "[2025-08-18 10:54:22.004] [info] Simulating optical element 4/4\n",
      "[2025-08-18 10:54:22.746] [info] Elapsed time for optical element: 692.7462 ms\n",
      "[2025-08-18 10:54:22.748] [info] Running phase step 2/5\n",
      "[2025-08-18 10:54:22.750] [info] Simulating optical element 4/4\n",
      "[2025-08-18 10:54:23.485] [info] Elapsed time for optical element: 686.5122 ms\n",
      "[2025-08-18 10:54:23.487] [info] Running phase step 3/5\n",
      "[2025-08-18 10:54:23.489] [info] Simulating optical element 4/4\n",
      "[2025-08-18 10:54:24.231] [info] Elapsed time for optical element: 692.97003 ms\n",
      "[2025-08-18 10:54:24.233] [info] Running phase step 4/5\n",
      "[2025-08-18 10:54:24.235] [info] Simulating optical element 4/4\n",
      "[2025-08-18 10:54:24.975] [info] Elapsed time for optical element: 691.65466 ms\n",
      "[2025-08-18 10:54:24.977] [info] Running phase step 5/5\n",
      "[2025-08-18 10:54:24.977] [info] Simulating optical element 4/4\n"
     ]
    },
    {
     "name": "stderr",
     "output_type": "stream",
     "text": [
      " 80%|███████████████████████████████████████████████████████████████████▏                | 8/10 [00:44<00:11,  5.59s/it]"
     ]
    },
    {
     "name": "stdout",
     "output_type": "stream",
     "text": [
      "[2025-08-18 10:54:25.702] [info] Elapsed time for optical element: 688.28357 ms\n",
      "[2025-08-18 10:54:25.717] [info] Simulation finished in 5.318157657 seconds\n",
      "[2025-08-18 10:54:25.962] [info] Running simulation /mnt/d/rave-sim-main/rave-sim-main/output/2025/08/20250818_105340602241/00000008\n",
      "[2025-08-18 10:54:26.283] [info] Simulating optical element 1/4\n",
      "[2025-08-18 10:54:27.207] [info] Elapsed time for optical element: 895.6347 ms\n",
      "[2025-08-18 10:54:27.207] [info] Simulating optical element 2/4\n",
      "[2025-08-18 10:54:27.230] [info] Elapsed time for optical element: 22.370049 ms\n",
      "[2025-08-18 10:54:27.249] [info] Simulating optical element 3/4\n",
      "[2025-08-18 10:54:27.499] [info] Elapsed time for optical element: 242.32614 ms\n",
      "[2025-08-18 10:54:27.520] [info] Simulating optical element 4/4\n",
      "[2025-08-18 10:54:28.236] [info] Elapsed time for optical element: 694.67175 ms\n",
      "[2025-08-18 10:54:28.239] [info] Running phase step 2/5\n",
      "[2025-08-18 10:54:28.241] [info] Simulating optical element 4/4\n",
      "[2025-08-18 10:54:26.677] [info] Elapsed time for optical element: 687.78015 ms\n",
      "[2025-08-18 10:54:26.679] [info] Running phase step 3/5\n",
      "[2025-08-18 10:54:26.681] [info] Simulating optical element 4/4\n",
      "[2025-08-18 10:54:27.396] [info] Elapsed time for optical element: 693.2937 ms\n",
      "[2025-08-18 10:54:27.398] [info] Running phase step 4/5\n",
      "[2025-08-18 10:54:27.400] [info] Simulating optical element 4/4\n",
      "[2025-08-18 10:54:28.115] [info] Elapsed time for optical element: 693.0721 ms\n",
      "[2025-08-18 10:54:28.117] [info] Running phase step 5/5\n",
      "[2025-08-18 10:54:28.117] [info] Simulating optical element 4/4\n"
     ]
    },
    {
     "name": "stderr",
     "output_type": "stream",
     "text": [
      " 90%|███████████████████████████████████████████████████████████████████████████▌        | 9/10 [00:47<00:04,  4.82s/it]"
     ]
    },
    {
     "name": "stdout",
     "output_type": "stream",
     "text": [
      "[2025-08-18 10:54:28.828] [info] Elapsed time for optical element: 689.23193 ms\n",
      "[2025-08-18 10:54:28.840] [info] Simulation finished in 5.151029901 seconds\n",
      "[2025-08-18 10:54:29.091] [info] Running simulation /mnt/d/rave-sim-main/rave-sim-main/output/2025/08/20250818_105340602241/00000009\n",
      "[2025-08-18 10:54:29.415] [info] Simulating optical element 1/4\n",
      "[2025-08-18 10:54:30.340] [info] Elapsed time for optical element: 897.2842 ms\n",
      "[2025-08-18 10:54:30.340] [info] Simulating optical element 2/4\n",
      "[2025-08-18 10:54:30.363] [info] Elapsed time for optical element: 22.489376 ms\n",
      "[2025-08-18 10:54:30.382] [info] Simulating optical element 3/4\n",
      "[2025-08-18 10:54:30.632] [info] Elapsed time for optical element: 242.71837 ms\n",
      "[2025-08-18 10:54:30.653] [info] Simulating optical element 4/4\n",
      "[2025-08-18 10:54:31.371] [info] Elapsed time for optical element: 695.90155 ms\n",
      "[2025-08-18 10:54:31.373] [info] Running phase step 2/5\n",
      "[2025-08-18 10:54:31.375] [info] Simulating optical element 4/4\n",
      "[2025-08-18 10:54:32.087] [info] Elapsed time for optical element: 689.9256 ms\n",
      "[2025-08-18 10:54:32.089] [info] Running phase step 3/5\n",
      "[2025-08-18 10:54:32.091] [info] Simulating optical element 4/4\n",
      "[2025-08-18 10:54:32.809] [info] Elapsed time for optical element: 695.62274 ms\n",
      "[2025-08-18 10:54:32.811] [info] Running phase step 4/5\n",
      "[2025-08-18 10:54:32.813] [info] Simulating optical element 4/4\n",
      "[2025-08-18 10:54:33.529] [info] Elapsed time for optical element: 694.49915 ms\n",
      "[2025-08-18 10:54:33.531] [info] Running phase step 5/5\n",
      "[2025-08-18 10:54:33.531] [info] Simulating optical element 4/4\n"
     ]
    },
    {
     "name": "stderr",
     "output_type": "stream",
     "text": [
      "100%|███████████████████████████████████████████████████████████████████████████████████| 10/10 [00:53<00:00,  5.33s/it]\n",
      "2025-08-18 10:54:34,335 INFO: Setting up simulation\n"
     ]
    },
    {
     "name": "stdout",
     "output_type": "stream",
     "text": [
      "[2025-08-18 10:54:34.242] [info] Elapsed time for optical element: 691.5073 ms\n",
      "[2025-08-18 10:54:34.256] [info] Simulation finished in 5.164545967 seconds\n"
     ]
    },
    {
     "name": "stderr",
     "output_type": "stream",
     "text": [
      "2025-08-18 10:54:36,184 INFO: Finished setting up simulation in /mnt/d/rave-sim-main/rave-sim-main/output/2025/08/20250818_105435728785\n",
      "  0%|                                                                                            | 0/10 [00:00<?, ?it/s]"
     ]
    },
    {
     "name": "stdout",
     "output_type": "stream",
     "text": [
      "[2025-08-18 10:54:36.372] [info] Running simulation /mnt/d/rave-sim-main/rave-sim-main/output/2025/08/20250818_105435728785/00000000\n",
      "[2025-08-18 10:54:36.739] [info] Simulating optical element 1/4\n",
      "[2025-08-18 10:54:37.707] [info] Elapsed time for optical element: 942.3261 ms\n",
      "[2025-08-18 10:54:37.707] [info] Simulating optical element 2/4\n",
      "[2025-08-18 10:54:37.730] [info] Elapsed time for optical element: 22.329184 ms\n",
      "[2025-08-18 10:54:37.749] [info] Simulating optical element 3/4\n",
      "[2025-08-18 10:54:37.998] [info] Elapsed time for optical element: 242.48355 ms\n",
      "[2025-08-18 10:54:38.019] [info] Simulating optical element 4/4\n",
      "[2025-08-18 10:54:38.733] [info] Elapsed time for optical element: 694.5805 ms\n",
      "[2025-08-18 10:54:38.735] [info] Running phase step 2/5\n",
      "[2025-08-18 10:54:38.737] [info] Simulating optical element 4/4\n",
      "[2025-08-18 10:54:39.444] [info] Elapsed time for optical element: 688.14087 ms\n",
      "[2025-08-18 10:54:39.446] [info] Running phase step 3/5\n",
      "[2025-08-18 10:54:39.448] [info] Simulating optical element 4/4\n",
      "[2025-08-18 10:54:40.161] [info] Elapsed time for optical element: 693.35254 ms\n",
      "[2025-08-18 10:54:40.163] [info] Running phase step 4/5\n",
      "[2025-08-18 10:54:40.165] [info] Simulating optical element 4/4\n",
      "[2025-08-18 10:54:40.878] [info] Elapsed time for optical element: 693.1499 ms\n",
      "[2025-08-18 10:54:40.880] [info] Running phase step 5/5\n",
      "[2025-08-18 10:54:40.880] [info] Simulating optical element 4/4\n"
     ]
    },
    {
     "name": "stderr",
     "output_type": "stream",
     "text": [
      " 10%|████████▍                                                                           | 1/10 [00:05<00:49,  5.50s/it]"
     ]
    },
    {
     "name": "stdout",
     "output_type": "stream",
     "text": [
      "[2025-08-18 10:54:41.588] [info] Elapsed time for optical element: 689.5967 ms\n",
      "[2025-08-18 10:54:41.600] [info] Simulation finished in 5.228147039 seconds\n",
      "[2025-08-18 10:54:41.862] [info] Running simulation /mnt/d/rave-sim-main/rave-sim-main/output/2025/08/20250818_105435728785/00000001\n",
      "[2025-08-18 10:54:42.212] [info] Simulating optical element 1/4\n",
      "[2025-08-18 10:54:43.183] [info] Elapsed time for optical element: 895.7222 ms\n",
      "[2025-08-18 10:54:43.183] [info] Simulating optical element 2/4\n",
      "[2025-08-18 10:54:43.207] [info] Elapsed time for optical element: 22.263647 ms\n",
      "[2025-08-18 10:54:43.226] [info] Simulating optical element 3/4\n",
      "[2025-08-18 10:54:43.491] [info] Elapsed time for optical element: 243.99133 ms\n",
      "[2025-08-18 10:54:43.513] [info] Simulating optical element 4/4\n",
      "[2025-08-18 10:54:44.270] [info] Elapsed time for optical element: 698.53516 ms\n",
      "[2025-08-18 10:54:44.272] [info] Running phase step 2/5\n",
      "[2025-08-18 10:54:44.274] [info] Simulating optical element 4/4\n",
      "[2025-08-18 10:54:45.026] [info] Elapsed time for optical element: 693.21063 ms\n",
      "[2025-08-18 10:54:45.028] [info] Running phase step 3/5\n",
      "[2025-08-18 10:54:45.030] [info] Simulating optical element 4/4\n",
      "[2025-08-18 10:54:45.786] [info] Elapsed time for optical element: 698.1922 ms\n",
      "[2025-08-18 10:54:45.788] [info] Running phase step 4/5\n",
      "[2025-08-18 10:54:45.791] [info] Simulating optical element 4/4\n",
      "[2025-08-18 10:54:46.547] [info] Elapsed time for optical element: 697.5195 ms\n",
      "[2025-08-18 10:54:46.549] [info] Running phase step 5/5\n",
      "[2025-08-18 10:54:46.549] [info] Simulating optical element 4/4\n"
     ]
    },
    {
     "name": "stderr",
     "output_type": "stream",
     "text": [
      " 20%|████████████████▊                                                                   | 2/10 [00:11<00:44,  5.62s/it]"
     ]
    },
    {
     "name": "stdout",
     "output_type": "stream",
     "text": [
      "[2025-08-18 10:54:47.302] [info] Elapsed time for optical element: 695.11816 ms\n",
      "[2025-08-18 10:54:47.315] [info] Simulation finished in 5.452683546 seconds\n",
      "[2025-08-18 10:54:47.580] [info] Running simulation /mnt/d/rave-sim-main/rave-sim-main/output/2025/08/20250818_105435728785/00000002\n",
      "[2025-08-18 10:54:47.924] [info] Simulating optical element 1/4\n",
      "[2025-08-18 10:54:48.936] [info] Elapsed time for optical element: 934.39996 ms\n",
      "[2025-08-18 10:54:48.936] [info] Simulating optical element 2/4\n",
      "[2025-08-18 10:54:48.961] [info] Elapsed time for optical element: 22.249472 ms\n",
      "[2025-08-18 10:54:48.980] [info] Simulating optical element 3/4\n",
      "[2025-08-18 10:54:49.239] [info] Elapsed time for optical element: 239.60349 ms\n",
      "[2025-08-18 10:54:49.261] [info] Simulating optical element 4/4\n",
      "[2025-08-18 10:54:50.004] [info] Elapsed time for optical element: 685.3846 ms\n",
      "[2025-08-18 10:54:50.006] [info] Running phase step 2/5\n",
      "[2025-08-18 10:54:50.009] [info] Simulating optical element 4/4\n",
      "[2025-08-18 10:54:50.744] [info] Elapsed time for optical element: 678.28345 ms\n",
      "[2025-08-18 10:54:50.746] [info] Running phase step 3/5\n",
      "[2025-08-18 10:54:50.748] [info] Simulating optical element 4/4\n",
      "[2025-08-18 10:54:51.491] [info] Elapsed time for optical element: 685.3892 ms\n",
      "[2025-08-18 10:54:51.493] [info] Running phase step 4/5\n",
      "[2025-08-18 10:54:51.495] [info] Simulating optical element 4/4\n",
      "[2025-08-18 10:54:52.236] [info] Elapsed time for optical element: 683.71545 ms\n",
      "[2025-08-18 10:54:52.238] [info] Running phase step 5/5\n",
      "[2025-08-18 10:54:52.238] [info] Simulating optical element 4/4\n"
     ]
    },
    {
     "name": "stderr",
     "output_type": "stream",
     "text": [
      " 30%|█████████████████████████▏                                                          | 3/10 [00:16<00:39,  5.65s/it]"
     ]
    },
    {
     "name": "stdout",
     "output_type": "stream",
     "text": [
      "[2025-08-18 10:54:52.975] [info] Elapsed time for optical element: 680.04395 ms\n",
      "[2025-08-18 10:54:52.987] [info] Simulation finished in 5.407162065 seconds\n",
      "[2025-08-18 10:54:53.244] [info] Running simulation /mnt/d/rave-sim-main/rave-sim-main/output/2025/08/20250818_105435728785/00000003\n",
      "[2025-08-18 10:54:53.582] [info] Simulating optical element 1/4\n",
      "[2025-08-18 10:54:54.553] [info] Elapsed time for optical element: 896.3303 ms\n",
      "[2025-08-18 10:54:54.553] [info] Simulating optical element 2/4\n",
      "[2025-08-18 10:54:54.577] [info] Elapsed time for optical element: 22.332865 ms\n",
      "[2025-08-18 10:54:54.597] [info] Simulating optical element 3/4\n",
      "[2025-08-18 10:54:54.859] [info] Elapsed time for optical element: 242.12602 ms\n",
      "[2025-08-18 10:54:54.881] [info] Simulating optical element 4/4\n",
      "[2025-08-18 10:54:55.633] [info] Elapsed time for optical element: 693.5522 ms\n",
      "[2025-08-18 10:54:55.635] [info] Running phase step 2/5\n",
      "[2025-08-18 10:54:55.637] [info] Simulating optical element 4/4\n",
      "[2025-08-18 10:54:56.382] [info] Elapsed time for optical element: 687.31396 ms\n",
      "[2025-08-18 10:54:56.384] [info] Running phase step 3/5\n",
      "[2025-08-18 10:54:56.386] [info] Simulating optical element 4/4\n",
      "[2025-08-18 10:54:57.137] [info] Elapsed time for optical element: 692.7105 ms\n",
      "[2025-08-18 10:54:57.139] [info] Running phase step 4/5\n",
      "[2025-08-18 10:54:57.141] [info] Simulating optical element 4/4\n",
      "[2025-08-18 10:54:57.891] [info] Elapsed time for optical element: 692.0106 ms\n",
      "[2025-08-18 10:54:57.893] [info] Running phase step 5/5\n",
      "[2025-08-18 10:54:57.893] [info] Simulating optical element 4/4\n"
     ]
    },
    {
     "name": "stderr",
     "output_type": "stream",
     "text": [
      " 40%|█████████████████████████████████▌                                                  | 4/10 [00:22<00:33,  5.65s/it]"
     ]
    },
    {
     "name": "stdout",
     "output_type": "stream",
     "text": [
      "[2025-08-18 10:54:58.639] [info] Elapsed time for optical element: 688.83685 ms\n",
      "[2025-08-18 10:54:58.654] [info] Simulation finished in 5.409834162 seconds\n",
      "[2025-08-18 10:54:57.179] [info] Running simulation /mnt/d/rave-sim-main/rave-sim-main/output/2025/08/20250818_105435728785/00000004\n",
      "[2025-08-18 10:54:57.533] [info] Simulating optical element 1/4\n",
      "[2025-08-18 10:54:58.505] [info] Elapsed time for optical element: 897.235 ms\n",
      "[2025-08-18 10:54:58.505] [info] Simulating optical element 2/4\n",
      "[2025-08-18 10:54:58.529] [info] Elapsed time for optical element: 22.348864 ms\n",
      "[2025-08-18 10:54:58.549] [info] Simulating optical element 3/4\n",
      "[2025-08-18 10:54:58.810] [info] Elapsed time for optical element: 241.23843 ms\n",
      "[2025-08-18 10:54:58.832] [info] Simulating optical element 4/4\n",
      "[2025-08-18 10:54:59.582] [info] Elapsed time for optical element: 692.2851 ms\n",
      "[2025-08-18 10:54:59.584] [info] Running phase step 2/5\n",
      "[2025-08-18 10:54:59.586] [info] Simulating optical element 4/4\n",
      "[2025-08-18 10:55:00.328] [info] Elapsed time for optical element: 684.5879 ms\n",
      "[2025-08-18 10:55:00.330] [info] Running phase step 3/5\n",
      "[2025-08-18 10:55:00.332] [info] Simulating optical element 4/4\n",
      "[2025-08-18 10:55:01.082] [info] Elapsed time for optical element: 691.2837 ms\n",
      "[2025-08-18 10:55:01.084] [info] Running phase step 4/5\n",
      "[2025-08-18 10:55:01.086] [info] Simulating optical element 4/4\n",
      "[2025-08-18 10:55:01.833] [info] Elapsed time for optical element: 689.4039 ms\n",
      "[2025-08-18 10:55:01.835] [info] Running phase step 5/5\n",
      "[2025-08-18 10:55:01.835] [info] Simulating optical element 4/4\n"
     ]
    },
    {
     "name": "stderr",
     "output_type": "stream",
     "text": [
      " 50%|██████████████████████████████████████████                                          | 5/10 [00:26<00:25,  5.04s/it]"
     ]
    },
    {
     "name": "stdout",
     "output_type": "stream",
     "text": [
      "[2025-08-18 10:55:02.580] [info] Elapsed time for optical element: 687.72565 ms\n",
      "[2025-08-18 10:55:02.594] [info] Simulation finished in 5.415647041 seconds\n",
      "[2025-08-18 10:55:02.857] [info] Running simulation /mnt/d/rave-sim-main/rave-sim-main/output/2025/08/20250818_105435728785/00000005\n",
      "[2025-08-18 10:55:03.207] [info] Simulating optical element 1/4\n",
      "[2025-08-18 10:55:04.176] [info] Elapsed time for optical element: 894.704 ms\n",
      "[2025-08-18 10:55:04.176] [info] Simulating optical element 2/4\n",
      "[2025-08-18 10:55:04.200] [info] Elapsed time for optical element: 22.2984 ms\n",
      "[2025-08-18 10:55:04.220] [info] Simulating optical element 3/4\n",
      "[2025-08-18 10:55:04.481] [info] Elapsed time for optical element: 240.77866 ms\n",
      "[2025-08-18 10:55:04.503] [info] Simulating optical element 4/4\n",
      "[2025-08-18 10:55:05.251] [info] Elapsed time for optical element: 691.16534 ms\n",
      "[2025-08-18 10:55:05.254] [info] Running phase step 2/5\n",
      "[2025-08-18 10:55:05.256] [info] Simulating optical element 4/4\n",
      "[2025-08-18 10:55:05.996] [info] Elapsed time for optical element: 683.5745 ms\n",
      "[2025-08-18 10:55:05.999] [info] Running phase step 3/5\n",
      "[2025-08-18 10:55:06.001] [info] Simulating optical element 4/4\n",
      "[2025-08-18 10:55:06.748] [info] Elapsed time for optical element: 689.79236 ms\n",
      "[2025-08-18 10:55:06.750] [info] Running phase step 4/5\n",
      "[2025-08-18 10:55:06.753] [info] Simulating optical element 4/4\n",
      "[2025-08-18 10:55:07.500] [info] Elapsed time for optical element: 689.5368 ms\n",
      "[2025-08-18 10:55:07.502] [info] Running phase step 5/5\n",
      "[2025-08-18 10:55:07.502] [info] Simulating optical element 4/4\n"
     ]
    },
    {
     "name": "stderr",
     "output_type": "stream",
     "text": [
      " 60%|██████████████████████████████████████████████████▍                                 | 6/10 [00:32<00:21,  5.25s/it]"
     ]
    },
    {
     "name": "stdout",
     "output_type": "stream",
     "text": [
      "[2025-08-18 10:55:08.244] [info] Elapsed time for optical element: 685.25214 ms\n",
      "[2025-08-18 10:55:08.257] [info] Simulation finished in 5.400130753 seconds\n",
      "[2025-08-18 10:55:08.525] [info] Running simulation /mnt/d/rave-sim-main/rave-sim-main/output/2025/08/20250818_105435728785/00000006\n",
      "[2025-08-18 10:55:08.864] [info] Simulating optical element 1/4\n",
      "[2025-08-18 10:55:09.833] [info] Elapsed time for optical element: 894.6551 ms\n",
      "[2025-08-18 10:55:09.833] [info] Simulating optical element 2/4\n",
      "[2025-08-18 10:55:09.857] [info] Elapsed time for optical element: 22.344992 ms\n",
      "[2025-08-18 10:55:09.876] [info] Simulating optical element 3/4\n",
      "[2025-08-18 10:55:10.138] [info] Elapsed time for optical element: 241.45299 ms\n",
      "[2025-08-18 10:55:10.160] [info] Simulating optical element 4/4\n",
      "[2025-08-18 10:55:10.911] [info] Elapsed time for optical element: 692.55566 ms\n",
      "[2025-08-18 10:55:10.913] [info] Running phase step 2/5\n",
      "[2025-08-18 10:55:10.915] [info] Simulating optical element 4/4\n",
      "[2025-08-18 10:55:11.658] [info] Elapsed time for optical element: 685.736 ms\n",
      "[2025-08-18 10:55:11.660] [info] Running phase step 3/5\n",
      "[2025-08-18 10:55:11.662] [info] Simulating optical element 4/4\n",
      "[2025-08-18 10:55:12.412] [info] Elapsed time for optical element: 691.4951 ms\n",
      "[2025-08-18 10:55:12.414] [info] Running phase step 4/5\n",
      "[2025-08-18 10:55:12.416] [info] Simulating optical element 4/4\n",
      "[2025-08-18 10:55:13.164] [info] Elapsed time for optical element: 690.4989 ms\n",
      "[2025-08-18 10:55:13.166] [info] Running phase step 5/5\n",
      "[2025-08-18 10:55:13.166] [info] Simulating optical element 4/4\n"
     ]
    },
    {
     "name": "stderr",
     "output_type": "stream",
     "text": [
      " 70%|██████████████████████████████████████████████████████████▊                         | 7/10 [00:37<00:16,  5.39s/it]"
     ]
    },
    {
     "name": "stdout",
     "output_type": "stream",
     "text": [
      "[2025-08-18 10:55:13.911] [info] Elapsed time for optical element: 687.7673 ms\n",
      "[2025-08-18 10:55:13.925] [info] Simulation finished in 5.40083155 seconds\n",
      "[2025-08-18 10:55:14.189] [info] Running simulation /mnt/d/rave-sim-main/rave-sim-main/output/2025/08/20250818_105435728785/00000007\n",
      "[2025-08-18 10:55:14.547] [info] Simulating optical element 1/4\n",
      "[2025-08-18 10:55:15.540] [info] Elapsed time for optical element: 916.3327 ms\n",
      "[2025-08-18 10:55:15.540] [info] Simulating optical element 2/4\n",
      "[2025-08-18 10:55:15.568] [info] Elapsed time for optical element: 26.102432 ms\n",
      "[2025-08-18 10:55:15.591] [info] Simulating optical element 3/4\n",
      "[2025-08-18 10:55:15.871] [info] Elapsed time for optical element: 258.66638 ms\n",
      "[2025-08-18 10:55:15.897] [info] Simulating optical element 4/4\n",
      "[2025-08-18 10:55:16.706] [info] Elapsed time for optical element: 747.2795 ms\n",
      "[2025-08-18 10:55:16.709] [info] Running phase step 2/5\n",
      "[2025-08-18 10:55:16.712] [info] Simulating optical element 4/4\n",
      "[2025-08-18 10:55:17.492] [info] Elapsed time for optical element: 720.41425 ms\n",
      "[2025-08-18 10:55:17.495] [info] Running phase step 3/5\n",
      "[2025-08-18 10:55:17.497] [info] Simulating optical element 4/4\n",
      "[2025-08-18 10:55:18.249] [info] Elapsed time for optical element: 694.19025 ms\n",
      "[2025-08-18 10:55:18.251] [info] Running phase step 4/5\n",
      "[2025-08-18 10:55:18.253] [info] Simulating optical element 4/4\n",
      "[2025-08-18 10:55:19.003] [info] Elapsed time for optical element: 691.7165 ms\n",
      "[2025-08-18 10:55:19.005] [info] Running phase step 5/5\n",
      "[2025-08-18 10:55:19.005] [info] Simulating optical element 4/4\n"
     ]
    },
    {
     "name": "stderr",
     "output_type": "stream",
     "text": [
      " 80%|███████████████████████████████████████████████████████████████████▏                | 8/10 [00:43<00:11,  5.53s/it]"
     ]
    },
    {
     "name": "stdout",
     "output_type": "stream",
     "text": [
      "[2025-08-18 10:55:19.752] [info] Elapsed time for optical element: 689.9648 ms\n",
      "[2025-08-18 10:55:19.768] [info] Simulation finished in 5.57841856 seconds\n",
      "[2025-08-18 10:55:20.034] [info] Running simulation /mnt/d/rave-sim-main/rave-sim-main/output/2025/08/20250818_105435728785/00000008\n",
      "[2025-08-18 10:55:20.390] [info] Simulating optical element 1/4\n",
      "[2025-08-18 10:55:21.363] [info] Elapsed time for optical element: 897.6674 ms\n",
      "[2025-08-18 10:55:21.363] [info] Simulating optical element 2/4\n",
      "[2025-08-18 10:55:21.387] [info] Elapsed time for optical element: 22.309696 ms\n",
      "[2025-08-18 10:55:21.407] [info] Simulating optical element 3/4\n",
      "[2025-08-18 10:55:21.669] [info] Elapsed time for optical element: 242.42604 ms\n",
      "[2025-08-18 10:55:21.691] [info] Simulating optical element 4/4\n",
      "[2025-08-18 10:55:22.446] [info] Elapsed time for optical element: 696.03705 ms\n",
      "[2025-08-18 10:55:22.448] [info] Running phase step 2/5\n",
      "[2025-08-18 10:55:22.450] [info] Simulating optical element 4/4\n",
      "[2025-08-18 10:55:23.196] [info] Elapsed time for optical element: 688.22046 ms\n",
      "[2025-08-18 10:55:23.198] [info] Running phase step 3/5\n",
      "[2025-08-18 10:55:23.200] [info] Simulating optical element 4/4\n",
      "[2025-08-18 10:55:23.953] [info] Elapsed time for optical element: 694.72974 ms\n",
      "[2025-08-18 10:55:23.955] [info] Running phase step 4/5\n",
      "[2025-08-18 10:55:23.957] [info] Simulating optical element 4/4\n",
      "[2025-08-18 10:55:24.710] [info] Elapsed time for optical element: 694.9718 ms\n",
      "[2025-08-18 10:55:24.712] [info] Running phase step 5/5\n",
      "[2025-08-18 10:55:24.713] [info] Simulating optical element 4/4\n"
     ]
    },
    {
     "name": "stderr",
     "output_type": "stream",
     "text": [
      " 90%|███████████████████████████████████████████████████████████████████████████▌        | 9/10 [00:49<00:05,  5.59s/it]"
     ]
    },
    {
     "name": "stdout",
     "output_type": "stream",
     "text": [
      "[2025-08-18 10:55:25.461] [info] Elapsed time for optical element: 690.5988 ms\n",
      "[2025-08-18 10:55:25.477] [info] Simulation finished in 5.442961474 seconds\n",
      "[2025-08-18 10:55:25.739] [info] Running simulation /mnt/d/rave-sim-main/rave-sim-main/output/2025/08/20250818_105435728785/00000009\n",
      "[2025-08-18 10:55:26.080] [info] Simulating optical element 1/4\n",
      "[2025-08-18 10:55:27.053] [info] Elapsed time for optical element: 897.9453 ms\n",
      "[2025-08-18 10:55:27.053] [info] Simulating optical element 2/4\n",
      "[2025-08-18 10:55:27.077] [info] Elapsed time for optical element: 22.393568 ms\n",
      "[2025-08-18 10:55:27.097] [info] Simulating optical element 3/4\n",
      "[2025-08-18 10:55:27.360] [info] Elapsed time for optical element: 242.97389 ms\n",
      "[2025-08-18 10:55:27.382] [info] Simulating optical element 4/4\n",
      "[2025-08-18 10:55:28.139] [info] Elapsed time for optical element: 698.19055 ms\n",
      "[2025-08-18 10:55:28.141] [info] Running phase step 2/5\n",
      "[2025-08-18 10:55:28.143] [info] Simulating optical element 4/4\n",
      "[2025-08-18 10:55:28.891] [info] Elapsed time for optical element: 690.6257 ms\n",
      "[2025-08-18 10:55:28.893] [info] Running phase step 3/5\n",
      "[2025-08-18 10:55:28.896] [info] Simulating optical element 4/4\n",
      "[2025-08-18 10:55:27.154] [info] Elapsed time for optical element: 696.7944 ms\n",
      "[2025-08-18 10:55:27.157] [info] Running phase step 4/5\n",
      "[2025-08-18 10:55:27.159] [info] Simulating optical element 4/4\n",
      "[2025-08-18 10:55:27.913] [info] Elapsed time for optical element: 696.216 ms\n",
      "[2025-08-18 10:55:27.915] [info] Running phase step 5/5\n",
      "[2025-08-18 10:55:27.915] [info] Simulating optical element 4/4\n"
     ]
    },
    {
     "name": "stderr",
     "output_type": "stream",
     "text": [
      "100%|███████████████████████████████████████████████████████████████████████████████████| 10/10 [00:52<00:00,  5.26s/it]\n",
      "2025-08-18 10:55:28,764 INFO: Setting up simulation\n"
     ]
    },
    {
     "name": "stdout",
     "output_type": "stream",
     "text": [
      "[2025-08-18 10:55:28.667] [info] Elapsed time for optical element: 693.2837 ms\n",
      "[2025-08-18 10:55:28.681] [info] Simulation finished in 5.43835947 seconds\n"
     ]
    },
    {
     "name": "stderr",
     "output_type": "stream",
     "text": [
      "2025-08-18 10:55:30,746 INFO: Finished setting up simulation in /mnt/d/rave-sim-main/rave-sim-main/output/2025/08/20250818_105530262061\n",
      "  0%|                                                                                            | 0/10 [00:00<?, ?it/s]"
     ]
    },
    {
     "name": "stdout",
     "output_type": "stream",
     "text": [
      "[2025-08-18 10:55:30.940] [info] Running simulation /mnt/d/rave-sim-main/rave-sim-main/output/2025/08/20250818_105530262061/00000000\n",
      "[2025-08-18 10:55:31.331] [info] Simulating optical element 1/4\n",
      "[2025-08-18 10:55:32.290] [info] Elapsed time for optical element: 902.4287 ms\n",
      "[2025-08-18 10:55:32.291] [info] Simulating optical element 2/4\n",
      "[2025-08-18 10:55:32.313] [info] Elapsed time for optical element: 22.395647 ms\n",
      "[2025-08-18 10:55:32.331] [info] Simulating optical element 3/4\n",
      "[2025-08-18 10:55:32.573] [info] Elapsed time for optical element: 242.71117 ms\n",
      "[2025-08-18 10:55:32.594] [info] Simulating optical element 4/4\n",
      "[2025-08-18 10:55:33.306] [info] Elapsed time for optical element: 696.6789 ms\n",
      "[2025-08-18 10:55:33.308] [info] Running phase step 2/5\n",
      "[2025-08-18 10:55:33.310] [info] Simulating optical element 4/4\n",
      "[2025-08-18 10:55:34.049] [info] Elapsed time for optical element: 688.8983 ms\n",
      "[2025-08-18 10:55:34.051] [info] Running phase step 3/5\n",
      "[2025-08-18 10:55:34.053] [info] Simulating optical element 4/4\n",
      "[2025-08-18 10:55:34.798] [info] Elapsed time for optical element: 694.9774 ms\n",
      "[2025-08-18 10:55:34.800] [info] Running phase step 4/5\n",
      "[2025-08-18 10:55:34.802] [info] Simulating optical element 4/4\n",
      "[2025-08-18 10:55:35.547] [info] Elapsed time for optical element: 695.24335 ms\n",
      "[2025-08-18 10:55:35.549] [info] Running phase step 5/5\n",
      "[2025-08-18 10:55:35.549] [info] Simulating optical element 4/4\n"
     ]
    },
    {
     "name": "stderr",
     "output_type": "stream",
     "text": [
      " 10%|████████▍                                                                           | 1/10 [00:05<00:50,  5.63s/it]"
     ]
    },
    {
     "name": "stdout",
     "output_type": "stream",
     "text": [
      "[2025-08-18 10:55:36.290] [info] Elapsed time for optical element: 690.90576 ms\n",
      "[2025-08-18 10:55:36.303] [info] Simulation finished in 5.362916018 seconds\n",
      "[2025-08-18 10:55:36.566] [info] Running simulation /mnt/d/rave-sim-main/rave-sim-main/output/2025/08/20250818_105530262061/00000001\n",
      "[2025-08-18 10:55:36.930] [info] Simulating optical element 1/4\n",
      "[2025-08-18 10:55:37.894] [info] Elapsed time for optical element: 899.62103 ms\n",
      "[2025-08-18 10:55:37.894] [info] Simulating optical element 2/4\n",
      "[2025-08-18 10:55:37.918] [info] Elapsed time for optical element: 22.394497 ms\n",
      "[2025-08-18 10:55:37.937] [info] Simulating optical element 3/4\n",
      "[2025-08-18 10:55:38.199] [info] Elapsed time for optical element: 244.36583 ms\n",
      "[2025-08-18 10:55:38.221] [info] Simulating optical element 4/4\n",
      "[2025-08-18 10:55:38.972] [info] Elapsed time for optical element: 701.0389 ms\n",
      "[2025-08-18 10:55:38.974] [info] Running phase step 2/5\n",
      "[2025-08-18 10:55:38.976] [info] Simulating optical element 4/4\n",
      "[2025-08-18 10:55:39.720] [info] Elapsed time for optical element: 693.9253 ms\n",
      "[2025-08-18 10:55:39.722] [info] Running phase step 3/5\n",
      "[2025-08-18 10:55:39.724] [info] Simulating optical element 4/4\n",
      "[2025-08-18 10:55:40.474] [info] Elapsed time for optical element: 699.7035 ms\n",
      "[2025-08-18 10:55:40.476] [info] Running phase step 4/5\n",
      "[2025-08-18 10:55:40.478] [info] Simulating optical element 4/4\n",
      "[2025-08-18 10:55:41.228] [info] Elapsed time for optical element: 699.4791 ms\n",
      "[2025-08-18 10:55:41.230] [info] Running phase step 5/5\n",
      "[2025-08-18 10:55:41.230] [info] Simulating optical element 4/4\n"
     ]
    },
    {
     "name": "stderr",
     "output_type": "stream",
     "text": [
      " 20%|████████████████▊                                                                   | 2/10 [00:11<00:45,  5.68s/it]"
     ]
    },
    {
     "name": "stdout",
     "output_type": "stream",
     "text": [
      "[2025-08-18 10:55:41.981] [info] Elapsed time for optical element: 696.5247 ms\n",
      "[2025-08-18 10:55:42.019] [info] Simulation finished in 5.453252996 seconds\n",
      "[2025-08-18 10:55:42.290] [info] Running simulation /mnt/d/rave-sim-main/rave-sim-main/output/2025/08/20250818_105530262061/00000002\n",
      "[2025-08-18 10:55:42.633] [info] Simulating optical element 1/4\n",
      "[2025-08-18 10:55:43.605] [info] Elapsed time for optical element: 896.54395 ms\n",
      "[2025-08-18 10:55:43.605] [info] Simulating optical element 2/4\n",
      "[2025-08-18 10:55:43.629] [info] Elapsed time for optical element: 22.189856 ms\n",
      "[2025-08-18 10:55:43.648] [info] Simulating optical element 3/4\n",
      "[2025-08-18 10:55:43.908] [info] Elapsed time for optical element: 239.56297 ms\n",
      "[2025-08-18 10:55:43.930] [info] Simulating optical element 4/4\n",
      "[2025-08-18 10:55:44.674] [info] Elapsed time for optical element: 686.9676 ms\n",
      "[2025-08-18 10:55:44.676] [info] Running phase step 2/5\n",
      "[2025-08-18 10:55:44.678] [info] Simulating optical element 4/4\n",
      "[2025-08-18 10:55:45.414] [info] Elapsed time for optical element: 678.896 ms\n",
      "[2025-08-18 10:55:45.416] [info] Running phase step 3/5\n",
      "[2025-08-18 10:55:45.418] [info] Simulating optical element 4/4\n",
      "[2025-08-18 10:55:46.162] [info] Elapsed time for optical element: 686.48694 ms\n",
      "[2025-08-18 10:55:46.164] [info] Running phase step 4/5\n",
      "[2025-08-18 10:55:46.166] [info] Simulating optical element 4/4\n",
      "[2025-08-18 10:55:46.909] [info] Elapsed time for optical element: 685.0581 ms\n",
      "[2025-08-18 10:55:46.911] [info] Running phase step 5/5\n",
      "[2025-08-18 10:55:46.911] [info] Simulating optical element 4/4\n"
     ]
    },
    {
     "name": "stderr",
     "output_type": "stream",
     "text": [
      " 30%|█████████████████████████▏                                                          | 3/10 [00:16<00:39,  5.67s/it]"
     ]
    },
    {
     "name": "stdout",
     "output_type": "stream",
     "text": [
      "[2025-08-18 10:55:47.649] [info] Elapsed time for optical element: 681.35754 ms\n",
      "[2025-08-18 10:55:47.664] [info] Simulation finished in 5.37401489 seconds\n",
      "[2025-08-18 10:55:47.934] [info] Running simulation /mnt/d/rave-sim-main/rave-sim-main/output/2025/08/20250818_105530262061/00000003\n",
      "[2025-08-18 10:55:48.303] [info] Simulating optical element 1/4\n",
      "[2025-08-18 10:55:49.323] [info] Elapsed time for optical element: 941.4931 ms\n",
      "[2025-08-18 10:55:49.323] [info] Simulating optical element 2/4\n",
      "[2025-08-18 10:55:49.348] [info] Elapsed time for optical element: 22.36976 ms\n",
      "[2025-08-18 10:55:49.367] [info] Simulating optical element 3/4\n",
      "[2025-08-18 10:55:49.629] [info] Elapsed time for optical element: 241.93427 ms\n",
      "[2025-08-18 10:55:49.651] [info] Simulating optical element 4/4\n",
      "[2025-08-18 10:55:50.405] [info] Elapsed time for optical element: 695.7611 ms\n",
      "[2025-08-18 10:55:50.407] [info] Running phase step 2/5\n",
      "[2025-08-18 10:55:50.410] [info] Simulating optical element 4/4\n",
      "[2025-08-18 10:55:51.154] [info] Elapsed time for optical element: 687.4327 ms\n",
      "[2025-08-18 10:55:51.157] [info] Running phase step 3/5\n",
      "[2025-08-18 10:55:51.159] [info] Simulating optical element 4/4\n",
      "[2025-08-18 10:55:51.911] [info] Elapsed time for optical element: 693.8501 ms\n",
      "[2025-08-18 10:55:51.913] [info] Running phase step 4/5\n",
      "[2025-08-18 10:55:51.915] [info] Simulating optical element 4/4\n",
      "[2025-08-18 10:55:52.667] [info] Elapsed time for optical element: 694.3415 ms\n",
      "[2025-08-18 10:55:52.669] [info] Running phase step 5/5\n",
      "[2025-08-18 10:55:52.669] [info] Simulating optical element 4/4\n"
     ]
    },
    {
     "name": "stderr",
     "output_type": "stream",
     "text": [
      " 40%|█████████████████████████████████▌                                                  | 4/10 [00:22<00:34,  5.70s/it]"
     ]
    },
    {
     "name": "stdout",
     "output_type": "stream",
     "text": [
      "[2025-08-18 10:55:53.417] [info] Elapsed time for optical element: 689.65674 ms\n",
      "[2025-08-18 10:55:53.430] [info] Simulation finished in 5.496789334 seconds\n",
      "[2025-08-18 10:55:53.696] [info] Running simulation /mnt/d/rave-sim-main/rave-sim-main/output/2025/08/20250818_105530262061/00000004\n",
      "[2025-08-18 10:55:54.031] [info] Simulating optical element 1/4\n",
      "[2025-08-18 10:55:55.006] [info] Elapsed time for optical element: 900.1346 ms\n",
      "[2025-08-18 10:55:55.006] [info] Simulating optical element 2/4\n",
      "[2025-08-18 10:55:55.030] [info] Elapsed time for optical element: 22.347584 ms\n",
      "[2025-08-18 10:55:55.050] [info] Simulating optical element 3/4\n",
      "[2025-08-18 10:55:55.311] [info] Elapsed time for optical element: 241.297 ms\n",
      "[2025-08-18 10:55:55.333] [info] Simulating optical element 4/4\n",
      "[2025-08-18 10:55:56.084] [info] Elapsed time for optical element: 692.73474 ms\n",
      "[2025-08-18 10:55:56.086] [info] Running phase step 2/5\n",
      "[2025-08-18 10:55:56.088] [info] Simulating optical element 4/4\n",
      "[2025-08-18 10:55:56.831] [info] Elapsed time for optical element: 685.6409 ms\n",
      "[2025-08-18 10:55:56.833] [info] Running phase step 3/5\n",
      "[2025-08-18 10:55:56.836] [info] Simulating optical element 4/4\n",
      "[2025-08-18 10:55:57.585] [info] Elapsed time for optical element: 691.3669 ms\n",
      "[2025-08-18 10:55:57.587] [info] Running phase step 4/5\n",
      "[2025-08-18 10:55:57.589] [info] Simulating optical element 4/4\n",
      "[2025-08-18 10:55:58.338] [info] Elapsed time for optical element: 691.4437 ms\n",
      "[2025-08-18 10:55:58.340] [info] Running phase step 5/5\n",
      "[2025-08-18 10:55:58.340] [info] Simulating optical element 4/4\n"
     ]
    },
    {
     "name": "stderr",
     "output_type": "stream",
     "text": [
      " 50%|██████████████████████████████████████████                                          | 5/10 [00:28<00:28,  5.69s/it]"
     ]
    },
    {
     "name": "stdout",
     "output_type": "stream",
     "text": [
      "[2025-08-18 10:55:59.086] [info] Elapsed time for optical element: 687.9756 ms\n",
      "[2025-08-18 10:55:59.100] [info] Simulation finished in 5.404233336 seconds\n",
      "[2025-08-18 10:55:59.364] [info] Running simulation /mnt/d/rave-sim-main/rave-sim-main/output/2025/08/20250818_105530262061/00000005\n",
      "[2025-08-18 10:55:59.696] [info] Simulating optical element 1/4\n",
      "[2025-08-18 10:56:00.668] [info] Elapsed time for optical element: 896.94714 ms\n",
      "[2025-08-18 10:56:00.668] [info] Simulating optical element 2/4\n",
      "[2025-08-18 10:56:00.692] [info] Elapsed time for optical element: 22.25824 ms\n",
      "[2025-08-18 10:56:00.711] [info] Simulating optical element 3/4\n",
      "[2025-08-18 10:56:00.972] [info] Elapsed time for optical element: 240.67879 ms\n",
      "[2025-08-18 10:56:00.994] [info] Simulating optical element 4/4\n",
      "[2025-08-18 10:56:01.745] [info] Elapsed time for optical element: 693.1574 ms\n",
      "[2025-08-18 10:56:01.747] [info] Running phase step 2/5\n",
      "[2025-08-18 10:56:01.750] [info] Simulating optical element 4/4\n",
      "[2025-08-18 10:56:02.491] [info] Elapsed time for optical element: 684.00635 ms\n",
      "[2025-08-18 10:56:02.493] [info] Running phase step 3/5\n",
      "[2025-08-18 10:56:02.495] [info] Simulating optical element 4/4\n",
      "[2025-08-18 10:56:03.243] [info] Elapsed time for optical element: 690.698 ms\n",
      "[2025-08-18 10:56:03.246] [info] Running phase step 4/5\n",
      "[2025-08-18 10:56:03.248] [info] Simulating optical element 4/4\n",
      "[2025-08-18 10:56:03.996] [info] Elapsed time for optical element: 690.52136 ms\n",
      "[2025-08-18 10:56:03.998] [info] Running phase step 5/5\n",
      "[2025-08-18 10:56:03.998] [info] Simulating optical element 4/4\n"
     ]
    },
    {
     "name": "stderr",
     "output_type": "stream",
     "text": [
      " 60%|██████████████████████████████████████████████████▍                                 | 6/10 [00:34<00:22,  5.68s/it]"
     ]
    },
    {
     "name": "stdout",
     "output_type": "stream",
     "text": [
      "[2025-08-18 10:56:04.743] [info] Elapsed time for optical element: 687.43787 ms\n",
      "[2025-08-18 10:56:04.755] [info] Simulation finished in 5.390806867 seconds\n",
      "[2025-08-18 10:56:05.019] [info] Running simulation /mnt/d/rave-sim-main/rave-sim-main/output/2025/08/20250818_105530262061/00000006\n",
      "[2025-08-18 10:56:05.368] [info] Simulating optical element 1/4\n",
      "[2025-08-18 10:56:06.327] [info] Elapsed time for optical element: 911.3993 ms\n",
      "[2025-08-18 10:56:06.327] [info] Simulating optical element 2/4\n",
      "[2025-08-18 10:56:06.353] [info] Elapsed time for optical element: 25.155231 ms\n",
      "[2025-08-18 10:56:06.373] [info] Simulating optical element 3/4\n",
      "[2025-08-18 10:56:06.632] [info] Elapsed time for optical element: 259.47528 ms\n",
      "[2025-08-18 10:56:06.656] [info] Simulating optical element 4/4\n",
      "[2025-08-18 10:56:07.384] [info] Elapsed time for optical element: 716.8726 ms\n",
      "[2025-08-18 10:56:07.387] [info] Running phase step 2/5\n",
      "[2025-08-18 10:56:07.389] [info] Simulating optical element 4/4\n",
      "[2025-08-18 10:56:08.133] [info] Elapsed time for optical element: 687.1294 ms\n",
      "[2025-08-18 10:56:08.135] [info] Running phase step 3/5\n",
      "[2025-08-18 10:56:08.137] [info] Simulating optical element 4/4\n",
      "[2025-08-18 10:56:08.918] [info] Elapsed time for optical element: 720.53595 ms\n",
      "[2025-08-18 10:56:08.920] [info] Running phase step 4/5\n",
      "[2025-08-18 10:56:08.923] [info] Simulating optical element 4/4\n",
      "[2025-08-18 10:56:09.672] [info] Elapsed time for optical element: 691.9207 ms\n",
      "[2025-08-18 10:56:09.675] [info] Running phase step 5/5\n",
      "[2025-08-18 10:56:09.675] [info] Simulating optical element 4/4\n"
     ]
    },
    {
     "name": "stderr",
     "output_type": "stream",
     "text": [
      " 70%|██████████████████████████████████████████████████████████▊                         | 7/10 [00:39<00:17,  5.69s/it]"
     ]
    },
    {
     "name": "stdout",
     "output_type": "stream",
     "text": [
      "[2025-08-18 10:56:10.445] [info] Elapsed time for optical element: 711.1369 ms\n",
      "[2025-08-18 10:56:10.459] [info] Simulation finished in 5.439905612 seconds\n",
      "[2025-08-18 10:56:10.730] [info] Running simulation /mnt/d/rave-sim-main/rave-sim-main/output/2025/08/20250818_105530262061/00000007\n",
      "[2025-08-18 10:56:11.077] [info] Simulating optical element 1/4\n",
      "[2025-08-18 10:56:12.105] [info] Elapsed time for optical element: 948.57684 ms\n",
      "[2025-08-18 10:56:12.105] [info] Simulating optical element 2/4\n",
      "[2025-08-18 10:56:12.129] [info] Elapsed time for optical element: 22.421185 ms\n",
      "[2025-08-18 10:56:12.148] [info] Simulating optical element 3/4\n",
      "[2025-08-18 10:56:12.411] [info] Elapsed time for optical element: 242.44563 ms\n",
      "[2025-08-18 10:56:12.433] [info] Simulating optical element 4/4\n",
      "[2025-08-18 10:56:13.264] [info] Elapsed time for optical element: 766.73645 ms\n",
      "[2025-08-18 10:56:13.267] [info] Running phase step 2/5\n",
      "[2025-08-18 10:56:13.269] [info] Simulating optical element 4/4\n",
      "[2025-08-18 10:56:14.013] [info] Elapsed time for optical element: 692.0061 ms\n",
      "[2025-08-18 10:56:14.015] [info] Running phase step 3/5\n",
      "[2025-08-18 10:56:14.017] [info] Simulating optical element 4/4\n",
      "[2025-08-18 10:56:14.735] [info] Elapsed time for optical element: 718.2927 ms\n",
      "[2025-08-18 10:56:14.737] [info] Running phase step 4/5\n",
      "[2025-08-18 10:56:14.740] [info] Simulating optical element 4/4\n",
      "[2025-08-18 10:56:12.075] [info] Elapsed time for optical element: 695.29456 ms\n",
      "[2025-08-18 10:56:12.077] [info] Running phase step 5/5\n",
      "[2025-08-18 10:56:12.077] [info] Simulating optical element 4/4\n"
     ]
    },
    {
     "name": "stderr",
     "output_type": "stream",
     "text": [
      " 80%|███████████████████████████████████████████████████████████████████▏                | 8/10 [00:42<00:09,  4.62s/it]"
     ]
    },
    {
     "name": "stdout",
     "output_type": "stream",
     "text": [
      "[2025-08-18 10:56:12.786] [info] Elapsed time for optical element: 708.66345 ms\n",
      "[2025-08-18 10:56:12.798] [info] Simulation finished in 5.428322138 seconds\n",
      "[2025-08-18 10:56:13.045] [info] Running simulation /mnt/d/rave-sim-main/rave-sim-main/output/2025/08/20250818_105530262061/00000008\n",
      "[2025-08-18 10:56:13.365] [info] Simulating optical element 1/4\n",
      "[2025-08-18 10:56:14.292] [info] Elapsed time for optical element: 926.6685 ms\n",
      "[2025-08-18 10:56:14.292] [info] Simulating optical element 2/4\n",
      "[2025-08-18 10:56:14.315] [info] Elapsed time for optical element: 23.448 ms\n",
      "[2025-08-18 10:56:14.333] [info] Simulating optical element 3/4\n",
      "[2025-08-18 10:56:14.578] [info] Elapsed time for optical element: 245.19815 ms\n",
      "[2025-08-18 10:56:14.599] [info] Simulating optical element 4/4\n",
      "[2025-08-18 10:56:15.296] [info] Elapsed time for optical element: 697.2043 ms\n",
      "[2025-08-18 10:56:15.298] [info] Running phase step 2/5\n",
      "[2025-08-18 10:56:15.300] [info] Simulating optical element 4/4\n",
      "[2025-08-18 10:56:16.020] [info] Elapsed time for optical element: 703.25165 ms\n",
      "[2025-08-18 10:56:16.022] [info] Running phase step 3/5\n",
      "[2025-08-18 10:56:16.024] [info] Simulating optical element 4/4\n",
      "[2025-08-18 10:56:16.762] [info] Elapsed time for optical element: 695.613 ms\n",
      "[2025-08-18 10:56:16.764] [info] Running phase step 4/5\n",
      "[2025-08-18 10:56:16.766] [info] Simulating optical element 4/4\n",
      "[2025-08-18 10:56:17.504] [info] Elapsed time for optical element: 695.354 ms\n",
      "[2025-08-18 10:56:17.506] [info] Running phase step 5/5\n",
      "[2025-08-18 10:56:17.506] [info] Simulating optical element 4/4\n"
     ]
    },
    {
     "name": "stderr",
     "output_type": "stream",
     "text": [
      " 90%|███████████████████████████████████████████████████████████████████████████▌        | 9/10 [00:47<00:04,  4.91s/it]"
     ]
    },
    {
     "name": "stdout",
     "output_type": "stream",
     "text": [
      "[2025-08-18 10:56:18.312] [info] Elapsed time for optical element: 759.6903 ms\n",
      "[2025-08-18 10:56:18.324] [info] Simulation finished in 5.279782513 seconds\n",
      "[2025-08-18 10:56:18.585] [info] Running simulation /mnt/d/rave-sim-main/rave-sim-main/output/2025/08/20250818_105530262061/00000009\n",
      "[2025-08-18 10:56:18.928] [info] Simulating optical element 1/4\n",
      "[2025-08-18 10:56:19.923] [info] Elapsed time for optical element: 937.18024 ms\n",
      "[2025-08-18 10:56:19.923] [info] Simulating optical element 2/4\n",
      "[2025-08-18 10:56:19.951] [info] Elapsed time for optical element: 26.264448 ms\n",
      "[2025-08-18 10:56:19.973] [info] Simulating optical element 3/4\n",
      "[2025-08-18 10:56:20.242] [info] Elapsed time for optical element: 253.54623 ms\n",
      "[2025-08-18 10:56:20.264] [info] Simulating optical element 4/4\n",
      "[2025-08-18 10:56:21.006] [info] Elapsed time for optical element: 698.6436 ms\n",
      "[2025-08-18 10:56:21.008] [info] Running phase step 2/5\n",
      "[2025-08-18 10:56:21.010] [info] Simulating optical element 4/4\n",
      "[2025-08-18 10:56:21.745] [info] Elapsed time for optical element: 692.5928 ms\n",
      "[2025-08-18 10:56:21.747] [info] Running phase step 3/5\n",
      "[2025-08-18 10:56:21.749] [info] Simulating optical element 4/4\n",
      "[2025-08-18 10:56:22.489] [info] Elapsed time for optical element: 697.4093 ms\n",
      "[2025-08-18 10:56:22.491] [info] Running phase step 4/5\n",
      "[2025-08-18 10:56:22.493] [info] Simulating optical element 4/4\n",
      "[2025-08-18 10:56:23.233] [info] Elapsed time for optical element: 696.87366 ms\n",
      "[2025-08-18 10:56:23.235] [info] Running phase step 5/5\n",
      "[2025-08-18 10:56:23.235] [info] Simulating optical element 4/4\n"
     ]
    },
    {
     "name": "stderr",
     "output_type": "stream",
     "text": [
      "100%|███████████████████████████████████████████████████████████████████████████████████| 10/10 [00:53<00:00,  5.33s/it]\n",
      "2025-08-18 10:56:24,090 INFO: Setting up simulation\n"
     ]
    },
    {
     "name": "stdout",
     "output_type": "stream",
     "text": [
      "[2025-08-18 10:56:23.971] [info] Elapsed time for optical element: 693.8051 ms\n",
      "[2025-08-18 10:56:24.008] [info] Simulation finished in 5.422960716 seconds\n"
     ]
    },
    {
     "name": "stderr",
     "output_type": "stream",
     "text": [
      "2025-08-18 10:56:26,064 INFO: Finished setting up simulation in /mnt/d/rave-sim-main/rave-sim-main/output/2025/08/20250818_105625574549\n",
      "  0%|                                                                                            | 0/10 [00:00<?, ?it/s]"
     ]
    },
    {
     "name": "stdout",
     "output_type": "stream",
     "text": [
      "[2025-08-18 10:56:26.256] [info] Running simulation /mnt/d/rave-sim-main/rave-sim-main/output/2025/08/20250818_105625574549/00000000\n",
      "[2025-08-18 10:56:26.646] [info] Simulating optical element 1/4\n",
      "[2025-08-18 10:56:27.676] [info] Elapsed time for optical element: 950.25385 ms\n",
      "[2025-08-18 10:56:27.676] [info] Simulating optical element 2/4\n",
      "[2025-08-18 10:56:27.700] [info] Elapsed time for optical element: 22.396864 ms\n",
      "[2025-08-18 10:56:27.720] [info] Simulating optical element 3/4\n",
      "[2025-08-18 10:56:27.983] [info] Elapsed time for optical element: 243.04384 ms\n",
      "[2025-08-18 10:56:28.005] [info] Simulating optical element 4/4\n",
      "[2025-08-18 10:56:28.762] [info] Elapsed time for optical element: 698.06647 ms\n",
      "[2025-08-18 10:56:28.764] [info] Running phase step 2/5\n",
      "[2025-08-18 10:56:28.766] [info] Simulating optical element 4/4\n",
      "[2025-08-18 10:56:29.535] [info] Elapsed time for optical element: 709.1344 ms\n",
      "[2025-08-18 10:56:29.537] [info] Running phase step 3/5\n",
      "[2025-08-18 10:56:29.539] [info] Simulating optical element 4/4\n",
      "[2025-08-18 10:56:30.307] [info] Elapsed time for optical element: 709.0215 ms\n",
      "[2025-08-18 10:56:30.309] [info] Running phase step 4/5\n",
      "[2025-08-18 10:56:30.312] [info] Simulating optical element 4/4\n",
      "[2025-08-18 10:56:31.103] [info] Elapsed time for optical element: 730.4913 ms\n",
      "[2025-08-18 10:56:31.105] [info] Running phase step 5/5\n",
      "[2025-08-18 10:56:31.105] [info] Simulating optical element 4/4\n"
     ]
    },
    {
     "name": "stderr",
     "output_type": "stream",
     "text": [
      " 10%|████████▍                                                                           | 1/10 [00:05<00:53,  5.93s/it]"
     ]
    },
    {
     "name": "stdout",
     "output_type": "stream",
     "text": [
      "[2025-08-18 10:56:31.886] [info] Elapsed time for optical element: 720.4829 ms\n",
      "[2025-08-18 10:56:31.901] [info] Simulation finished in 5.64467997 seconds\n",
      "[2025-08-18 10:56:32.192] [info] Running simulation /mnt/d/rave-sim-main/rave-sim-main/output/2025/08/20250818_105625574549/00000001\n",
      "[2025-08-18 10:56:32.538] [info] Simulating optical element 1/4\n",
      "[2025-08-18 10:56:33.574] [info] Elapsed time for optical element: 956.2159 ms\n",
      "[2025-08-18 10:56:33.574] [info] Simulating optical element 2/4\n",
      "[2025-08-18 10:56:33.598] [info] Elapsed time for optical element: 22.429024 ms\n",
      "[2025-08-18 10:56:33.618] [info] Simulating optical element 3/4\n",
      "[2025-08-18 10:56:33.883] [info] Elapsed time for optical element: 244.68797 ms\n",
      "[2025-08-18 10:56:33.905] [info] Simulating optical element 4/4\n",
      "[2025-08-18 10:56:34.723] [info] Elapsed time for optical element: 754.49207 ms\n",
      "[2025-08-18 10:56:34.726] [info] Running phase step 2/5\n",
      "[2025-08-18 10:56:34.728] [info] Simulating optical element 4/4\n",
      "[2025-08-18 10:56:35.520] [info] Elapsed time for optical element: 730.24884 ms\n",
      "[2025-08-18 10:56:35.522] [info] Running phase step 3/5\n",
      "[2025-08-18 10:56:35.524] [info] Simulating optical element 4/4\n",
      "[2025-08-18 10:56:36.313] [info] Elapsed time for optical element: 728.61224 ms\n",
      "[2025-08-18 10:56:36.316] [info] Running phase step 4/5\n",
      "[2025-08-18 10:56:36.318] [info] Simulating optical element 4/4\n",
      "[2025-08-18 10:56:37.079] [info] Elapsed time for optical element: 702.8984 ms\n",
      "[2025-08-18 10:56:37.081] [info] Running phase step 5/5\n",
      "[2025-08-18 10:56:37.081] [info] Simulating optical element 4/4\n"
     ]
    },
    {
     "name": "stderr",
     "output_type": "stream",
     "text": [
      " 20%|████████████████▊                                                                   | 2/10 [00:11<00:47,  5.94s/it]"
     ]
    },
    {
     "name": "stdout",
     "output_type": "stream",
     "text": [
      "[2025-08-18 10:56:37.839] [info] Elapsed time for optical element: 699.3099 ms\n",
      "[2025-08-18 10:56:37.852] [info] Simulation finished in 5.660225571 seconds\n",
      "[2025-08-18 10:56:38.122] [info] Running simulation /mnt/d/rave-sim-main/rave-sim-main/output/2025/08/20250818_105625574549/00000002\n",
      "[2025-08-18 10:56:38.483] [info] Simulating optical element 1/4\n",
      "[2025-08-18 10:56:39.454] [info] Elapsed time for optical element: 896.5276 ms\n",
      "[2025-08-18 10:56:39.454] [info] Simulating optical element 2/4\n",
      "[2025-08-18 10:56:39.479] [info] Elapsed time for optical element: 22.238337 ms\n",
      "[2025-08-18 10:56:39.498] [info] Simulating optical element 3/4\n",
      "[2025-08-18 10:56:39.757] [info] Elapsed time for optical element: 239.436 ms\n",
      "[2025-08-18 10:56:39.779] [info] Simulating optical element 4/4\n",
      "[2025-08-18 10:56:40.525] [info] Elapsed time for optical element: 688.358 ms\n",
      "[2025-08-18 10:56:40.527] [info] Running phase step 2/5\n",
      "[2025-08-18 10:56:40.529] [info] Simulating optical element 4/4\n",
      "[2025-08-18 10:56:41.255] [info] Elapsed time for optical element: 680.987 ms\n",
      "[2025-08-18 10:56:41.257] [info] Running phase step 3/5\n",
      "[2025-08-18 10:56:41.259] [info] Simulating optical element 4/4\n",
      "[2025-08-18 10:56:41.963] [info] Elapsed time for optical element: 686.77124 ms\n",
      "[2025-08-18 10:56:41.965] [info] Running phase step 4/5\n",
      "[2025-08-18 10:56:41.967] [info] Simulating optical element 4/4\n",
      "[2025-08-18 10:56:42.700] [info] Elapsed time for optical element: 711.4403 ms\n",
      "[2025-08-18 10:56:42.702] [info] Running phase step 5/5\n",
      "[2025-08-18 10:56:42.702] [info] Simulating optical element 4/4\n"
     ]
    },
    {
     "name": "stderr",
     "output_type": "stream",
     "text": [
      " 30%|█████████████████████████▏                                                          | 3/10 [00:17<00:40,  5.78s/it]"
     ]
    },
    {
     "name": "stdout",
     "output_type": "stream",
     "text": [
      "[2025-08-18 10:56:43.437] [info] Elapsed time for optical element: 711.7841 ms\n",
      "[2025-08-18 10:56:43.451] [info] Simulation finished in 5.328964676 seconds\n",
      "[2025-08-18 10:56:43.710] [info] Running simulation /mnt/d/rave-sim-main/rave-sim-main/output/2025/08/20250818_105625574549/00000003\n",
      "[2025-08-18 10:56:42.189] [info] Simulating optical element 1/4\n",
      "[2025-08-18 10:56:43.186] [info] Elapsed time for optical element: 966.8037 ms\n",
      "[2025-08-18 10:56:43.186] [info] Simulating optical element 2/4\n",
      "[2025-08-18 10:56:43.213] [info] Elapsed time for optical element: 25.957664 ms\n",
      "[2025-08-18 10:56:43.232] [info] Simulating optical element 3/4\n",
      "[2025-08-18 10:56:43.499] [info] Elapsed time for optical element: 258.7605 ms\n",
      "[2025-08-18 10:56:43.523] [info] Simulating optical element 4/4\n",
      "[2025-08-18 10:56:44.287] [info] Elapsed time for optical element: 740.0027 ms\n",
      "[2025-08-18 10:56:44.289] [info] Running phase step 2/5\n",
      "[2025-08-18 10:56:44.291] [info] Simulating optical element 4/4\n",
      "[2025-08-18 10:56:45.051] [info] Elapsed time for optical element: 737.18555 ms\n",
      "[2025-08-18 10:56:45.053] [info] Running phase step 3/5\n",
      "[2025-08-18 10:56:45.055] [info] Simulating optical element 4/4\n",
      "[2025-08-18 10:56:45.832] [info] Elapsed time for optical element: 752.62506 ms\n",
      "[2025-08-18 10:56:45.834] [info] Running phase step 4/5\n",
      "[2025-08-18 10:56:45.836] [info] Simulating optical element 4/4\n",
      "[2025-08-18 10:56:46.596] [info] Elapsed time for optical element: 736.601 ms\n",
      "[2025-08-18 10:56:46.598] [info] Running phase step 5/5\n",
      "[2025-08-18 10:56:46.598] [info] Simulating optical element 4/4\n"
     ]
    },
    {
     "name": "stderr",
     "output_type": "stream",
     "text": [
      " 40%|█████████████████████████████████▌                                                  | 4/10 [00:21<00:30,  5.05s/it]"
     ]
    },
    {
     "name": "stdout",
     "output_type": "stream",
     "text": [
      "[2025-08-18 10:56:47.364] [info] Elapsed time for optical element: 742.90027 ms\n",
      "[2025-08-18 10:56:47.377] [info] Simulation finished in 5.5269244 seconds\n",
      "[2025-08-18 10:56:47.637] [info] Running simulation /mnt/d/rave-sim-main/rave-sim-main/output/2025/08/20250818_105625574549/00000004\n",
      "[2025-08-18 10:56:48.015] [info] Simulating optical element 1/4\n",
      "[2025-08-18 10:56:49.043] [info] Elapsed time for optical element: 996.31433 ms\n",
      "[2025-08-18 10:56:49.043] [info] Simulating optical element 2/4\n",
      "[2025-08-18 10:56:49.070] [info] Elapsed time for optical element: 26.442432 ms\n",
      "[2025-08-18 10:56:49.091] [info] Simulating optical element 3/4\n",
      "[2025-08-18 10:56:49.391] [info] Elapsed time for optical element: 289.98273 ms\n",
      "[2025-08-18 10:56:49.412] [info] Simulating optical element 4/4\n",
      "[2025-08-18 10:56:50.196] [info] Elapsed time for optical element: 733.5814 ms\n",
      "[2025-08-18 10:56:50.199] [info] Running phase step 2/5\n",
      "[2025-08-18 10:56:50.201] [info] Simulating optical element 4/4\n",
      "[2025-08-18 10:56:50.955] [info] Elapsed time for optical element: 695.65356 ms\n",
      "[2025-08-18 10:56:50.957] [info] Running phase step 3/5\n",
      "[2025-08-18 10:56:50.959] [info] Simulating optical element 4/4\n",
      "[2025-08-18 10:56:51.771] [info] Elapsed time for optical element: 749.6975 ms\n",
      "[2025-08-18 10:56:51.774] [info] Running phase step 4/5\n",
      "[2025-08-18 10:56:51.776] [info] Simulating optical element 4/4\n",
      "[2025-08-18 10:56:52.556] [info] Elapsed time for optical element: 720.47894 ms\n",
      "[2025-08-18 10:56:52.559] [info] Running phase step 5/5\n",
      "[2025-08-18 10:56:52.559] [info] Simulating optical element 4/4\n"
     ]
    },
    {
     "name": "stderr",
     "output_type": "stream",
     "text": [
      " 50%|██████████████████████████████████████████                                          | 5/10 [00:27<00:26,  5.38s/it]"
     ]
    },
    {
     "name": "stdout",
     "output_type": "stream",
     "text": [
      "[2025-08-18 10:56:53.340] [info] Elapsed time for optical element: 721.47864 ms\n",
      "[2025-08-18 10:56:53.354] [info] Simulation finished in 5.717263978 seconds\n",
      "[2025-08-18 10:56:53.623] [info] Running simulation /mnt/d/rave-sim-main/rave-sim-main/output/2025/08/20250818_105625574549/00000005\n",
      "[2025-08-18 10:56:53.977] [info] Simulating optical element 1/4\n",
      "[2025-08-18 10:56:54.950] [info] Elapsed time for optical element: 898.28784 ms\n",
      "[2025-08-18 10:56:54.950] [info] Simulating optical element 2/4\n",
      "[2025-08-18 10:56:54.975] [info] Elapsed time for optical element: 22.414751 ms\n",
      "[2025-08-18 10:56:54.994] [info] Simulating optical element 3/4\n",
      "[2025-08-18 10:56:55.255] [info] Elapsed time for optical element: 241.28758 ms\n",
      "[2025-08-18 10:56:55.277] [info] Simulating optical element 4/4\n",
      "[2025-08-18 10:56:56.029] [info] Elapsed time for optical element: 694.1067 ms\n",
      "[2025-08-18 10:56:56.031] [info] Running phase step 2/5\n",
      "[2025-08-18 10:56:56.034] [info] Simulating optical element 4/4\n",
      "[2025-08-18 10:56:56.777] [info] Elapsed time for optical element: 685.73865 ms\n",
      "[2025-08-18 10:56:56.779] [info] Running phase step 3/5\n",
      "[2025-08-18 10:56:56.781] [info] Simulating optical element 4/4\n",
      "[2025-08-18 10:56:57.532] [info] Elapsed time for optical element: 692.3764 ms\n",
      "[2025-08-18 10:56:57.534] [info] Running phase step 4/5\n",
      "[2025-08-18 10:56:57.536] [info] Simulating optical element 4/4\n",
      "[2025-08-18 10:56:58.286] [info] Elapsed time for optical element: 692.27576 ms\n",
      "[2025-08-18 10:56:58.288] [info] Running phase step 5/5\n",
      "[2025-08-18 10:56:58.288] [info] Simulating optical element 4/4\n"
     ]
    },
    {
     "name": "stderr",
     "output_type": "stream",
     "text": [
      " 60%|██████████████████████████████████████████████████▍                                 | 6/10 [00:33<00:21,  5.49s/it]"
     ]
    },
    {
     "name": "stdout",
     "output_type": "stream",
     "text": [
      "[2025-08-18 10:56:59.034] [info] Elapsed time for optical element: 687.98114 ms\n",
      "[2025-08-18 10:56:59.050] [info] Simulation finished in 5.42678728 seconds\n",
      "[2025-08-18 10:56:59.324] [info] Running simulation /mnt/d/rave-sim-main/rave-sim-main/output/2025/08/20250818_105625574549/00000006\n",
      "[2025-08-18 10:56:59.714] [info] Simulating optical element 1/4\n",
      "[2025-08-18 10:57:00.700] [info] Elapsed time for optical element: 910.17615 ms\n",
      "[2025-08-18 10:57:00.701] [info] Simulating optical element 2/4\n",
      "[2025-08-18 10:57:00.725] [info] Elapsed time for optical element: 22.347809 ms\n",
      "[2025-08-18 10:57:00.744] [info] Simulating optical element 3/4\n",
      "[2025-08-18 10:57:01.008] [info] Elapsed time for optical element: 243.15488 ms\n",
      "[2025-08-18 10:57:01.030] [info] Simulating optical element 4/4\n",
      "[2025-08-18 10:57:01.784] [info] Elapsed time for optical element: 696.0617 ms\n",
      "[2025-08-18 10:57:01.786] [info] Running phase step 2/5\n",
      "[2025-08-18 10:57:01.788] [info] Simulating optical element 4/4\n",
      "[2025-08-18 10:57:02.535] [info] Elapsed time for optical element: 688.9861 ms\n",
      "[2025-08-18 10:57:02.537] [info] Running phase step 3/5\n",
      "[2025-08-18 10:57:02.539] [info] Simulating optical element 4/4\n",
      "[2025-08-18 10:57:03.293] [info] Elapsed time for optical element: 695.8703 ms\n",
      "[2025-08-18 10:57:03.295] [info] Running phase step 4/5\n",
      "[2025-08-18 10:57:03.297] [info] Simulating optical element 4/4\n",
      "[2025-08-18 10:57:04.051] [info] Elapsed time for optical element: 695.40314 ms\n",
      "[2025-08-18 10:57:04.053] [info] Running phase step 5/5\n",
      "[2025-08-18 10:57:04.053] [info] Simulating optical element 4/4\n"
     ]
    }
   ],
   "source": [
    "all_sims = []\n",
    "for grid_path in grid_path_g0:\n",
    "    for ss in source_sizes:\n",
    "\n",
    "        config_dict = {\n",
    "                    \"sim_params\": {\n",
    "                        \"N\": N,\n",
    "                        \"dx\": dx,\n",
    "                        \"z_detector\": z_g2 + 500e-6,\n",
    "                        \"detector_size\": 0.004,\n",
    "                        \"detector_pixel_size_x\": 1e-7,\n",
    "                        \"detector_pixel_size_y\": 1.0,\n",
    "                        \"chunk_size\": 256 * 1024 * 1024 // 16,  # use 256MB chunks\n",
    "                    },\n",
    "                    \"use_disk_vector\": False,\n",
    "                    \"save_final_u_vectors\": False,\n",
    "                    \"dtype\": \"c8\",\n",
    "                    \"multisource\": {\n",
    "                        \"type\": \"points\",\n",
    "                        \"energy_range\": [11000, 70000],\n",
    "                        \"x_range\": [-ss.item(), ss.item()],\n",
    "                        \"z\": 0.0,\n",
    "                        \"nr_source_points\": 10,\n",
    "                        \"seed\": 1,\n",
    "                        \"spectrum\": '/mnt/d/rave-sim-main/rave-sim-main/notebooks/spectrum_70_spekpy_filtered_3mmAl.h5',\n",
    "                    },\n",
    "                    \"elements\": [\n",
    "                        {\n",
    "                            \"type\": \"sample\",\n",
    "                            \"z_start\": z_g0,\n",
    "                            \"pixel_size_x\": dx_g0,\n",
    "                            \"pixel_size_z\": dz_g0,\n",
    "                            \"grid_path\": '/mnt/d/rave-sim-main/rave-sim-main/notebooks/Phase_shift_42_4.npy',\n",
    "                            \"materials\": [[\"Au\", 19.32],[\"C5H8O2\", 1.19]],\n",
    "                            \"x_positions\": [0.0],\n",
    "                        },\n",
    "                        {\n",
    "                            \"type\": \"grating\",\n",
    "                            \"pitch\": 4.2*1e-6,\n",
    "                            \"dc\": [1.0, 1.0],\n",
    "                            \"z_start\": z_g0 + 180*1e-6,\n",
    "                            \"thickness\": 500*1e-6 - h0,\n",
    "                            \"nr_steps\": 1,\n",
    "                            \"x_positions\": [0.0],\n",
    "                            \"substrate_thickness\": 0.0,\n",
    "                            \"mat_a\": [\"C\", 2.26],\n",
    "                            \"mat_b\": None,\n",
    "                            \"mat_substrate\": None\n",
    "                        },           \n",
    "                        {\n",
    "                            \"type\": \"grating\",\n",
    "                            \"pitch\": p1,\n",
    "                            \"dc\": [0.5, 0.5],\n",
    "                            \"z_start\": z_g1,\n",
    "                            \"thickness\": h1,\n",
    "                            \"nr_steps\": 10,\n",
    "                            \"x_positions\": [0.0],\n",
    "                            \"substrate_thickness\": 200 * 1e-6 - h1,\n",
    "                            \"mat_a\": [\"Si\", 2.34],\n",
    "                            \"mat_b\": None,\n",
    "                            \"mat_substrate\": [\"Si\", 2.34],\n",
    "                        },\n",
    "                        {\n",
    "                            \"type\": \"grating\",\n",
    "                            \"pitch\": p2,\n",
    "                            \"dc\": [0.5, 0.5],\n",
    "                            \"z_start\": z_g2,\n",
    "                            \"thickness\": h2,\n",
    "                            \"nr_steps\": 30,\n",
    "                            \"x_positions\": (np.arange(5) * p2/5).tolist(),\n",
    "                            \"substrate_thickness\": 500*1e-6 - h2,\n",
    "                            \"mat_a\": [\"C5H8O2\", 1.19],\n",
    "                            \"mat_b\": [\"Au\", 19.32],\n",
    "                            \"mat_substrate\": [\"C\", 2.26],\n",
    "                        },\n",
    "                    ],\n",
    "            }\n",
    "        sim_path = multisim.setup_simulation(config_dict, Path(\".\"), simulations_dir)\n",
    "\n",
    "        for i in tqdm(range(config_dict[\"multisource\"][\"nr_source_points\"])):\n",
    "            os.system(f\"CUDA_VISIBLE_DEVICES=0 /mnt/d/rave-sim-main/rave-sim-main/fast-wave/build-Release/fastwave -s {i} {sim_path}\")\n",
    "\n",
    "        all_sims.append(sim_path)"
   ]
  },
  {
   "cell_type": "code",
   "execution_count": null,
   "id": "60ef047a-a7e6-4c39-8833-e4755923c370",
   "metadata": {},
   "outputs": [],
   "source": [
    "x_units = np.linspace(-25 * 75, 25 * 75, 50)"
   ]
  },
  {
   "cell_type": "code",
   "execution_count": null,
   "id": "0fd3a211-47d8-422e-bd52-4d83edb58afc",
   "metadata": {},
   "outputs": [],
   "source": [
    "vis_all = []\n",
    "for s_path in all_simulations:\n",
    "    sim_path = s_path\n",
    "    pxSize = 75e-6\n",
    "    config_dict = config.load(Path(str(sim_path) + '/config.yaml'))\n",
    "    sp = config_dict[\"sim_params\"]\n",
    "    detector_x = util.detector_x_vector(sp[\"detector_size\"], sp[\"detector_pixel_size_x\"])\n",
    "    pixel_rectangle = np.abs(detector_x) <= pxSize\n",
    "    \n",
    "    wavefronts_ref = util.load_wavefronts_filtered(sim_path, x_range=None, energy_range=[11000, 70000])\n",
    "    wf_ref = np.zeros_like(wavefronts_ref[0][0])\n",
    "    \n",
    "    energies = []\n",
    "    for wave in wavefronts_ref:\n",
    "        energies.append(wave[2])\n",
    "        wf_ref += wave[0] #* np.exp(-mu_h2o(wave[2])*0.2)\n",
    "    \n",
    "    phase_steps = 5\n",
    "    del wavefronts_ref\n",
    "    \n",
    "    convolved_ref = []\n",
    "    for i in range(phase_steps):\n",
    "        convolved_ref.append(np.convolve(wf_ref[i,:], pixel_rectangle, mode = 'same'))\n",
    "    \n",
    "    convolved_ref = np.asarray(convolved_ref)\n",
    "    \n",
    "    int_px, trans_ref, phase_ref, vis_ref, pxEdges = perform_binned_signal_retrieval(detector_x, convolved_ref[:, :], pxSize, phase_steps, plot_curve = False)\n",
    "    int_px, trans_orig, phase_orig, vis_orig, pxEdges = perform_binned_signal_retrieval(detector_x, wf_ref, pxSize, phase_steps, plot_curve = False)\n",
    "\n",
    "    vis_all.append(vis_ref)\n"
   ]
  },
  {
   "cell_type": "code",
   "execution_count": null,
   "id": "e0b59422-43e2-42c0-8c00-549c583b2588",
   "metadata": {},
   "outputs": [],
   "source": [
    "# matplotlib style\n",
    "plt.style.use(\"default\")\n",
    "\n",
    "# set FIGWIDTH to latex's \\textwidth\n",
    "FIGWIDTH = 3\n",
    "plt.rcParams[\"font.family\"] = \"serif\"\n",
    "plt.rcParams[\"font.size\"] = 6\n",
    "plt.rcParams[\"figure.figsize\"] = (FIGWIDTH, FIGWIDTH * 2 / 3)\n",
    "plt.rcParams[\"figure.dpi\"] = 300\n",
    "plt.rcParams[\"figure.constrained_layout.use\"] = \"True\"\n",
    "\n",
    "# images\n",
    "plt.rcParams[\"image.interpolation\"] = \"bicubic\"\n",
    "plt.rcParams[\"image.cmap\"] = \"Greys_r\"\n",
    "\n",
    "# axes\n",
    "# plt.rcParams[\"axes.spines.right\"] = False\n",
    "# plt.rcParams[\"axes.spines.top\"] = False\n",
    "plt.rcParams[\"axes.edgecolor\"] = \"0.7\"\n",
    "plt.rcParams[\"axes.linewidth\"] = \"1\"\n",
    "\n",
    "# legend\n",
    "plt.rcParams[\"legend.frameon\"] = True\n",
    "\n",
    "plt.rcParams[\"lines.markersize\"] = 3\n",
    "# plt.rcParams[\"lines.markerfacecolor\"] = \"white\"\n",
    "# Okabe-Ito palette\n",
    "plt.rcParams[\"axes.prop_cycle\"] = plt.cycler(\n",
    "    color=[\n",
    "        \"#000000\",\n",
    "        \"#E69F00\",\n",
    "        \"#56B4E9\",\n",
    "        \"#009E73\",\n",
    "        \"#F0E442\",\n",
    "        \"#0072B2\",\n",
    "        \"#D55E00\",\n",
    "        \"#CC79A7\",\n",
    "    ],\n",
    "    #marker=[\"o\", \"^\", \"s\", \"p\", \"D\", \"v\", \"v\", \"d\"],\n",
    ")\n",
    "\n",
    "plt.rcParams['axes.grid'] = False"
   ]
  },
  {
   "cell_type": "code",
   "execution_count": null,
   "id": "f309cf9c-fb46-4ed1-a39d-06f309de522f",
   "metadata": {},
   "outputs": [],
   "source": [
    "x_pixel = np.linspace(-vis_all[0].shape[0]/2 * 75, vis_all[0].shape[0]/2*75, vis_all[0].shape[0])"
   ]
  },
  {
   "cell_type": "code",
   "execution_count": null,
   "id": "057de5c0-358f-4be2-93a3-c6fa1ce7f52f",
   "metadata": {},
   "outputs": [],
   "source": [
    "source_sizes = np.array([5, 15, 50, 200])*1e-6"
   ]
  },
  {
   "cell_type": "code",
   "execution_count": null,
   "id": "6d7d2430-cb25-4f2e-8aa3-8e6dafe4f071",
   "metadata": {},
   "outputs": [],
   "source": [
    "vis_small_crack = np.load('dvis_small_crack_all.npy')\n",
    "vis_medium_crack = np.load('dvis_medium_crack_all.npy')\n",
    "vis_large_crack = np.load('dvis_large_crack_all.npy')\n",
    "\n",
    "x_units = np.linspace(-25 * 75, 25 * 75, 50)"
   ]
  },
  {
   "cell_type": "code",
   "execution_count": null,
   "id": "29c6d787-6408-4eea-a4dc-e224f71c46a3",
   "metadata": {},
   "outputs": [],
   "source": [
    "plt.figure(figsize=(3,2.5))\n",
    "for idx in range(len(source_sizes)):\n",
    "    if idx == 2:\n",
    "        continue\n",
    "    \n",
    "    plt.plot(x_pixel/1e3, vis_all[idx]*0.91, label = f\"{2*source_sizes[idx]*1e6:.2f}µm S\")\n",
    "\n",
    "plt.plot(x_pixel[2:-1]/1e3, np.mean(vis_small_crack[70:, :], axis = 0), marker = 'o', label = '10µm M', linewidth = 1.0, linestyle = ':', color = \"#000000\", markeredgecolor = 'black', markeredgewidth = 0.1)\n",
    "plt.plot(x_pixel[2:-1]/1e3, np.mean(vis_medium_crack[70:, :],axis = 0), marker = '^', label = '30µm M', linewidth = 1.0, linestyle = ':', color = \"#009E73\", markeredgecolor = 'black',  markeredgewidth = 0.2)\n",
    "plt.plot(x_pixel[2:-1]/1e3, np.mean(vis_large_crack[70:90, :], axis = 0), marker = '^', label = '400µm M', linewidth = 1.0, linestyle = ':', color = \"#0072B2\", markeredgecolor = 'black',  markeredgewidth = 0.2)\n",
    "\n",
    "\n",
    "plt.title('Visibility profile')\n",
    "plt.ylabel('Visibility', fontsize = 6)\n",
    "plt.xlabel('Distance on detector [mm]', fontsize = 6)\n",
    "plt.xlim(-1, 1)\n",
    "plt.ylim(0.033, 0.18)\n",
    "legend = plt.legend(loc = 'best', fontsize = 5, bbox_to_anchor=(0.5, 0.02, 0.5, 0.5))\n",
    "legend.get_frame().set_alpha(0.5)\n"
   ]
  },
  {
   "cell_type": "code",
   "execution_count": null,
   "id": "1467f901-0678-4cd1-9013-cc105e7ec929",
   "metadata": {},
   "outputs": [],
   "source": []
  }
 ],
 "metadata": {
  "kernelspec": {
   "display_name": "Python 3 (ipykernel)",
   "language": "python",
   "name": "python3"
  },
  "language_info": {
   "codemirror_mode": {
    "name": "ipython",
    "version": 3
   },
   "file_extension": ".py",
   "mimetype": "text/x-python",
   "name": "python",
   "nbconvert_exporter": "python",
   "pygments_lexer": "ipython3",
   "version": "3.11.9"
  }
 },
 "nbformat": 4,
 "nbformat_minor": 5
}
